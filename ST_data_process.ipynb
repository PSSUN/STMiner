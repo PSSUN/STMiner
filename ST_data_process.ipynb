{
 "cells": [
  {
   "cell_type": "code",
   "execution_count": 32,
   "metadata": {
    "tags": [
     "tools"
    ]
   },
   "outputs": [],
   "source": [
    "import numpy as np\n",
    "import pandas as pd\n",
    "import scanpy as sc\n",
    "import seaborn as sns\n",
    "import matplotlib.pyplot as plt\n",
    "\n",
    "from scipy.sparse import csr_matrix\n",
    "from scipy.stats import wasserstein_distance\n",
    "from anndata import AnnData\n",
    "\n",
    "\n",
    "def read_gem_file(file):\n",
    "    df = pd.read_csv(str(file), sep='\\t', comment='#', header=0)\n",
    "    return df\n",
    "\n",
    "\n",
    "def cos_similarity_distance(x, y):\n",
    "    '''Culculate the cosin similarity distance between two vectors'''\n",
    "    if x.shape != y.shape:\n",
    "        raise ValueError('x and y must have same dimensions.')\n",
    "    x = np.array(x)\n",
    "    y = np.array(y)\n",
    "    return 1 - np.dot(x, y) / (np.linalg.norm(x) * np.linalg.norm(y))\n",
    "\n",
    "\n",
    "def sub_index(center_index, distance, edge_index=0):\n",
    "    return center_index - distance if center_index - distance > edge_index else edge_index\n",
    "\n",
    "\n",
    "def add_index(center_index, distance, edge_index):\n",
    "    return center_index + distance + 1 if center_index + distance <= edge_index else edge_index\n",
    "\n",
    "\n",
    "def get_surround_matrix(matrix, index, distance):\n",
    "    '''Get the surrounding matrix by index'''\n",
    "    if distance < 1:\n",
    "        raise ValueError(\"The value of distance must be larger than 0\")\n",
    "    row_edge = matrix.shape[0]\n",
    "    col_edge = matrix.shape[1]\n",
    "    row_index = index[0]\n",
    "    col_index = index[1]\n",
    "    return matrix[sub_index(row_index, distance): add_index(row_index, distance, row_edge),\n",
    "                  sub_index(col_index, distance): add_index(col_index, distance, col_edge)]\n",
    "\n",
    "\n",
    "def merge_bin_coor(coor: np.ndarray, coor_min: int, bin_size: int):\n",
    "    return np.floor((coor - coor_min) / bin_size).astype(int)\n",
    "\n",
    "\n",
    "def get_bin_center(bin_coor: np.ndarray, coor_min: int, bin_size: int):\n",
    "    return bin_coor * bin_size + coor_min + int(bin_size / 2)\n",
    "\n",
    "\n",
    "def get_coor_matrix(df):\n",
    "    '''Transform gene expression df to expression matrix'''\n",
    "    count = df.loc[:, ['x', 'y', 'UMICount']].groupby(\n",
    "        ['x', 'y'], as_index=False).sum('UMICount')\n",
    "    merge_count = 20\n",
    "    bins = [np.array(range(count['x'].min(), count['x'].max()+merge_count, merge_count)),\n",
    "            np.array(range(count['y'].min(), count['y'].max()+merge_count, merge_count))]\n",
    "    matrix, xedges, yedges = np.histogram2d(x=count['x'],\n",
    "                                            y=count['y'],\n",
    "                                            weights=count['UMICount'],\n",
    "                                            bins=bins)\n",
    "    return matrix\n",
    "\n",
    "\n",
    "def find_track(df):\n",
    "    H = get_coor_matrix(df)\n",
    "    # Culculate by columns\n",
    "    col_total = []\n",
    "    for i in range(1, H.shape[1]-1):\n",
    "        dis_1 = wasserstein_distance(H[:, i], H[:, i+1])\n",
    "        dis_2 = wasserstein_distance(H[:, i], H[:, i-1])\n",
    "        wd_average = (dis_1 + dis_2)/2\n",
    "        col_total.append(wd_average)\n",
    "    # Culculate by row\n",
    "    row_total = []\n",
    "    for i in range(1, H.shape[0]-1):\n",
    "        dis_1 = wasserstein_distance(H[i, :], H[i+1, :])\n",
    "        dis_2 = wasserstein_distance(H[i, :], H[i-1, :])\n",
    "        wd_average = (dis_1 + dis_2)/2\n",
    "        row_total.append(wd_average)\n",
    "    return {'row': row_total, 'col': col_total}\n",
    "\n",
    "\n",
    "def fill_track(track_matrix):\n",
    "    '''\n",
    "    track_matrix: A matrix containing track locations with value of 1\n",
    "    '''\n",
    "    shape = track_matrix.shape\n",
    "    matrix = csr_matrix(np.zeros(shape))\n",
    "\n",
    "\n",
    "def find_undersampled_pixel(H, distance, mean_percentage=0.2):\n",
    "    '''\n",
    "    distance: The Chebyshev distance of surround_matrix to pixel location\n",
    "    mean_percentage: The percentage threshold to compare against the mean value of surround_matrix\n",
    "    '''\n",
    "    bad_matrix = np.zeros(H.shape)\n",
    "    for index, value in np.ndenumerate(H):\n",
    "        surround_matrix = get_surround_matrix(H, index, distance)\n",
    "        is_lower_than_mean = surround_matrix.mean() * mean_percentage > value\n",
    "        not_blank_region = np.median(surround_matrix) > 0\n",
    "        is_square_matrix = surround_matrix.shape[0] == surround_matrix.shape[1]\n",
    "        is_undersampled = is_lower_than_mean & is_square_matrix & not_blank_region & (\n",
    "            value > 0)\n",
    "        if is_undersampled:\n",
    "            bad_matrix[index[0], index[1]] = 1\n",
    "    return bad_matrix\n",
    "\n",
    "\n",
    "def enhance_df_info(df, bin_size=20):\n",
    "    '''Culculate the position of each merged bin.'''\n",
    "    if 'MIDCounts' in df.columns:\n",
    "        df.rename(columns={'MIDCounts': 'UMICount'}, inplace=True)\n",
    "    elif 'MIDCount' in df.columns:\n",
    "        df.rename(columns={'MIDCount': 'UMICount'}, inplace=True)\n",
    "    x_min = df['x'].min()\n",
    "    y_min = df['y'].min()\n",
    "    df['bin_x'] = merge_bin_coor(df['x'].values, x_min, bin_size)\n",
    "    df['bin_y'] = merge_bin_coor(df['y'].values, y_min, bin_size)\n",
    "    df['x_center'] = get_bin_center(df['bin_x'], x_min, bin_size)\n",
    "    df['y_center'] = get_bin_center(df['bin_y'], y_min, bin_size)\n",
    "    df['cell_id'] = df['bin_x'].astype(str) + '_' + df['bin_y'].astype(str)\n",
    "    return df\n",
    "\n",
    "\n",
    "def get_bins_genes_matrix(df):\n",
    "    '''\n",
    "    Get [bins * genes] matrix from inhanced dataframe(enhance_df_info)\\n\n",
    "    The cell_id is the id of each merged bin (size = bin_size * bin_size)\\n\n",
    "    '''\n",
    "    cells = df['cell_id'].unique()\n",
    "    genes = df['geneID'].unique()\n",
    "    cells_dict = dict(zip(cells, range(0, len(cells))))\n",
    "    genes_dict = dict(zip(genes, range(0, len(genes))))\n",
    "    rows = df['cell_id'].map(cells_dict)\n",
    "    cols = df['geneID'].map(genes_dict)\n",
    "    X = csr_matrix((df['UMICount'], (rows, cols)),\n",
    "                   shape=(cells.shape[0], genes.shape[0]),\n",
    "                   dtype=np.int32)\n",
    "    data = AnnData(X=X, dtype=np.float32)\n",
    "    data.obs['cell_id'] = cells\n",
    "    data.var['gene_ids'] = genes\n",
    "    return data\n",
    "\n",
    "\n",
    "def view_undersampled_matrix(matrix, dpi=200):\n",
    "    plt.figure(dpi=dpi)\n",
    "    sns.heatmap(matrix,\n",
    "                cmap=sns.blend_palette(['white', 'black'], as_cmap=True))\n",
    "\n",
    "\n",
    "def view_genes_matrix(matrix, dpi=200):\n",
    "    plt.figure(dpi=dpi)\n",
    "    sns.heatmap(matrix, cmap=sns.blend_palette(['white',\n",
    "                                                '#1982C4',\n",
    "                                                '#8AC926',\n",
    "                                                '#FFCA3A',\n",
    "                                                '#FF595E'], as_cmap=True))\n",
    "\n",
    "\n",
    "def normalize_gene_count(adata, exclude_highly_expressed=True, max_fraction=0.05):\n",
    "    sc.pp.normalize_total(adata,\n",
    "                          exclude_highly_expressed=exclude_highly_expressed,\n",
    "                          max_fraction=max_fraction,\n",
    "                          inplace=True)\n",
    "\n",
    "\n",
    "def clean_up_data(adata, **args):\n",
    "    if len(args.items()) == 0:\n",
    "        raise ValueError(\"None filter conditions specified.\")\n",
    "    for key, value in args.items():\n",
    "        if key == 'min_cells_for_gene':\n",
    "            sc.pp.filter_genes(adata, min_cells=value)\n",
    "        elif key == 'max_cells_for_gene':\n",
    "            sc.pp.filter_genes(adata, max_cells=value)\n",
    "        elif key == 'min_genes_for_cell':\n",
    "            sc.pp.filter_cells(adata, min_genes=value)\n",
    "        elif key == 'max_genes_for_cell':\n",
    "            sc.pp.filter_cells(adata, max_genes=value)\n"
   ]
  },
  {
   "cell_type": "code",
   "execution_count": 33,
   "metadata": {},
   "outputs": [],
   "source": [
    "df = enhance_df_info(read_gem_file('F:\\Adult.gem'))\n",
    "adata = get_bins_genes_matrix(df)"
   ]
  },
  {
   "cell_type": "code",
   "execution_count": null,
   "metadata": {},
   "outputs": [],
   "source": [
    "# QC\n",
    "sc.pp.calculate_qc_metrics(adata, inplace=True)\n",
    "clean_up_data(adata, min_cells_for_gene=10, min_genes_for_cell=100)\n",
    "normalize_gene_count(adata)\n",
    "sc.pp.log1p(adata)\n"
   ]
  },
  {
   "cell_type": "code",
   "execution_count": 36,
   "metadata": {},
   "outputs": [
    {
     "data": {
      "image/png": "[encoded data removed]",
      "text/plain": [
       "<Figure size 360x396 with 1 Axes>"
      ]
     },
     "metadata": {
      "needs_background": "light"
     },
     "output_type": "display_data"
    }
   ],
   "source": [
    "sc.pl.highest_expr_genes(adata, n_top=20, gene_symbols='gene_ids')"
   ]
  },
  {
   "cell_type": "code",
   "execution_count": 38,
   "metadata": {},
   "outputs": [],
   "source": [
    "sc.tl.pca(adata, svd_solver='arpack')\n",
    "sc.pp.neighbors(adata, n_pcs=50)\n",
    "sc.tl.umap(adata)\n",
    "sc.tl.leiden(adata)"
   ]
  },
  {
   "cell_type": "code",
   "execution_count": 19,
   "metadata": {},
   "outputs": [],
   "source": [
    "sc.tl.paga(adata, groups='clusters')"
   ]
  },
  {
   "cell_type": "code",
   "execution_count": 21,
   "metadata": {},
   "outputs": [],
   "source": [
    "sc.pl.paga(adata, plot=False)\n",
    "sc.tl.umap(adata, init_pos='paga')"
   ]
  },
  {
   "cell_type": "code",
   "execution_count": null,
   "metadata": {},
   "outputs": [],
   "source": [
    "sc.tl.rank_genes_groups(adata, 'leiden', method='t-test')\n",
    "sc.pl.rank_genes_groups(adata, n_genes=25, sharey=False)"
   ]
  }
 ],
 "metadata": {
  "kernelspec": {
   "display_name": "Python 3.9.12 ('base')",
   "language": "python",
   "name": "python3"
  },
  "language_info": {
   "codemirror_mode": {
    "name": "ipython",
    "version": 3
   },
   "file_extension": ".py",
   "mimetype": "text/x-python",
   "name": "python",
   "nbconvert_exporter": "python",
   "pygments_lexer": "ipython3",
   "version": "3.9.12"
  },
  "orig_nbformat": 4,
  "vscode": {
   "interpreter": {
    "hash": "88663499456d480d46c7df34b11eb32c15cdba655664b171fe49b4693bc922f2"
   }
  }
 },
 "nbformat": 4,
 "nbformat_minor": 2
}
