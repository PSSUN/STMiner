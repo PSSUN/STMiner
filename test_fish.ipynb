{
 "cells": [
  {
   "cell_type": "code",
   "execution_count": 4,
   "metadata": {
    "collapsed": true,
    "ExecuteTime": {
     "end_time": "2023-09-02T14:32:58.716247500Z",
     "start_time": "2023-09-02T14:32:58.710852900Z"
    }
   },
   "outputs": [],
   "source": [
    "import numpy as np\n",
    "from CustomApp.App import App\n",
    "from SPFinder import SPFinder"
   ]
  },
  {
   "cell_type": "code",
   "execution_count": null,
   "outputs": [],
   "source": [
    "sp = SPFinder()\n",
    "sp.read_10x(file='E://human/10X_Visium_hunter2021spatially_sample_C_data.h5ad')"
   ],
   "metadata": {
    "collapsed": false
   }
  },
  {
   "cell_type": "code",
   "execution_count": null,
   "outputs": [],
   "source": [
    "sp.app.run()"
   ],
   "metadata": {
    "collapsed": false
   }
  },
  {
   "cell_type": "code",
   "execution_count": null,
   "outputs": [],
   "source": [
    "from Algorithm.distance import get_exp_array\n",
    "from PIL import Image\n",
    "import numpy as np\n",
    "\n",
    "from Algorithm.distribution import array_to_list\n",
    "from sklearn import mixture\n",
    "\n",
    "\n",
    "def load_image(file):\n",
    "    image = Image.open(file)\n",
    "    image_array = np.array(image.resize(get_exp_array(sp.adata, sp.adata.var.index[0]).shape))\n",
    "\n",
    "    red_channel = image_array[:, :, 0]\n",
    "    threshold = 255\n",
    "    binary_matrix = (red_channel == threshold).astype(int)\n",
    "\n",
    "    arr = np.array(binary_matrix, dtype=np.int32)\n",
    "    result = array_to_list(arr)\n",
    "    gmm = mixture.GaussianMixture(n_components=20, max_iter=200).fit(result)\n",
    "    return gmm\n",
    "\n"
   ],
   "metadata": {
    "collapsed": false
   }
  },
  {
   "cell_type": "code",
   "execution_count": null,
   "outputs": [],
   "source": [
    "get_exp_array(sp.adata, sp.adata.var.index[0]).shape"
   ],
   "metadata": {
    "collapsed": false
   }
  },
  {
   "cell_type": "code",
   "execution_count": null,
   "outputs": [],
   "source": [
    "import seaborn as sns\n",
    "sns.heatmap((red_channel == 2))"
   ],
   "metadata": {
    "collapsed": false
   }
  },
  {
   "cell_type": "code",
   "execution_count": null,
   "outputs": [],
   "source": [
    "def get_gmm(matrix, n_comp=10):\n",
    "    arr = np.array(matrix, dtype=np.int32)\n",
    "    result = array_to_list(arr)\n",
    "    gmm = mixture.GaussianMixture(n_components=n_comp, max_iter=200).fit(result)\n",
    "    return gmm\n",
    "\n",
    "\n",
    "image = io.imread(\"E:/data/RegionC/RegionCplaqueHires.png\")\n",
    "cropped_image = cut_image(image)\n",
    "resized = transform.resize(cropped_image, get_exp_array(adata, adata.var.index[0]).shape)\n",
    "gaussian = filters.gaussian(resized, 3)\n",
    "binary = np.where(gaussian > np.percentile(gaussian, 40), 1, 0)\n",
    "gmm = get_gmm(binary, n_comp=20)"
   ],
   "metadata": {
    "collapsed": false
   }
  },
  {
   "cell_type": "code",
   "execution_count": null,
   "outputs": [],
   "source": [
    "x_min = sp.adata.obsm['spatial_real'][:,1].min()\n",
    "x_max = sp.adata.obsm['spatial_real'][:,1].max()\n",
    "y_min = sp.adata.obsm['spatial_real'][:,0].min()\n",
    "y_max = sp.adata.obsm['spatial_real'][:,0].max()\n",
    "from PIL import Image\n",
    "Image.MAX_IMAGE_PIXELS = None\n",
    "# 打开图像文件\n",
    "image = Image.open(\"E://human/GSM4838132_Visium_B_image.tif/GSM4838132_Visium_B_image.tif\")  # 替换为你的图像文件路径\n",
    "\n",
    "# 使用crop方法进行剪裁\n",
    "cropped_image = image.crop((x_min, y_min, x_max, y_max))\n",
    "\n",
    "# 保存剪裁后的图像\n",
    "cropped_image.save(\"cropped_image.tif\")  # 保存为新的文件，也可以覆盖原始文件"
   ],
   "metadata": {
    "collapsed": false
   }
  },
  {
   "cell_type": "code",
   "execution_count": null,
   "outputs": [],
   "source": [
    "sp.fit_pattern(n_top_genes=500, n_comp=50, min_cells=200)\n",
    "sp.build_distance_array()"
   ],
   "metadata": {
    "collapsed": false
   }
  },
  {
   "cell_type": "code",
   "execution_count": null,
   "outputs": [],
   "source": [
    "sp.adata.var"
   ],
   "metadata": {
    "collapsed": false
   }
  },
  {
   "cell_type": "code",
   "execution_count": null,
   "outputs": [],
   "source": [
    "sp.cluster_gene(n_clusters=7, mds_components=20)"
   ],
   "metadata": {
    "collapsed": false
   }
  },
  {
   "cell_type": "code",
   "execution_count": null,
   "outputs": [],
   "source": [
    "from sklearn.metrics import davies_bouldin_score, calinski_harabasz_score\n",
    "from sklearn.metrics import silhouette_score\n",
    "\n",
    "db = {}\n",
    "ch = {}\n",
    "si = {}\n",
    "for i in range(2, 12):\n",
    "    sp.cluster_gene(n_clusters=i, mds_components=20)\n",
    "    db[i] = 1 / davies_bouldin_score(sp.genes_distance_array, sp.kmeans_fit_result.labels_)\n",
    "    ch[i] = calinski_harabasz_score(sp.genes_distance_array, sp.kmeans_fit_result.labels_)\n",
    "    si[i] = silhouette_score(sp.genes_distance_array, sp.kmeans_fit_result.labels_)\n"
   ],
   "metadata": {
    "collapsed": false
   }
  },
  {
   "cell_type": "code",
   "execution_count": null,
   "outputs": [],
   "source": [
    "import pandas as pd\n",
    "import seaborn as sns\n",
    "import matplotlib.pyplot as plt\n",
    "index = pd.DataFrame([db,si,ch], index=['1/db','si','ch']).T\n",
    "index_1 = (index-index.min()) / (index.max() - index.min())\n",
    "sns.lineplot(index_1, markers=True)\n",
    "plt.xticks(list(range(2, 12, 1)))\n",
    "plt.xlabel(\"Number of Clusters\")\n",
    "plt.ylabel(\"Normalized Score\")\n",
    "plt.title(\"Evaluate Clustering Performance\")\n",
    "plt.show()"
   ],
   "metadata": {
    "collapsed": false
   }
  },
  {
   "cell_type": "code",
   "execution_count": null,
   "outputs": [],
   "source": [
    "sp.plot.plot_pattern(vmax=99, rotate=True, reverse_y=True, reverse_x=True)"
   ],
   "metadata": {
    "collapsed": false
   }
  },
  {
   "cell_type": "code",
   "execution_count": null,
   "outputs": [],
   "source": [
    "sp.plot.plot_genes(label=2, vmax=99, n_gene=20, cmap='viridis', plot_type='heatmap', rotate=True, reverse_y=True,\n",
    "                   reverse_x=True)"
   ],
   "metadata": {
    "collapsed": false
   }
  },
  {
   "cell_type": "code",
   "execution_count": null,
   "outputs": [],
   "source": [
    "vlist = []\n",
    "vdict={}\n",
    "for i in sp.genes_patterns.keys():\n",
    "    a = np.std(sp.genes_patterns[i].weights_)\n",
    "    vlist.append(a)\n",
    "    vdict[i]=a\n",
    "sns.histplot(vlist)\n"
   ],
   "metadata": {
    "collapsed": false
   }
  },
  {
   "cell_type": "code",
   "execution_count": null,
   "outputs": [],
   "source": [
    "vdict['krt5']"
   ],
   "metadata": {
    "collapsed": false
   }
  },
  {
   "cell_type": "code",
   "execution_count": null,
   "outputs": [],
   "source": [
    "b = pd.DataFrame(vdict, index=['mse']).T"
   ],
   "metadata": {
    "collapsed": false
   }
  },
  {
   "cell_type": "code",
   "execution_count": null,
   "outputs": [],
   "source": [
    "a = sp.adata.var['variances_norm']"
   ],
   "metadata": {
    "collapsed": false
   }
  },
  {
   "cell_type": "code",
   "execution_count": null,
   "outputs": [],
   "source": [
    "merged = pd.merge(a, b, left_index=True, right_index=True, how='inner')"
   ],
   "metadata": {
    "collapsed": false
   }
  },
  {
   "cell_type": "code",
   "execution_count": null,
   "outputs": [],
   "source": [
    "merged"
   ],
   "metadata": {
    "collapsed": false
   }
  },
  {
   "cell_type": "code",
   "execution_count": null,
   "outputs": [],
   "source": [
    "sns.scatterplot(merged, y='variances_norm', x='mse')"
   ],
   "metadata": {
    "collapsed": false
   }
  },
  {
   "cell_type": "code",
   "execution_count": null,
   "outputs": [],
   "source": [
    "np.corrcoef(merged['variances_norm'], merged['mse'])[0, 1]"
   ],
   "metadata": {
    "collapsed": false
   }
  },
  {
   "cell_type": "code",
   "execution_count": null,
   "outputs": [],
   "source": [
    "import matplotlib.pyplot as plt\n",
    "\n",
    "plt.figure(figsize=(6, 7))\n",
    "sp.plot.plot_gene('pmela', reverse_x=True, rotate=True)"
   ],
   "metadata": {
    "collapsed": false
   }
  },
  {
   "cell_type": "code",
   "execution_count": null,
   "outputs": [],
   "source": [
    "import tkinter as tk\n",
    "from tkinter import filedialog, messagebox\n",
    "from PIL import Image, ImageTk, ImageDraw\n",
    "\n",
    "\n",
    "class App:\n",
    "    def __init__(self):\n",
    "        self.img = None\n",
    "        self.img_on_canvas = None\n",
    "\n",
    "        # Root windows\n",
    "        self.root = tk.Tk()\n",
    "        self.root.title(\"Region Annotation\")\n",
    "\n",
    "        # Create Canvas\n",
    "        self.canvas = tk.Canvas(self.root, width=800, height=800)\n",
    "        self.canvas.pack()\n",
    "        self.canvas.bind(\"<Button-1>\", self.annotate)\n",
    "        self.canvas.bind(\"<Button-3>\", self.annotate)\n",
    "\n",
    "        # Create menu\n",
    "        self.menu = tk.Menu(self.root)\n",
    "        self.root.config(menu=self.menu)\n",
    "        self.file_menu = tk.Menu(self.menu)\n",
    "        self.menu.add_cascade(label=\"File\", menu=self.file_menu)\n",
    "        self.file_menu.add_command(label=\"Load image\", command=self.open_image)\n",
    "        self.file_menu.add_command(label=\"Save image\", command=self.save_image)\n",
    "\n",
    "        self.op_menu = tk.Menu(self.menu)\n",
    "        self.menu.add_cascade(label=\"Edit\", menu=self.op_menu)\n",
    "        self.op_menu.add_command(label=\"Clean up annotations\", command=self.clear_annotations)\n",
    "        self.op_menu.add_command(label=\"Reset\", command=self.reset)\n",
    "\n",
    "        help_menu = tk.Menu(self.menu)\n",
    "        self.menu.add_cascade(label=\"Help\", menu=help_menu)\n",
    "        help_menu.add_command(label=\"Help\", command=self.show_help)\n",
    "        help_menu.add_command(label=\"About\", command=self.show_help)\n",
    "\n",
    "        self.help_menu = tk.Menu(self.menu)\n",
    "\n",
    "    def open_image(self):\n",
    "        file_path = filedialog.askopenfilename()\n",
    "        if file_path:\n",
    "            self.root.title(\"Loading image... please wait.\")\n",
    "            self.img = Image.open(file_path)\n",
    "            self.img = self.img.resize((800, 800), Image.ANTIALIAS)  # adjust img size\n",
    "            self.img_on_canvas = ImageTk.PhotoImage(self.img)\n",
    "            self.canvas.create_image(0, 0, anchor=tk.NW, image=self.img_on_canvas)\n",
    "            self.root.title(\"Region Annotation\")\n",
    "\n",
    "    def annotate(self, event):\n",
    "        x, y = event.x, event.y\n",
    "        draw = ImageDraw.Draw(self.img)\n",
    "        draw.ellipse((x - 5, y - 5, x + 5, y + 5), fill=\"red\", outline=\"red\")\n",
    "        self.canvas.create_oval(x - 5, y - 5, x + 5, y + 5, fill=\"red\", outline=\"red\")\n",
    "\n",
    "    def clear_annotations(self):\n",
    "        self.canvas.delete(\"all\")\n",
    "        self.canvas.create_image(0, 0, anchor=tk.NW, image=self.img_on_canvas)\n",
    "\n",
    "    def reset(self):\n",
    "        self.canvas.delete(\"all\")\n",
    "\n",
    "    def save_image(self):\n",
    "        file_path = filedialog.asksaveasfilename(defaultextension=\".png\", filetypes=[('*', '.png')])\n",
    "        if file_path:\n",
    "            self.img.save(file_path)\n",
    "\n",
    "    def show_help(self):\n",
    "        help_text = \"Usage: \\n\\n\" \\\n",
    "                    \"1. Use “File” -> “Load image” to load image.\\n\" \\\n",
    "                    \"2. Click mouse over image to annotate image.\\n\" \\\n",
    "                    \"3. Use “File” -> “Save image” to save the annotated image.\\n\\n\" \\\n",
    "                    \"Check the documentation for more details.\"\n",
    "        messagebox.showinfo(\"Help\", help_text)\n",
    "\n",
    "    def run(self):\n",
    "        self.root.mainloop()\n",
    "\n",
    "\n",
    "a = App()\n",
    "a.run()\n"
   ],
   "metadata": {
    "collapsed": false
   }
  }
 ],
 "metadata": {
  "kernelspec": {
   "display_name": "Python 3",
   "language": "python",
   "name": "python3"
  },
  "language_info": {
   "codemirror_mode": {
    "name": "ipython",
    "version": 2
   },
   "file_extension": ".py",
   "mimetype": "text/x-python",
   "name": "python",
   "nbconvert_exporter": "python",
   "pygments_lexer": "ipython2",
   "version": "2.7.6"
  }
 },
 "nbformat": 4,
 "nbformat_minor": 0
}
