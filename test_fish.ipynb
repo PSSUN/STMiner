{
 "cells": [
  {
   "cell_type": "code",
   "execution_count": 1,
   "metadata": {
    "collapsed": true,
    "ExecuteTime": {
     "end_time": "2023-11-08T12:24:05.981414500Z",
     "start_time": "2023-11-08T12:24:01.180331600Z"
    }
   },
   "outputs": [],
   "source": [
    "import numpy as np\n",
    "from STMiner import SPFinder\n",
    "\n",
    "sp = SPFinder()\n",
    "# sp1 = SPFinder()\n",
    "# sp2 = SPFinder()\n",
    "# sp.read_h5ad(file='I://zebrafish/10X_Visium_hunter2021spatially_sample_C_data.h5ad')\n",
    "# sp.read_h5ad(file='F://空间转录组数据/MOUSE/V1_Adult_Mouse_Brain_filtered_feature_bc_matrix.h5',bin_size=50)\n",
    "sp.read_h5ad(file='G://5DPI_1.h5ad', bin_size=100)\n",
    "# sp1.read_h5ad(file='G://5DPI_2.h5ad', bin_size=50)\n",
    "# sp2.read_h5ad(file='G://5DPI_3.h5ad', bin_size=50)"
   ]
  },
  {
   "cell_type": "code",
   "execution_count": 2,
   "outputs": [
    {
     "name": "stderr",
     "output_type": "stream",
     "text": [
      "Parsing distance array...:   6%|▌         | 1750/28741 [00:28<07:15, 61.94it/s]\n"
     ]
    },
    {
     "ename": "KeyboardInterrupt",
     "evalue": "",
     "output_type": "error",
     "traceback": [
      "\u001B[1;31m---------------------------------------------------------------------------\u001B[0m",
      "\u001B[1;31mKeyboardInterrupt\u001B[0m                         Traceback (most recent call last)",
      "Cell \u001B[1;32mIn[2], line 1\u001B[0m\n\u001B[1;32m----> 1\u001B[0m sp\u001B[38;5;241m.\u001B[39mbuild_distance_array(method\u001B[38;5;241m=\u001B[39m\u001B[38;5;124m'\u001B[39m\u001B[38;5;124mot\u001B[39m\u001B[38;5;124m'\u001B[39m)\n",
      "File \u001B[1;32mE:\\OneDrive\\文档\\GitHub\\STMiner\\STMiner\\SPFinder.py:146\u001B[0m, in \u001B[0;36mSPFinder.build_distance_array\u001B[1;34m(self, method, gene_list)\u001B[0m\n\u001B[0;32m    144\u001B[0m     \u001B[38;5;28mself\u001B[39m\u001B[38;5;241m.\u001B[39mgenes_distance_array \u001B[38;5;241m=\u001B[39m build_cosine_similarity_array(\u001B[38;5;28mself\u001B[39m\u001B[38;5;241m.\u001B[39madata, gene_list)\n\u001B[0;32m    145\u001B[0m \u001B[38;5;28;01melif\u001B[39;00m method \u001B[38;5;241m==\u001B[39m \u001B[38;5;124m'\u001B[39m\u001B[38;5;124mot\u001B[39m\u001B[38;5;124m'\u001B[39m:\n\u001B[1;32m--> 146\u001B[0m     \u001B[38;5;28mself\u001B[39m\u001B[38;5;241m.\u001B[39mgenes_distance_array \u001B[38;5;241m=\u001B[39m build_ot_distance_array(\u001B[38;5;28mself\u001B[39m\u001B[38;5;241m.\u001B[39madata, gene_list)\n",
      "File \u001B[1;32mE:\\OneDrive\\文档\\GitHub\\STMiner\\STMiner\\Algorithm\\distance.py:194\u001B[0m, in \u001B[0;36mbuild_ot_distance_array\u001B[1;34m(adata, gene_list)\u001B[0m\n\u001B[0;32m    192\u001B[0m row_indices \u001B[38;5;241m=\u001B[39m np\u001B[38;5;241m.\u001B[39marray(gene_adata\u001B[38;5;241m.\u001B[39mobs[\u001B[38;5;124m'\u001B[39m\u001B[38;5;124mx\u001B[39m\u001B[38;5;124m'\u001B[39m]\u001B[38;5;241m.\u001B[39mvalues)\u001B[38;5;241m.\u001B[39mflatten()\n\u001B[0;32m    193\u001B[0m column_indices \u001B[38;5;241m=\u001B[39m np\u001B[38;5;241m.\u001B[39marray(gene_adata\u001B[38;5;241m.\u001B[39mobs[\u001B[38;5;124m'\u001B[39m\u001B[38;5;124my\u001B[39m\u001B[38;5;124m'\u001B[39m]\u001B[38;5;241m.\u001B[39mvalues)\u001B[38;5;241m.\u001B[39mflatten()\n\u001B[1;32m--> 194\u001B[0m data \u001B[38;5;241m=\u001B[39m np\u001B[38;5;241m.\u001B[39marray(gene_adata\u001B[38;5;241m.\u001B[39mX\u001B[38;5;241m.\u001B[39mtodense())\u001B[38;5;241m.\u001B[39mflatten()\n\u001B[0;32m    195\u001B[0m gene_csr \u001B[38;5;241m=\u001B[39m csr_matrix((data, (row_indices, column_indices)))\n\u001B[0;32m    196\u001B[0m csr_dict[gene] \u001B[38;5;241m=\u001B[39m gene_csr\n",
      "File \u001B[1;32mE:\\conda\\envs\\dev\\Lib\\site-packages\\anndata\\_core\\anndata.py:612\u001B[0m, in \u001B[0;36mAnnData.X\u001B[1;34m(self)\u001B[0m\n\u001B[0;32m    609\u001B[0m     X \u001B[38;5;241m=\u001B[39m \u001B[38;5;28;01mNone\u001B[39;00m\n\u001B[0;32m    610\u001B[0m \u001B[38;5;28;01melif\u001B[39;00m \u001B[38;5;28mself\u001B[39m\u001B[38;5;241m.\u001B[39mis_view:\n\u001B[0;32m    611\u001B[0m     X \u001B[38;5;241m=\u001B[39m as_view(\n\u001B[1;32m--> 612\u001B[0m         _subset(\u001B[38;5;28mself\u001B[39m\u001B[38;5;241m.\u001B[39m_adata_ref\u001B[38;5;241m.\u001B[39mX, (\u001B[38;5;28mself\u001B[39m\u001B[38;5;241m.\u001B[39m_oidx, \u001B[38;5;28mself\u001B[39m\u001B[38;5;241m.\u001B[39m_vidx)),\n\u001B[0;32m    613\u001B[0m         ElementRef(\u001B[38;5;28mself\u001B[39m, \u001B[38;5;124m\"\u001B[39m\u001B[38;5;124mX\u001B[39m\u001B[38;5;124m\"\u001B[39m),\n\u001B[0;32m    614\u001B[0m     )\n\u001B[0;32m    615\u001B[0m \u001B[38;5;28;01melse\u001B[39;00m:\n\u001B[0;32m    616\u001B[0m     X \u001B[38;5;241m=\u001B[39m \u001B[38;5;28mself\u001B[39m\u001B[38;5;241m.\u001B[39m_X\n",
      "File \u001B[1;32mE:\\conda\\envs\\dev\\Lib\\functools.py:909\u001B[0m, in \u001B[0;36msingledispatch.<locals>.wrapper\u001B[1;34m(*args, **kw)\u001B[0m\n\u001B[0;32m    905\u001B[0m \u001B[38;5;28;01mif\u001B[39;00m \u001B[38;5;129;01mnot\u001B[39;00m args:\n\u001B[0;32m    906\u001B[0m     \u001B[38;5;28;01mraise\u001B[39;00m \u001B[38;5;167;01mTypeError\u001B[39;00m(\u001B[38;5;124mf\u001B[39m\u001B[38;5;124m'\u001B[39m\u001B[38;5;132;01m{\u001B[39;00mfuncname\u001B[38;5;132;01m}\u001B[39;00m\u001B[38;5;124m requires at least \u001B[39m\u001B[38;5;124m'\u001B[39m\n\u001B[0;32m    907\u001B[0m                     \u001B[38;5;124m'\u001B[39m\u001B[38;5;124m1 positional argument\u001B[39m\u001B[38;5;124m'\u001B[39m)\n\u001B[1;32m--> 909\u001B[0m \u001B[38;5;28;01mreturn\u001B[39;00m dispatch(args[\u001B[38;5;241m0\u001B[39m]\u001B[38;5;241m.\u001B[39m\u001B[38;5;18m__class__\u001B[39m)(\u001B[38;5;241m*\u001B[39margs, \u001B[38;5;241m*\u001B[39m\u001B[38;5;241m*\u001B[39mkw)\n",
      "File \u001B[1;32mE:\\conda\\envs\\dev\\Lib\\site-packages\\anndata\\_core\\index.py:140\u001B[0m, in \u001B[0;36m_subset_spmatrix\u001B[1;34m(a, subset_idx)\u001B[0m\n\u001B[0;32m    138\u001B[0m \u001B[38;5;28;01mif\u001B[39;00m \u001B[38;5;28mlen\u001B[39m(subset_idx) \u001B[38;5;241m>\u001B[39m \u001B[38;5;241m1\u001B[39m \u001B[38;5;129;01mand\u001B[39;00m \u001B[38;5;28mall\u001B[39m(\u001B[38;5;28misinstance\u001B[39m(x, cabc\u001B[38;5;241m.\u001B[39mIterable) \u001B[38;5;28;01mfor\u001B[39;00m x \u001B[38;5;129;01min\u001B[39;00m subset_idx):\n\u001B[0;32m    139\u001B[0m     subset_idx \u001B[38;5;241m=\u001B[39m (subset_idx[\u001B[38;5;241m0\u001B[39m]\u001B[38;5;241m.\u001B[39mreshape(\u001B[38;5;241m-\u001B[39m\u001B[38;5;241m1\u001B[39m, \u001B[38;5;241m1\u001B[39m), \u001B[38;5;241m*\u001B[39msubset_idx[\u001B[38;5;241m1\u001B[39m:])\n\u001B[1;32m--> 140\u001B[0m \u001B[38;5;28;01mreturn\u001B[39;00m a[subset_idx]\n",
      "File \u001B[1;32mE:\\conda\\envs\\dev\\Lib\\site-packages\\scipy\\sparse\\_index.py:66\u001B[0m, in \u001B[0;36mIndexMixin.__getitem__\u001B[1;34m(self, key)\u001B[0m\n\u001B[0;32m     64\u001B[0m     \u001B[38;5;28;01mif\u001B[39;00m row \u001B[38;5;241m==\u001B[39m \u001B[38;5;28mslice\u001B[39m(\u001B[38;5;28;01mNone\u001B[39;00m) \u001B[38;5;129;01mand\u001B[39;00m row \u001B[38;5;241m==\u001B[39m col:\n\u001B[0;32m     65\u001B[0m         \u001B[38;5;28;01mreturn\u001B[39;00m \u001B[38;5;28mself\u001B[39m\u001B[38;5;241m.\u001B[39mcopy()\n\u001B[1;32m---> 66\u001B[0m     \u001B[38;5;28;01mreturn\u001B[39;00m \u001B[38;5;28mself\u001B[39m\u001B[38;5;241m.\u001B[39m_get_sliceXslice(row, col)\n\u001B[0;32m     67\u001B[0m \u001B[38;5;28;01melif\u001B[39;00m col\u001B[38;5;241m.\u001B[39mndim \u001B[38;5;241m==\u001B[39m \u001B[38;5;241m1\u001B[39m:\n\u001B[0;32m     68\u001B[0m     \u001B[38;5;28;01mreturn\u001B[39;00m \u001B[38;5;28mself\u001B[39m\u001B[38;5;241m.\u001B[39m_get_sliceXarray(row, col)\n",
      "File \u001B[1;32mE:\\conda\\envs\\dev\\Lib\\site-packages\\scipy\\sparse\\_compressed.py:664\u001B[0m, in \u001B[0;36m_cs_matrix._get_sliceXslice\u001B[1;34m(self, row, col)\u001B[0m\n\u001B[0;32m    662\u001B[0m major, minor \u001B[38;5;241m=\u001B[39m \u001B[38;5;28mself\u001B[39m\u001B[38;5;241m.\u001B[39m_swap((row, col))\n\u001B[0;32m    663\u001B[0m \u001B[38;5;28;01mif\u001B[39;00m major\u001B[38;5;241m.\u001B[39mstep \u001B[38;5;129;01min\u001B[39;00m (\u001B[38;5;241m1\u001B[39m, \u001B[38;5;28;01mNone\u001B[39;00m) \u001B[38;5;129;01mand\u001B[39;00m minor\u001B[38;5;241m.\u001B[39mstep \u001B[38;5;129;01min\u001B[39;00m (\u001B[38;5;241m1\u001B[39m, \u001B[38;5;28;01mNone\u001B[39;00m):\n\u001B[1;32m--> 664\u001B[0m     \u001B[38;5;28;01mreturn\u001B[39;00m \u001B[38;5;28mself\u001B[39m\u001B[38;5;241m.\u001B[39m_get_submatrix(major, minor, copy\u001B[38;5;241m=\u001B[39m\u001B[38;5;28;01mTrue\u001B[39;00m)\n\u001B[0;32m    665\u001B[0m \u001B[38;5;28;01mreturn\u001B[39;00m \u001B[38;5;28mself\u001B[39m\u001B[38;5;241m.\u001B[39m_major_slice(major)\u001B[38;5;241m.\u001B[39m_minor_slice(minor)\n",
      "File \u001B[1;32mE:\\conda\\envs\\dev\\Lib\\site-packages\\scipy\\sparse\\_compressed.py:809\u001B[0m, in \u001B[0;36m_cs_matrix._get_submatrix\u001B[1;34m(self, major, minor, copy)\u001B[0m\n\u001B[0;32m    806\u001B[0m \u001B[38;5;28;01mif\u001B[39;00m i0 \u001B[38;5;241m==\u001B[39m \u001B[38;5;241m0\u001B[39m \u001B[38;5;129;01mand\u001B[39;00m j0 \u001B[38;5;241m==\u001B[39m \u001B[38;5;241m0\u001B[39m \u001B[38;5;129;01mand\u001B[39;00m i1 \u001B[38;5;241m==\u001B[39m M \u001B[38;5;129;01mand\u001B[39;00m j1 \u001B[38;5;241m==\u001B[39m N:\n\u001B[0;32m    807\u001B[0m     \u001B[38;5;28;01mreturn\u001B[39;00m \u001B[38;5;28mself\u001B[39m\u001B[38;5;241m.\u001B[39mcopy() \u001B[38;5;28;01mif\u001B[39;00m copy \u001B[38;5;28;01melse\u001B[39;00m \u001B[38;5;28mself\u001B[39m\n\u001B[1;32m--> 809\u001B[0m indptr, indices, data \u001B[38;5;241m=\u001B[39m get_csr_submatrix(\n\u001B[0;32m    810\u001B[0m     M, N, \u001B[38;5;28mself\u001B[39m\u001B[38;5;241m.\u001B[39mindptr, \u001B[38;5;28mself\u001B[39m\u001B[38;5;241m.\u001B[39mindices, \u001B[38;5;28mself\u001B[39m\u001B[38;5;241m.\u001B[39mdata, i0, i1, j0, j1)\n\u001B[0;32m    812\u001B[0m shape \u001B[38;5;241m=\u001B[39m \u001B[38;5;28mself\u001B[39m\u001B[38;5;241m.\u001B[39m_swap((i1 \u001B[38;5;241m-\u001B[39m i0, j1 \u001B[38;5;241m-\u001B[39m j0))\n\u001B[0;32m    813\u001B[0m \u001B[38;5;28;01mreturn\u001B[39;00m \u001B[38;5;28mself\u001B[39m\u001B[38;5;241m.\u001B[39m\u001B[38;5;18m__class__\u001B[39m((data, indices, indptr), shape\u001B[38;5;241m=\u001B[39mshape,\n\u001B[0;32m    814\u001B[0m                       dtype\u001B[38;5;241m=\u001B[39m\u001B[38;5;28mself\u001B[39m\u001B[38;5;241m.\u001B[39mdtype, copy\u001B[38;5;241m=\u001B[39m\u001B[38;5;28;01mFalse\u001B[39;00m)\n",
      "\u001B[1;31mKeyboardInterrupt\u001B[0m: "
     ]
    }
   ],
   "source": [
    "sp.build_distance_array(method='ot')"
   ],
   "metadata": {
    "collapsed": false,
    "ExecuteTime": {
     "end_time": "2023-11-08T12:24:36.759742400Z",
     "start_time": "2023-11-08T12:24:06.718925600Z"
    }
   }
  },
  {
   "cell_type": "code",
   "execution_count": null,
   "outputs": [],
   "source": [
    "import numpy as np\n",
    "from scipy.sparse import csr_matrix\n",
    "\n",
    "# 创建一个稀疏矩阵的数据\n",
    "data = np.array(sp.adata.X.sum(axis=1)).flatten()\n",
    "row_indices = np.array(sp.adata.obs['x'].values).flatten()\n",
    "column_indices = np.array(sp.adata.obs['y'].values).flatten()\n",
    "\n",
    "# 使用csr_matrix创建CSR矩阵\n",
    "csr_matrix_example = csr_matrix((data, (row_indices, column_indices)))\n",
    "\n",
    "print(csr_matrix_example)"
   ],
   "metadata": {
    "collapsed": false
   }
  },
  {
   "cell_type": "code",
   "execution_count": 3,
   "outputs": [
    {
     "data": {
      "text/plain": "  Key  Value\n0   a     23\n1   b     22\n2   c     21\n3   d     20\n4   e     21",
      "text/html": "<div>\n<style scoped>\n    .dataframe tbody tr th:only-of-type {\n        vertical-align: middle;\n    }\n\n    .dataframe tbody tr th {\n        vertical-align: top;\n    }\n\n    .dataframe thead th {\n        text-align: right;\n    }\n</style>\n<table border=\"1\" class=\"dataframe\">\n  <thead>\n    <tr style=\"text-align: right;\">\n      <th></th>\n      <th>Key</th>\n      <th>Value</th>\n    </tr>\n  </thead>\n  <tbody>\n    <tr>\n      <th>0</th>\n      <td>a</td>\n      <td>23</td>\n    </tr>\n    <tr>\n      <th>1</th>\n      <td>b</td>\n      <td>22</td>\n    </tr>\n    <tr>\n      <th>2</th>\n      <td>c</td>\n      <td>21</td>\n    </tr>\n    <tr>\n      <th>3</th>\n      <td>d</td>\n      <td>20</td>\n    </tr>\n    <tr>\n      <th>4</th>\n      <td>e</td>\n      <td>21</td>\n    </tr>\n  </tbody>\n</table>\n</div>"
     },
     "execution_count": 3,
     "metadata": {},
     "output_type": "execute_result"
    }
   ],
   "source": [
    "import pandas as pd\n",
    "a = {'a':23,'b':22,'c':21,'d':20,'e':21}\n",
    "pd.DataFrame(list(a.items()), columns=['Key', 'Value'])"
   ],
   "metadata": {
    "collapsed": false,
    "ExecuteTime": {
     "end_time": "2023-11-08T12:40:16.798081300Z",
     "start_time": "2023-11-08T12:40:16.773010100Z"
    }
   }
  },
  {
   "cell_type": "code",
   "execution_count": null,
   "outputs": [],
   "source": [
    "import seaborn as sns\n",
    "from STMiner.Algorithm.AlgUtils import get_exp_array\n",
    "\n",
    "# sns.heatmap(csr_matrix_example.todense())\n",
    "\n",
    "sp.plot.plot_gene('DR999_PMT13074[nr] | AMEX60DD021318', spot_size=10, rotate=True)"
   ],
   "metadata": {
    "collapsed": false
   }
  },
  {
   "cell_type": "code",
   "execution_count": null,
   "outputs": [],
   "source": [
    "name = 'DR999_PMT13074[nr] | AMEX60DD021318'\n",
    "row_indices = np.array(sp.adata[:,name].obs['x'].values).flatten()\n",
    "column_indices = np.array(sp.adata[:,name].obs['y'].values).flatten()\n",
    "data = np.array(sp.adata[:,name].X.todense()).flatten()\n",
    "gene = csr_matrix((data, (row_indices, column_indices)))"
   ],
   "metadata": {
    "collapsed": false
   }
  },
  {
   "cell_type": "code",
   "execution_count": null,
   "outputs": [],
   "source": [
    "import ot\n",
    "\n",
    "csr = gene\n",
    "xs = np.array(csr.nonzero()).T\n",
    "xsd = csr.data\n",
    "\n",
    "csr_target = csr_matrix_example\n",
    "xt = np.array(csr_target.nonzero()).T\n",
    "xtd = csr_target.data\n",
    "\n",
    "# uniform distribution on samples\n",
    "a = csr.data[csr.data > 0] / xsd.sum()\n",
    "b = csr_target.data[csr_target.data > 0] / xtd.sum()\n",
    "# loss matrix\n",
    "loss_matrix = ot.dist(xs, xt)\n",
    "# G0 = ot.emd(a, b, loss_matrix)\n",
    "distance = ot.emd2(a, b, loss_matrix)\n",
    "distance"
   ],
   "metadata": {
    "collapsed": false
   }
  },
  {
   "cell_type": "code",
   "execution_count": null,
   "outputs": [],
   "source": [
    "csr.data[csr.data>0] / xsd.sum()"
   ],
   "metadata": {
    "collapsed": false
   }
  },
  {
   "cell_type": "code",
   "execution_count": null,
   "outputs": [],
   "source": [
    "csr.nonzero()[0].T"
   ],
   "metadata": {
    "collapsed": false
   }
  },
  {
   "cell_type": "code",
   "execution_count": null,
   "outputs": [],
   "source": [
    "print(loss_matrix.shape)\n",
    "print(a.shape)\n",
    "print(b.shape)"
   ],
   "metadata": {
    "collapsed": false
   }
  },
  {
   "cell_type": "code",
   "execution_count": null,
   "outputs": [],
   "source": [
    "gene"
   ],
   "metadata": {
    "collapsed": false
   }
  },
  {
   "cell_type": "code",
   "execution_count": null,
   "outputs": [],
   "source": [
    "sp.plot.plot_genes(label=2, vmax=99, rotate=True, reverse_y=True)"
   ],
   "metadata": {
    "collapsed": false
   }
  },
  {
   "cell_type": "code",
   "execution_count": null,
   "outputs": [],
   "source": [
    "\n",
    "row_indices = np.array(sp.adata[:,'CCK | AMEX60DD022038'].obs['x'].values).flatten()\n",
    "column_indices = np.array(sp.adata[:,'CCK | AMEX60DD022038'].obs['y'].values).flatten()\n",
    "data = np.array(sp.adata[:,'CCK | AMEX60DD022038'].X.todense()).flatten()\n",
    "gene = csr_matrix((data, (row_indices, column_indices)))"
   ],
   "metadata": {
    "collapsed": false
   }
  },
  {
   "cell_type": "code",
   "execution_count": null,
   "outputs": [],
   "source": [
    "np.array(sp.adata[:,'CCK | AMEX60DD022038'].X.todense()).flatten()"
   ],
   "metadata": {
    "collapsed": false
   }
  },
  {
   "cell_type": "code",
   "execution_count": null,
   "outputs": [],
   "source": [
    "import pandas as pd\n",
    "\n",
    "df = pd.DataFrame(sp.adata.X.todense())\n",
    "df.index = sp.adata.obs['x'].astype(str) + 'x' + sp.adata.obs['y'].astype(str)\n",
    "df.columns = sp.adata.var.index\n",
    "df.T.to_csv('count.csv')"
   ],
   "metadata": {
    "collapsed": false
   }
  },
  {
   "cell_type": "code",
   "execution_count": null,
   "outputs": [],
   "source": [
    "sp.flush_app()\n",
    "sp.app.run()"
   ],
   "metadata": {
    "collapsed": false
   }
  },
  {
   "cell_type": "code",
   "execution_count": null,
   "outputs": [],
   "source": [
    "sp.load_marked_image('')"
   ],
   "metadata": {
    "collapsed": false
   }
  },
  {
   "cell_type": "code",
   "execution_count": null,
   "outputs": [],
   "source": [
    "# gene_list=list(sp.adata.var.nlargest(700, 'dispersions_norm').index)\n",
    "gene_list=list(sp.adata.var.index)\n",
    "sp.build_distance_array(method='cs', gene_list=gene_list)"
   ],
   "metadata": {
    "collapsed": false
   }
  },
  {
   "cell_type": "code",
   "execution_count": null,
   "outputs": [],
   "source": [
    "sp.fit_pattern(n_comp=20, min_cells=200, n_top_genes=200, remove_low_exp_spots=False)\n",
    "# sp1.fit_pattern(n_comp=20, min_cells=200, n_top_genes=500, remove_low_exp_spots=False)\n",
    "# sp2.fit_pattern(n_comp=20, min_cells=200, n_top_genes=500, remove_low_exp_spots=False)"
   ],
   "metadata": {
    "collapsed": false
   }
  },
  {
   "cell_type": "code",
   "execution_count": 2,
   "outputs": [
    {
     "ename": "KeyboardInterrupt",
     "evalue": "",
     "output_type": "error",
     "traceback": [
      "\u001B[1;31m---------------------------------------------------------------------------\u001B[0m",
      "\u001B[1;31mKeyboardInterrupt\u001B[0m                         Traceback (most recent call last)",
      "Cell \u001B[1;32mIn[2], line 1\u001B[0m\n\u001B[1;32m----> 1\u001B[0m sp\u001B[38;5;241m.\u001B[39mbuild_distance_array(method\u001B[38;5;241m=\u001B[39m\u001B[38;5;124m'\u001B[39m\u001B[38;5;124mot\u001B[39m\u001B[38;5;124m'\u001B[39m)\n",
      "File \u001B[1;32mE:\\OneDrive\\文档\\GitHub\\STMiner\\STMiner\\SPFinder.py:146\u001B[0m, in \u001B[0;36mSPFinder.build_distance_array\u001B[1;34m(self, method, gene_list)\u001B[0m\n\u001B[0;32m    144\u001B[0m     \u001B[38;5;28mself\u001B[39m\u001B[38;5;241m.\u001B[39mgenes_distance_array \u001B[38;5;241m=\u001B[39m build_cosine_similarity_array(\u001B[38;5;28mself\u001B[39m\u001B[38;5;241m.\u001B[39madata, gene_list)\n\u001B[0;32m    145\u001B[0m \u001B[38;5;28;01melif\u001B[39;00m method \u001B[38;5;241m==\u001B[39m \u001B[38;5;124m'\u001B[39m\u001B[38;5;124mot\u001B[39m\u001B[38;5;124m'\u001B[39m:\n\u001B[1;32m--> 146\u001B[0m     \u001B[38;5;28mself\u001B[39m\u001B[38;5;241m.\u001B[39mgenes_distance_array \u001B[38;5;241m=\u001B[39m build_ot_distance_array(\u001B[38;5;28mself\u001B[39m\u001B[38;5;241m.\u001B[39madata, gene_list)\n",
      "File \u001B[1;32mE:\\OneDrive\\文档\\GitHub\\STMiner\\STMiner\\Algorithm\\distance.py:194\u001B[0m, in \u001B[0;36mbuild_ot_distance_array\u001B[1;34m(adata, gene_list)\u001B[0m\n\u001B[0;32m    192\u001B[0m row_indices \u001B[38;5;241m=\u001B[39m np\u001B[38;5;241m.\u001B[39marray(gene_adata\u001B[38;5;241m.\u001B[39mobs[\u001B[38;5;124m'\u001B[39m\u001B[38;5;124mx\u001B[39m\u001B[38;5;124m'\u001B[39m]\u001B[38;5;241m.\u001B[39mvalues)\u001B[38;5;241m.\u001B[39mflatten()\n\u001B[0;32m    193\u001B[0m column_indices \u001B[38;5;241m=\u001B[39m np\u001B[38;5;241m.\u001B[39marray(gene_adata\u001B[38;5;241m.\u001B[39mobs[\u001B[38;5;124m'\u001B[39m\u001B[38;5;124my\u001B[39m\u001B[38;5;124m'\u001B[39m]\u001B[38;5;241m.\u001B[39mvalues)\u001B[38;5;241m.\u001B[39mflatten()\n\u001B[1;32m--> 194\u001B[0m data \u001B[38;5;241m=\u001B[39m np\u001B[38;5;241m.\u001B[39marray(gene_adata\u001B[38;5;241m.\u001B[39mX\u001B[38;5;241m.\u001B[39mtodense())\u001B[38;5;241m.\u001B[39mflatten()\n\u001B[0;32m    195\u001B[0m gene_csr \u001B[38;5;241m=\u001B[39m csr_matrix((data, (row_indices, column_indices)))\n\u001B[0;32m    196\u001B[0m csr_dict[gene] \u001B[38;5;241m=\u001B[39m gene_csr\n",
      "File \u001B[1;32mE:\\conda\\envs\\dev\\Lib\\site-packages\\scipy\\sparse\\_base.py:912\u001B[0m, in \u001B[0;36m_spbase.todense\u001B[1;34m(self, order, out)\u001B[0m\n\u001B[0;32m    882\u001B[0m \u001B[38;5;28;01mdef\u001B[39;00m \u001B[38;5;21mtodense\u001B[39m(\u001B[38;5;28mself\u001B[39m, order\u001B[38;5;241m=\u001B[39m\u001B[38;5;28;01mNone\u001B[39;00m, out\u001B[38;5;241m=\u001B[39m\u001B[38;5;28;01mNone\u001B[39;00m):\n\u001B[0;32m    883\u001B[0m \u001B[38;5;250m    \u001B[39m\u001B[38;5;124;03m\"\"\"\u001B[39;00m\n\u001B[0;32m    884\u001B[0m \u001B[38;5;124;03m    Return a dense matrix representation of this sparse array.\u001B[39;00m\n\u001B[0;32m    885\u001B[0m \n\u001B[1;32m   (...)\u001B[0m\n\u001B[0;32m    910\u001B[0m \u001B[38;5;124;03m        `numpy.matrix` object that shares the same memory.\u001B[39;00m\n\u001B[0;32m    911\u001B[0m \u001B[38;5;124;03m    \"\"\"\u001B[39;00m\n\u001B[1;32m--> 912\u001B[0m     \u001B[38;5;28;01mreturn\u001B[39;00m \u001B[38;5;28mself\u001B[39m\u001B[38;5;241m.\u001B[39m_ascontainer(\u001B[38;5;28mself\u001B[39m\u001B[38;5;241m.\u001B[39mtoarray(order\u001B[38;5;241m=\u001B[39morder, out\u001B[38;5;241m=\u001B[39mout))\n",
      "File \u001B[1;32mE:\\conda\\envs\\dev\\Lib\\site-packages\\scipy\\sparse\\_compressed.py:1050\u001B[0m, in \u001B[0;36m_cs_matrix.toarray\u001B[1;34m(self, order, out)\u001B[0m\n\u001B[0;32m   1048\u001B[0m \u001B[38;5;28;01mif\u001B[39;00m out \u001B[38;5;129;01mis\u001B[39;00m \u001B[38;5;28;01mNone\u001B[39;00m \u001B[38;5;129;01mand\u001B[39;00m order \u001B[38;5;129;01mis\u001B[39;00m \u001B[38;5;28;01mNone\u001B[39;00m:\n\u001B[0;32m   1049\u001B[0m     order \u001B[38;5;241m=\u001B[39m \u001B[38;5;28mself\u001B[39m\u001B[38;5;241m.\u001B[39m_swap(\u001B[38;5;124m'\u001B[39m\u001B[38;5;124mcf\u001B[39m\u001B[38;5;124m'\u001B[39m)[\u001B[38;5;241m0\u001B[39m]\n\u001B[1;32m-> 1050\u001B[0m out \u001B[38;5;241m=\u001B[39m \u001B[38;5;28mself\u001B[39m\u001B[38;5;241m.\u001B[39m_process_toarray_args(order, out)\n\u001B[0;32m   1051\u001B[0m \u001B[38;5;28;01mif\u001B[39;00m \u001B[38;5;129;01mnot\u001B[39;00m (out\u001B[38;5;241m.\u001B[39mflags\u001B[38;5;241m.\u001B[39mc_contiguous \u001B[38;5;129;01mor\u001B[39;00m out\u001B[38;5;241m.\u001B[39mflags\u001B[38;5;241m.\u001B[39mf_contiguous):\n\u001B[0;32m   1052\u001B[0m     \u001B[38;5;28;01mraise\u001B[39;00m \u001B[38;5;167;01mValueError\u001B[39;00m(\u001B[38;5;124m'\u001B[39m\u001B[38;5;124mOutput array must be C or F contiguous\u001B[39m\u001B[38;5;124m'\u001B[39m)\n",
      "File \u001B[1;32mE:\\conda\\envs\\dev\\Lib\\site-packages\\scipy\\sparse\\_base.py:1267\u001B[0m, in \u001B[0;36m_spbase._process_toarray_args\u001B[1;34m(self, order, out)\u001B[0m\n\u001B[0;32m   1265\u001B[0m     \u001B[38;5;28;01mreturn\u001B[39;00m out\n\u001B[0;32m   1266\u001B[0m \u001B[38;5;28;01melse\u001B[39;00m:\n\u001B[1;32m-> 1267\u001B[0m     \u001B[38;5;28;01mreturn\u001B[39;00m np\u001B[38;5;241m.\u001B[39mzeros(\u001B[38;5;28mself\u001B[39m\u001B[38;5;241m.\u001B[39mshape, dtype\u001B[38;5;241m=\u001B[39m\u001B[38;5;28mself\u001B[39m\u001B[38;5;241m.\u001B[39mdtype, order\u001B[38;5;241m=\u001B[39morder)\n",
      "\u001B[1;31mKeyboardInterrupt\u001B[0m: "
     ]
    }
   ],
   "source": [
    "sp.build_distance_array(method='ot')\n",
    "# sp1.build_distance_array()\n",
    "# sp2.build_distance_array()"
   ],
   "metadata": {
    "collapsed": false,
    "ExecuteTime": {
     "end_time": "2023-11-08T12:23:34.939004100Z",
     "start_time": "2023-11-08T12:21:56.122091800Z"
    }
   }
  },
  {
   "cell_type": "code",
   "execution_count": null,
   "outputs": [],
   "source": [
    "import pickle\n",
    "with open('da_dip5_2_h200_t100.pkl', 'wb') as file:\n",
    "    pickle.dump(sp.genes_distance_array, file)"
   ],
   "metadata": {
    "collapsed": false
   }
  },
  {
   "cell_type": "code",
   "execution_count": null,
   "outputs": [],
   "source": [
    "import pickle\n",
    "with open('da.pkl', 'rb') as file:\n",
    "    sp.genes_distance_array = pickle.load(file)\n",
    "sp.cluster_gene(n_clusters=6, mds_components=20, use_highly_variable_gene=False, n_top_genes=800)"
   ],
   "metadata": {
    "collapsed": false
   }
  },
  {
   "cell_type": "code",
   "execution_count": null,
   "outputs": [],
   "source": [
    "sp.cluster_gene(n_clusters=5, mds_components=20, use_highly_variable_gene=False, n_top_genes=400)\n",
    "# sp1.cluster_gene(n_clusters=5, mds_components=20, use_highly_variable_gene=False, n_top_genes=400)\n",
    "# sp2.cluster_gene(n_clusters=5, mds_components=20, use_highly_variable_gene=False, n_top_genes=400)"
   ],
   "metadata": {
    "collapsed": false
   }
  },
  {
   "cell_type": "code",
   "execution_count": null,
   "outputs": [],
   "source": [
    "sp.cluster_gene(n_clusters=8, mds_components=20, use_highly_variable_gene=False, n_top_genes=500)\n",
    "sp.get_pattern_array(vote_rate=0.3)"
   ],
   "metadata": {
    "collapsed": false
   }
  },
  {
   "cell_type": "code",
   "execution_count": null,
   "outputs": [],
   "source": [
    "sp.get_pattern_array(vote_rate=0.25)\n",
    "# sp1.get_pattern_array(vote_rate=0.25)\n",
    "# sp2.get_pattern_array(vote_rate=0.3)"
   ],
   "metadata": {
    "collapsed": false
   }
  },
  {
   "cell_type": "code",
   "execution_count": null,
   "outputs": [],
   "source": [
    "sp.plot.plot_pattern(vmax=99,\n",
    "                     heatmap=False,\n",
    "                     s=8,\n",
    "                     reverse_y=False,\n",
    "                     reverse_x=True,\n",
    "                     # image_path='E://OneDrive - stu.xjtu.edu.cn/paper/cut_img.png',\n",
    "                     rotate_img=False, \n",
    "                     k=3,\n",
    "                     aspect=0.55,                    \n",
    "                     output_path=None\n",
    "                     )"
   ],
   "metadata": {
    "collapsed": false
   }
  },
  {
   "cell_type": "code",
   "execution_count": null,
   "outputs": [],
   "source": [
    "sp1.plot.plot_pattern(vmax=99,\n",
    "                     heatmap=False,\n",
    "                     s=8,\n",
    "                     reverse_y=False,\n",
    "                     reverse_x=True,\n",
    "                     # image_path='E://OneDrive - stu.xjtu.edu.cn/paper/cut_img.png',\n",
    "                     rotate_img=False, \n",
    "                     k=3,\n",
    "                     aspect=0.55,                    \n",
    "                     output_path=None)"
   ],
   "metadata": {
    "collapsed": false
   }
  },
  {
   "cell_type": "code",
   "execution_count": null,
   "outputs": [],
   "source": [
    "from STMiner.Algorithm.distribution import get_gmm,view_gmm\n",
    "\n",
    "gmm=get_gmm(sp1.patterns_binary_matrix_dict[2],n_comp=20)\n",
    "view_gmm(gmm,scope=(0,110))"
   ],
   "metadata": {
    "collapsed": false
   }
  },
  {
   "cell_type": "code",
   "execution_count": null,
   "outputs": [],
   "source": [
    "import numpy as np\n",
    "from scipy.stats import wasserstein_distance\n",
    "\n",
    "# 创建两个二维矩阵\n",
    "matrix1 = sp.patterns_binary_matrix_dict[0]\n",
    "matrix2 = sp.patterns_binary_matrix_dict[4]\n",
    "\n",
    "# 将矩阵展平为一维数组\n",
    "flat_matrix1 = matrix1.flatten()\n",
    "flat_matrix2 = matrix2.flatten()\n",
    "distance = wasserstein_distance(flat_matrix1, flat_matrix2)\n",
    "\n",
    "print(f\"Wasserstein distance between the matrices: {distance}\")"
   ],
   "metadata": {
    "collapsed": false
   }
  },
  {
   "cell_type": "code",
   "execution_count": null,
   "outputs": [],
   "source": [
    "from scipy.optimize import linear_sum_assignment\n",
    "from scipy.spatial.distance import cdist\n",
    "\n",
    "matrix1 = sp.patterns_binary_matrix_dict[0]\n",
    "matrix2 = sp.patterns_binary_matrix_dict[4]\n",
    "d = cdist(matrix1, matrix2)\n",
    "assignment = linear_sum_assignment(d)\n",
    "distance = d[assignment].sum()\n",
    "print(distance)"
   ],
   "metadata": {
    "collapsed": false
   }
  },
  {
   "cell_type": "code",
   "execution_count": null,
   "outputs": [],
   "source": [
    "import ot\n",
    "from scipy.sparse import csr_matrix\n",
    "\n",
    "def _adjust_arr(arr, rotate=False, reverse_x=False, reverse_y=False):\n",
    "    if rotate:\n",
    "        arr = np.rot90(arr)\n",
    "    if reverse_y:\n",
    "        arr = np.flipud(arr)\n",
    "    if reverse_x:\n",
    "        arr = np.fliplr(arr)\n",
    "    return arr\n",
    "\n",
    "\n",
    "csr = csr_matrix(_adjust_arr(sp.patterns_matrix_dict[0], reverse_x=True))\n",
    "xs = np.array(csr.nonzero()).T\n",
    "xsd = csr.data\n",
    "\n",
    "csrt = csr_matrix(_adjust_arr(sp1.patterns_matrix_dict[0], reverse_x=True))\n",
    "xsdt = csrt.data\n",
    "xt = np.array(csrt.nonzero()).T\n",
    "\n",
    "n = csr.nonzero()[0].shape[0]  # nb samples\n",
    "n1 = csrt.nonzero()[0].shape[0]\n",
    "\n",
    "a, b = xsd / xsd.sum(), xsdt / xsdt.sum()  # uniform distribution on samples\n",
    "\n",
    "# loss matrix\n",
    "M = ot.dist(xs, xt)"
   ],
   "metadata": {
    "collapsed": false
   }
  },
  {
   "cell_type": "code",
   "execution_count": null,
   "outputs": [],
   "source": [
    "xsdt"
   ],
   "metadata": {
    "collapsed": false
   }
  },
  {
   "cell_type": "code",
   "execution_count": null,
   "outputs": [],
   "source": [
    "import seaborn as sns\n",
    "sns.scatterplot(s=5,x=xs[:,0],y=xs[:,1])\n",
    "sns.scatterplot(s=5,x=xt[:,0],y=xt[:,1])"
   ],
   "metadata": {
    "collapsed": false
   }
  },
  {
   "cell_type": "code",
   "execution_count": null,
   "outputs": [],
   "source": [
    "import matplotlib.pyplot as plt\n",
    "\n",
    "plt.figure(figsize=(8, 8))\n",
    "plt.imshow(M, interpolation='nearest', cmap='Spectral_r')\n",
    "plt.colorbar()\n",
    "plt.title('Cost matrix M')\n",
    "plt.savefig(\"./ot_matrix.eps\", dpi=1000, format='eps')"
   ],
   "metadata": {
    "collapsed": false
   }
  },
  {
   "cell_type": "code",
   "execution_count": null,
   "outputs": [],
   "source": [
    "import ot.plot\n",
    "\n",
    "G0 = ot.emd(a, b, M)\n",
    "\n",
    "plt.figure(4)\n",
    "plt.figure(figsize=(8, 8))\n",
    "ot.plot.plot2D_samples_mat(xs, xt, \n",
    "                           G0, \n",
    "                           c='#06d6a0'\n",
    "                           )\n",
    "plt.plot(xs[:, 0], xs[:, 1], '+b', label='Source spots')\n",
    "plt.plot(xt[:, 0], xt[:, 1], 'xr', label='Target spots')\n",
    "plt.legend(loc=0)\n",
    "plt.title('Optimal Transport Between Spots')\n",
    "plt.axis('off')\n",
    "plt.savefig(\"./ot.eps\", dpi=1000, format='eps')"
   ],
   "metadata": {
    "collapsed": false
   }
  },
  {
   "cell_type": "code",
   "execution_count": null,
   "outputs": [],
   "source": [
    "ot.emd2(a, b, M)"
   ],
   "metadata": {
    "collapsed": false
   }
  },
  {
   "cell_type": "code",
   "execution_count": null,
   "outputs": [],
   "source": [
    "gmm=get_gmm(sp.patterns_binary_matrix_dict[0],n_comp=20)\n",
    "view_gmm(gmm,scope=(0,120))"
   ],
   "metadata": {
    "collapsed": false
   }
  },
  {
   "cell_type": "code",
   "execution_count": null,
   "outputs": [],
   "source": [
    "sp.plot.plot_genes(label=4, vmax=99,rotate=True,reverse_y=True)"
   ],
   "metadata": {
    "collapsed": false
   }
  },
  {
   "cell_type": "code",
   "execution_count": null,
   "outputs": [],
   "source": [
    "sp2.plot.plot_tsne()"
   ],
   "metadata": {
    "collapsed": false
   }
  },
  {
   "cell_type": "code",
   "execution_count": null,
   "outputs": [],
   "source": [
    "from STMiner.Algorithm.distribution import compare_pattern\n",
    "\n",
    "d = compare_pattern([sp,sp1,sp2], n_comp=5)"
   ],
   "metadata": {
    "collapsed": false
   }
  },
  {
   "cell_type": "code",
   "execution_count": null,
   "outputs": [],
   "source": [
    "from STMiner.Algorithm.distance import build_gmm_distance_array\n",
    "a = build_gmm_distance_array(d)"
   ],
   "metadata": {
    "collapsed": false
   }
  },
  {
   "cell_type": "code",
   "execution_count": null,
   "outputs": [],
   "source": [],
   "metadata": {
    "collapsed": false
   }
  },
  {
   "cell_type": "code",
   "execution_count": null,
   "outputs": [],
   "source": [
    "sp.plot.plot_genes(label=0)"
   ],
   "metadata": {
    "collapsed": false
   }
  },
  {
   "cell_type": "code",
   "execution_count": null,
   "outputs": [],
   "source": [
    "sp.plot.plot_intersection(pattern_list=[1,2],reverse_x=True,reverse_y=False, figsize=(8,8))"
   ],
   "metadata": {
    "collapsed": false
   }
  },
  {
   "cell_type": "code",
   "execution_count": null,
   "outputs": [],
   "source": [
    "sp.plot.plot_genes(label=3, vmax=95, plot_type='scatter', s=10, rotate=True)"
   ],
   "metadata": {
    "collapsed": false
   }
  },
  {
   "cell_type": "code",
   "execution_count": null,
   "outputs": [],
   "source": [
    "sp.plot.plot_tsne()"
   ],
   "metadata": {
    "collapsed": false
   }
  },
  {
   "cell_type": "code",
   "execution_count": null,
   "outputs": [],
   "source": [
    "import networkx as nx\n",
    "import matplotlib.pyplot as plt\n",
    "\n",
    "graph = nx.Graph()\n",
    "\n",
    "for i, center_i in enumerate(sp.kmeans_fit_result.cluster_centers_):\n",
    "    graph.add_node(i)\n",
    "    for j, center_j in enumerate(sp.kmeans_fit_result.cluster_centers_):\n",
    "        if not graph.has_node(j):\n",
    "            graph.add_node(j)\n",
    "        if not graph.has_edge(i, j) and i != j:\n",
    "            graph.add_edge(i, j, weight=np.linalg.norm(center_i - center_j))\n",
    "\n",
    "pos = nx.spring_layout(graph, weight='weight')  # 布局算法，这里使用了Spring布局\n",
    "nx.draw(graph, pos, with_labels=True, node_size=500, node_color='skyblue', font_size=12, font_color='black',\n",
    "        font_weight='bold')\n",
    "edge_labels = nx.get_edge_attributes(graph, 'weight')\n",
    "rounded_dict = {}\n",
    "for key, value in edge_labels.items():\n",
    "    rounded_value = round(1 / value, )  # 使用round函数保留三位小数\n",
    "    rounded_dict[key] = rounded_value\n",
    "nx.draw_networkx_edge_labels(graph, pos, edge_labels=rounded_dict)\n",
    "plt.title(\"Network Visualization\")\n",
    "plt.show()\n"
   ],
   "metadata": {
    "collapsed": false
   }
  },
  {
   "cell_type": "code",
   "execution_count": null,
   "outputs": [],
   "source": [
    "from STMiner.node2vec import Node2Vec\n",
    "import networkx as nx\n",
    "import matplotlib.pyplot as plt\n",
    "\n",
    "import networkx as nx\n",
    "import matplotlib.pyplot as plt\n",
    "\n",
    "graph = nx.Graph()\n",
    "\n",
    "for i, center_i in enumerate(sp.kmeans_fit_result.cluster_centers_):\n",
    "    graph.add_node(i)\n",
    "    for j, center_j in enumerate(sp.kmeans_fit_result.cluster_centers_):\n",
    "        if not graph.has_node(j):\n",
    "            graph.add_node(j)\n",
    "        if not graph.has_edge(i, j) and i != j:\n",
    "            graph.add_edge(i, j, weight=np.linalg.norm(center_i - center_j))\n",
    "\n",
    "\n",
    "graph2 = nx.Graph()\n",
    "\n",
    "for i, center_i in enumerate(a):\n",
    "    graph2.add_node(i)\n",
    "    for j, center_j in enumerate(a):\n",
    "        if not graph2.has_node(j):\n",
    "            graph2.add_node(j)\n",
    "        if not graph2.has_edge(i, j) and i != j:\n",
    "            graph2.add_edge(i, j, weight=np.linalg.norm(center_i - center_j))\n",
    "\n",
    "node2vec = Node2Vec(graph, dimensions=64, walk_length=30, num_walks=200, p=1, q=2)\n",
    "node2vec2 = Node2Vec(graph2, dimensions=64, walk_length=30, num_walks=200, p=1, q=2)\n",
    "# 训练模型\n",
    "model = node2vec.fit(window=10, min_count=1, batch_words=4)\n",
    "node_embeddings = model.wv\n",
    "arr = node_embeddings.vectors\n",
    "\n",
    "\n",
    "model2 = node2vec2.fit(window=10, min_count=1, batch_words=4)\n",
    "node_embeddings2 = model2.wv\n",
    "arr2 = node_embeddings2.vectors"
   ],
   "metadata": {
    "collapsed": false
   }
  },
  {
   "cell_type": "code",
   "execution_count": null,
   "outputs": [],
   "source": [
    "import numpy as np\n",
    "result = np.vstack((arr, arr2))\n",
    "from sklearn.cluster import KMeans\n",
    "\n",
    "fit_result = KMeans(n_clusters=6, random_state=0, max_iter=1000, n_init=20).fit(result)\n",
    "fit_result.labels_"
   ],
   "metadata": {
    "collapsed": false
   }
  },
  {
   "cell_type": "code",
   "execution_count": null,
   "outputs": [],
   "source": [
    "sp.adata.var.index[0]"
   ],
   "metadata": {
    "collapsed": false
   }
  },
  {
   "cell_type": "code",
   "execution_count": null,
   "outputs": [],
   "source": [
    "arr2"
   ],
   "metadata": {
    "collapsed": false
   }
  },
  {
   "cell_type": "code",
   "execution_count": null,
   "outputs": [],
   "source": [],
   "metadata": {
    "collapsed": false
   }
  },
  {
   "cell_type": "code",
   "execution_count": null,
   "outputs": [],
   "source": [
    "import pickle\n",
    "import seaborn as sns\n",
    "import matplotlib.pyplot as plt\n",
    "\n",
    "with open('df.pkl', 'rb') as file:\n",
    "    df = pickle.load(file)\n",
    "sns.relplot(df, x='x', y='y', style='label', s=20)"
   ],
   "metadata": {
    "collapsed": false
   }
  },
  {
   "cell_type": "code",
   "execution_count": null,
   "outputs": [],
   "source": [
    "import seaborn as sns\n",
    "sns.mpl_palette(\"viridis\", as_cmap=True)"
   ],
   "metadata": {
    "collapsed": false
   }
  },
  {
   "cell_type": "code",
   "execution_count": null,
   "outputs": [],
   "source": [
    "sns.clustermap(sp.genes_distance_array)"
   ],
   "metadata": {
    "collapsed": false
   }
  },
  {
   "cell_type": "code",
   "execution_count": null,
   "outputs": [],
   "source": [
    "sp.plot.plot_tsne(method='umap')"
   ],
   "metadata": {
    "collapsed": false
   }
  },
  {
   "cell_type": "code",
   "execution_count": null,
   "outputs": [],
   "source": [
    "print(\"原本--------------------------------\")\n",
    "# CS: offset:10; under:0.1; p:0.8\n",
    "print(656 / 700 * 100)\n",
    "# MSE: offset:10; under:0.1; p:0.8\n",
    "print(121 / 700 * 100)\n",
    "# GMM: offset:10; under:0.1; p:0.8\n",
    "print(700 / 700 * 100)\n",
    "\n",
    "print(\"周期--------------------------------\")\n",
    "# CS: offset:10; under:0.1; p:0.8\n",
    "print(572 / 700 * 100)\n",
    "# MSE: offset:10; under:0.1; p:0.8\n",
    "print(112 / 700 * 100)\n",
    "# GMM: offset:10; under:0.1; p:0.8\n",
    "print(700 / 700 * 100)\n",
    "\n",
    "print(\"欠采样--------------------------------\")\n",
    "# CS: offset:10; under:0.1; p:0.8\n",
    "print(639 / 700 * 100)\n",
    "# MSE: offset:10; under:0.1; p:0.8\n",
    "print(111 / 700 * 100)\n",
    "# GMM: offset:10; under:0.1; p:0.8\n",
    "print(700 / 700 * 100)\n",
    "\n",
    "print(\"欠采样--------------------------------\")\n",
    "# CS: offset:10; under:0.1; p:0.8\n",
    "print(568 / 700 * 100)\n",
    "# MSE: offset:10; under:0.1; p:0.8\n",
    "print(201 / 700 * 100)\n",
    "# GMM: offset:10; under:0.1; p:0.8\n",
    "print(676 / 700 * 100)"
   ],
   "metadata": {
    "collapsed": false
   }
  },
  {
   "cell_type": "code",
   "execution_count": null,
   "outputs": [],
   "source": [
    "import matplotlib.pyplot as plt\n",
    "import numpy as np\n",
    "\n",
    "# 示例数据\n",
    "categories = ['Zebrafish', 'Category B', 'Category C']\n",
    "data1 = [100, 100, 100]\n",
    "data2 = [93.71, 81.74, 91.29]\n",
    "data3 = [17.29, 16, 15.86]\n",
    "data4 = [14.29, 14.29, 14.29]\n",
    "\n",
    "x = np.arange(len(categories))  # x轴坐标位置\n",
    "width = 0.1  # 每个柱子的宽度\n",
    "\n",
    "# 创建一个子图\n",
    "fig, ax = plt.subplots()\n",
    "\n",
    "# 绘制三个数据\n",
    "ax.bar(x - width, data1, width, label='STMiner')\n",
    "ax.bar(x, data2, width, label='SC')\n",
    "ax.bar(x + width, data3, width, label='MSE')\n",
    "ax.bar(x + width*2, data4, width, label='Random')\n",
    "\n",
    "# 添加标签、标题和图例\n",
    "ax.set_xlabel('Categories')\n",
    "ax.set_ylabel('Values')\n",
    "ax.set_title('Bar Chart with Three Sets of Data')\n",
    "ax.set_xticks(x)\n",
    "ax.set_xticklabels(categories)\n",
    "plt.axhline(y=100, color='red', linestyle='--', label=\"y=100\")\n",
    "\n",
    "# 显示图形\n",
    "# plt.legend()\n",
    "plt.show()\n"
   ],
   "metadata": {
    "collapsed": false
   }
  },
  {
   "cell_type": "code",
   "execution_count": null,
   "outputs": [],
   "source": [
    "import pandas as pd\n",
    "\n",
    "df = pd.DataFrame([['Raw', 100, 'STMiner'],\n",
    "                   ['Periodicity', 100, 'STMiner'],\n",
    "                   ['Undersampling', 100, 'STMiner'],\n",
    "                   ['Gauss', 96.57, 'STMiner'],\n",
    "                   ['Raw', 17.29, 'MSE'],\n",
    "                   ['Periodicity', 16, 'MSE'],\n",
    "                   ['Undersampling', 15.86, 'MSE'],\n",
    "                   ['Gauss', 28.71, 'MSE'],\n",
    "                   ['Raw', 93.71, 'Cosine similarity'],\n",
    "                   ['Periodicity', 81.74, 'Cosine similarity'],\n",
    "                   ['Undersampling', 91.29, 'Cosine similarity'],\n",
    "                   ['Gauss', 81.14, 'Cosine similarity'],\n",
    "                   ['Raw', 14.29, 'Random'],\n",
    "                   ['Periodicity', 14.29, 'Random'],\n",
    "                   ['Undersampling', 14.29, 'Random'],\n",
    "                   ['Gauss', 14.29, 'Random']],\n",
    "                  columns=['type', 'accuracy', 'method'])\n",
    "import seaborn as sns\n",
    "import matplotlib.pyplot as plt\n",
    "import matplotlib as mpl\n",
    "mpl.rcParams['pdf.fonttype'] =42\n",
    "mpl.rcParams['font.family'] = 'Arial'\n",
    "sns.set_style(\"white\")\n",
    "sns.barplot(df,\n",
    "            x='type',\n",
    "            y='accuracy',\n",
    "            hue='method',\n",
    "            order=['Raw', 'Undersampling', 'Periodicity', 'Gauss'],\n",
    "            hue_order=['STMiner', 'Cosine similarity', 'MSE', 'Random'],\n",
    "            palette=['#8ECFC9', '#FFBE7A', '#FA7F6F', '#82B0D2'])\n",
    "plt.ylabel(None)\n",
    "plt.xlabel(None)\n",
    "plt.yticks(fontsize=15)\n",
    "plt.xticks(fontsize=14)\n",
    "plt.title('Accuracy',fontsize=17)\n",
    "plt.savefig('Accuracy.eps',dpi=1000,format='eps')"
   ],
   "metadata": {
    "collapsed": false
   }
  },
  {
   "cell_type": "code",
   "execution_count": null,
   "outputs": [],
   "source": [
    "sp.genes_labels[sp.genes_labels['gene_id']=='BRAFhuman']"
   ],
   "metadata": {
    "collapsed": false
   }
  },
  {
   "cell_type": "code",
   "execution_count": null,
   "outputs": [],
   "source": [
    "sp.adata.var.loc['BRAFhuman']"
   ],
   "metadata": {
    "collapsed": false
   }
  },
  {
   "cell_type": "code",
   "execution_count": null,
   "outputs": [],
   "source": [
    "sp.plot.plot_pattern_1(vmax=99,\n",
    "                     vote_rate=0.25,\n",
    "                     heatmap=False,\n",
    "                     s=10,\n",
    "                     reverse_y=True,\n",
    "                     reverse_x=True,\n",
    "                     image_path='E://OneDrive - stu.xjtu.edu.cn/paper/cut_img.png',\n",
    "                     rotate_img=True, \n",
    "                     k=4)"
   ],
   "metadata": {
    "collapsed": false
   }
  },
  {
   "cell_type": "code",
   "execution_count": null,
   "outputs": [],
   "source": [
    "\n",
    "with open('df.pkl', 'rb') as file:\n",
    "    df = pickle.load(file)\n",
    "df"
   ],
   "metadata": {
    "collapsed": false
   }
  },
  {
   "cell_type": "code",
   "execution_count": null,
   "outputs": [],
   "source": [
    "import seaborn as sns\n",
    "import matplotlib.pyplot as plt\n",
    "import matplotlib.image as mpimg\n",
    "\n",
    "m = sns.relplot(df, x='x', y='y', col='label', col_wrap=4,cmap='viridis',palette='viridis',hue='c',hue_norm=plt.Normalize(0, 60))\n",
    "\n",
    "for ax in m.axes:\n",
    "    ax.axis('off')\n",
    "    bg_img = mpimg.imread('E://OneDrive - stu.xjtu.edu.cn/paper/cut_img.png')\n",
    "    bg_img = np.rot90(bg_img, k=4)\n",
    "    ax.imshow(bg_img, extent=[0, df['x'].max(), 0, df['y'].max()], aspect=0.54)\n",
    "plt.show()"
   ],
   "metadata": {
    "collapsed": false
   }
  },
  {
   "cell_type": "code",
   "execution_count": null,
   "outputs": [],
   "source": [
    "sp.plot.plot_genes(label=4, vmax=100, n_gene=20)"
   ],
   "metadata": {
    "collapsed": false
   }
  },
  {
   "cell_type": "code",
   "execution_count": null,
   "outputs": [],
   "source": [
    "sp.adata=adata"
   ],
   "metadata": {
    "collapsed": false
   }
  },
  {
   "cell_type": "code",
   "execution_count": null,
   "outputs": [],
   "source": [
    "import matplotlib.pyplot as plt\n",
    "plt.figure(figsize=(6, 6))\n",
    "sp.plot.plot_gene('gene_P1_N', reverse_x=True, rotate=True)"
   ],
   "metadata": {
    "collapsed": false
   }
  },
  {
   "cell_type": "code",
   "execution_count": null,
   "outputs": [],
   "source": [
    "sp.genes_labels"
   ],
   "metadata": {
    "collapsed": false
   }
  },
  {
   "cell_type": "code",
   "execution_count": null,
   "outputs": [],
   "source": [
    "import matplotlib.pyplot as plt\n",
    "from sklearn.manifold import TSNE\n",
    "\n",
    "tsne = TSNE(n_components=2, random_state=42)\n",
    "embedded_data = tsne.fit_transform(sp.mds_features)\n",
    "\n",
    "plt.figure(figsize=(8, 6))\n",
    "scatter = plt.scatter(embedded_data[:, 0], embedded_data[:, 1], c=sp.kmeans_fit_result.labels_, cmap='tab10')\n",
    "plt.title(\"t-SNE\")\n",
    "plt.xlabel(\"Dimension 1\")\n",
    "plt.ylabel(\"Dimension 2\")\n",
    "plt.colorbar(scatter, label='Labels')\n",
    "plt.grid(False)\n",
    "plt.xticks([])\n",
    "plt.yticks([])\n",
    "plt.savefig('tsne.eps', dpi=1000, format='eps')\n",
    "plt.show()"
   ],
   "metadata": {
    "collapsed": false
   }
  },
  {
   "cell_type": "code",
   "execution_count": null,
   "outputs": [],
   "source": [
    "import umap\n",
    "import matplotlib.pyplot as plt\n",
    "umap_model = umap.UMAP(n_neighbors=5, min_dist=0.3, n_components=2)\n",
    "embedded_data = umap_model.fit_transform(sp.mds_features)\n",
    "\n",
    "plt.figure(figsize=(8, 6))\n",
    "scatter = plt.scatter(embedded_data[:, 0], embedded_data[:, 1], c=sp.kmeans_fit_result.labels_,cmap='tab10')\n",
    "plt.title(\"UMAP\")\n",
    "plt.xlabel(\"Dimension 1\")\n",
    "plt.ylabel(\"Dimension 2\")\n",
    "plt.colorbar(scatter, label='Labels')\n",
    "plt.grid(False)\n",
    "plt.xticks([])\n",
    "plt.yticks([])\n",
    "plt.show()"
   ],
   "metadata": {
    "collapsed": false
   }
  },
  {
   "cell_type": "code",
   "execution_count": null,
   "outputs": [],
   "source": [
    "df = sp.compare_gene_to_genes('BRAFhuman')"
   ],
   "metadata": {
    "collapsed": false
   }
  },
  {
   "cell_type": "code",
   "execution_count": null,
   "outputs": [],
   "source": [
    "x_min = sp.adata.obsm['spatial_real'][:,1].min()\n",
    "x_max = sp.adata.obsm['spatial_real'][:,1].max()\n",
    "y_min = sp.adata.obsm['spatial_real'][:,0].min()\n",
    "y_max = sp.adata.obsm['spatial_real'][:,0].max()\n",
    "print(x_min, x_max, y_min,y_max)\n",
    "print((y_max-y_min)/(x_max-x_min))"
   ],
   "metadata": {
    "collapsed": false
   }
  },
  {
   "cell_type": "code",
   "execution_count": null,
   "outputs": [],
   "source": [
    "from STMiner.Algorithm.distance import get_exp_array\n",
    "from sklearn import mixture\n",
    "from STMiner.Algorithm.distribution import array_to_list\n",
    "\n",
    "\n",
    "def get_gmm(matrix, n_comp=10):\n",
    "    arr = np.array(matrix, dtype=np.int32)\n",
    "    result = array_to_list(arr)\n",
    "    gmm = mixture.GaussianMixture(n_components=n_comp, max_iter=200).fit(result)\n",
    "    return gmm\n",
    "\n",
    "\n",
    "image = io.imread(\"E:/data/RegionC/RegionCplaqueHires.png\")\n",
    "cropped_image = cut_image(image)\n",
    "resized = transform.resize(cropped_image, get_exp_array(adata, adata.var.index[0]).shape)\n",
    "gaussian = filters.gaussian(resized, 3)\n",
    "binary = np.where(gaussian > np.percentile(gaussian, 40), 1, 0)\n",
    "gmm = get_gmm(binary, n_comp=20)"
   ],
   "metadata": {
    "collapsed": false
   }
  },
  {
   "cell_type": "code",
   "execution_count": null,
   "outputs": [],
   "source": [
    "x_min = sp.adata.obsm['spatial_real'][:,1].min()\n",
    "x_max = sp.adata.obsm['spatial_real'][:,1].max()\n",
    "y_min = sp.adata.obsm['spatial_real'][:,0].min()\n",
    "y_max = sp.adata.obsm['spatial_real'][:,0].max()\n",
    "from PIL import Image\n",
    "Image.MAX_IMAGE_PIXELS = None\n",
    "# 打开图像文件\n",
    "image = Image.open(\"E://human/GSM4838132_Visium_B_image.tif/GSM4838132_Visium_B_image.tif\")  # 替换为你的图像文件路径\n",
    "\n",
    "# 使用crop方法进行剪裁\n",
    "cropped_image = image.crop((x_min, y_min, x_max, y_max))\n",
    "\n",
    "# 保存剪裁后的图像\n",
    "cropped_image.save(\"cropped_image.tif\")  # 保存为新的文件，也可以覆盖原始文件"
   ],
   "metadata": {
    "collapsed": false
   }
  },
  {
   "cell_type": "code",
   "execution_count": null,
   "outputs": [],
   "source": [
    "sp.fit_pattern(n_top_genes=500, n_comp=50, min_cells=200)\n",
    "sp.build_distance_array()"
   ],
   "metadata": {
    "collapsed": false
   }
  },
  {
   "cell_type": "code",
   "execution_count": null,
   "outputs": [],
   "source": [
    "sp.cluster_gene(n_clusters=7, mds_components=20)"
   ],
   "metadata": {
    "collapsed": false
   }
  },
  {
   "cell_type": "code",
   "execution_count": null,
   "outputs": [],
   "source": [
    "import pandas as pd\n",
    "import seaborn as sns\n",
    "import matplotlib.pyplot as plt\n",
    "index = pd.DataFrame([db,si,ch], index=['1/db','si','ch']).T\n",
    "index_1 = (index-index.min()) / (index.max() - index.min())\n",
    "sns.lineplot(index_1, markers=True)\n",
    "plt.xticks(list(range(2, 12, 1)))\n",
    "plt.xlabel(\"Number of Clusters\")\n",
    "plt.ylabel(\"Normalized Score\")\n",
    "plt.title(\"Evaluate Clustering Performance\")\n",
    "plt.show()"
   ],
   "metadata": {
    "collapsed": false
   }
  },
  {
   "cell_type": "code",
   "execution_count": null,
   "outputs": [],
   "source": [
    "sp.genes_distance_array.loc['frzb'].mean()"
   ],
   "metadata": {
    "collapsed": false
   }
  },
  {
   "cell_type": "code",
   "execution_count": null,
   "outputs": [],
   "source": [
    "df = pd.DataFrame(sp.genes_distance_array.mean(axis=1), columns=['mean'])\n",
    "df = df.sort_values(by='mean', ascending=False)"
   ],
   "metadata": {
    "collapsed": false
   }
  },
  {
   "cell_type": "code",
   "execution_count": null,
   "outputs": [],
   "source": [
    "import seaborn as sns\n",
    "sns.histplot(df)"
   ],
   "metadata": {
    "collapsed": false
   }
  },
  {
   "cell_type": "code",
   "execution_count": null,
   "outputs": [],
   "source": [
    "sp.genes_distance_array.loc['pax3a'].mean()"
   ],
   "metadata": {
    "collapsed": false
   }
  },
  {
   "cell_type": "code",
   "execution_count": null,
   "outputs": [],
   "source": [
    "from STMiner.Algorithm.distance import get_exp_array\n",
    "from scipy.sparse import csr_matrix\n",
    "import seaborn as sns\n",
    "\n",
    "arr = get_exp_array(sp.adata, 'myl10')\n",
    "arr = np.maximum(arr - np.mean(arr[arr != 0]), 0)\n",
    "sparse_matrix = csr_matrix(arr)\n",
    "sns.scatterplot(x=sparse_matrix.nonzero()[1],\n",
    "                y=sparse_matrix.nonzero()[0],\n",
    "                c=sparse_matrix.data\n",
    "                )\n"
   ],
   "metadata": {
    "collapsed": false
   }
  },
  {
   "cell_type": "code",
   "execution_count": null,
   "outputs": [],
   "source": [
    "from matplotlib.transforms import Bbox\n",
    "import matplotlib.pyplot as plt\n",
    "\n",
    "# 创建一个2x2的子图网格\n",
    "fig, axs = plt.subplots(2, 2, figsize=(8, 6))\n",
    "\n",
    "# 绘制在所有子图中\n",
    "axs[0, 0].plot([1, 2, 3, 4], [1, 2, 3, 4])\n",
    "axs[0, 0].set_title('ss')\n",
    "\n",
    "axs[0, 1].scatter([1, 2, 3, 4], [4, 3, 2, 1])\n",
    "axs[0, 1].set_title('dd')\n",
    "\n",
    "axs[1, 0].bar(['A', 'B', 'C', 'D'], [10, 20, 5, 15])\n",
    "axs[1, 0].set_title('bb')\n",
    "\n",
    "axs[1, 1].pie([30, 20, 25, 15], labels=['X', 'Y', 'Z', 'W'], autopct='%1.1f%%')\n",
    "axs[1, 1].set_title('aa')\n",
    "\n",
    "# 获取特定子图的位置\n",
    "subplotspec = axs[0, 1].get_subplotspec()\n",
    "\n",
    "# 使用subplotspec来创建新的坐标轴\n",
    "new_ax = fig.add_axes(subplotspec.get_position(fig), frameon=False)\n",
    "\n",
    "# 设置新坐标轴的内容\n",
    "new_ax.plot([0, 1, 2, 3], [3, 4, 2, 1])\n",
    "\n",
    "\n",
    "def full_extent(ax, pad=1):\n",
    "    ax.figure.canvas.draw()\n",
    "    items = ax.get_xticklabels() + ax.get_yticklabels()\n",
    "    items += [ax, ax.title]\n",
    "    bbox = Bbox.union([item.get_window_extent() for item in items])\n",
    "    return bbox.expanded(pad, pad)\n",
    "\n",
    "\n",
    "ax2 = plt.subplot(2,2,1)\n",
    "extent = full_extent(ax2).transformed(fig.dpi_scale_trans.inverted())\n",
    "new_ax.figure.savefig('specific_subplot.png', dpi=300, bbox_inches=extent, pad_inches=0)\n"
   ],
   "metadata": {
    "collapsed": false
   }
  }
 ],
 "metadata": {
  "kernelspec": {
   "display_name": "Python 3",
   "language": "python",
   "name": "python3"
  },
  "language_info": {
   "codemirror_mode": {
    "name": "ipython",
    "version": 2
   },
   "file_extension": ".py",
   "mimetype": "text/x-python",
   "name": "python",
   "nbconvert_exporter": "python",
   "pygments_lexer": "ipython2",
   "version": "2.7.6"
  }
 },
 "nbformat": 4,
 "nbformat_minor": 0
}
