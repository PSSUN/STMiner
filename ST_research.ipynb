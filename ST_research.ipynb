{
 "cells": [
  {
   "cell_type": "code",
   "execution_count": null,
   "metadata": {
    "ExecuteTime": {
     "start_time": "2023-04-26T23:41:44.636951Z",
     "end_time": "2023-04-26T23:41:51.626629Z"
    }
   },
   "outputs": [],
   "source": [
    "import scanpy as sc\n",
    "import squidpy as sq\n",
    "\n",
    "from Algorithm.distribution import *\n",
    "from util import *"
   ]
  },
  {
   "cell_type": "code",
   "execution_count": null,
   "outputs": [],
   "source": [
    "ctrl_A = anndata.read_h5ad('E://human/10X_Visium_hunter2021spatially_sample_A_data.h5ad')\n",
    "adata_A = anndata.read_h5ad('E://human/10X_Visium_hunter2021spatially_sample_A_data.h5ad')\n",
    "adata_B = anndata.read_h5ad('E://human/10X_Visium_hunter2021spatially_sample_B_data.h5ad')\n",
    "adata_C = anndata.read_h5ad('E://human/10X_Visium_hunter2021spatially_sample_C_data.h5ad')"
   ],
   "metadata": {
    "collapsed": false
   }
  },
  {
   "cell_type": "code",
   "execution_count": null,
   "metadata": {
    "ExecuteTime": {
     "start_time": "2023-04-26T23:41:53.412118Z",
     "end_time": "2023-04-26T23:41:57.032463Z"
    }
   },
   "outputs": [],
   "source": [
    "h5_path = 'E://human/GSM4838131_Visium_Sample_A_filtered_feature_bc_matrix.h5'\n",
    "csv_path = 'E://human/GSM4838131_Visium_Sample_A_tissue_positions_list.csv'\n",
    "\n",
    "h5_path = 'E://human/GSM4838133_Visium_Sample_C_filtered_feature_bc_matrix.h5'\n",
    "csv_path = 'E://human/GSM4838133_Visium_Sample_C_tissue_positions_list.csv'\n",
    "\n",
    "h5_path = '/Users/sunpeisen/Downloads/data/GSM4838132_Visium_Sample_B_filtered_feature_bc_matrix.h5'\n",
    "csv_path = '/Users/sunpeisen/Downloads/data/GSM4838132_Visium_Sample_B_tissue_positions_list.csv'\n",
    "\n",
    "h5_path = 'E://human/GSM4838132_Visium_Sample_B_filtered_feature_bc_matrix.h5'\n",
    "csv_path = 'E://human/GSM4838132_Visium_Sample_B_tissue_positions_list.csv'\n",
    "\n",
    "adata = sc.read_10x_h5(h5_path)\n",
    "add_spatial_position(adata, csv_path)\n",
    "adata.var_names_make_unique()\n",
    "sc.pp.calculate_qc_metrics(adata, inplace=True)\n",
    "\n",
    "#sc.pp.filter_genes(adata, min_cells=2)\n",
    "adata.var['mt'] = adata.var_names.str.startswith('mt-')  # annotate the group of mitochondrial genes as 'mt'\n",
    "sc.pp.calculate_qc_metrics(adata, qc_vars=['mt'], percent_top=None, log1p=False, inplace=True)\n",
    "adata.var_names_make_unique()\n",
    "\n",
    "#adata = adata[adata.obs[\"pct_counts_mt\"] < 8]\n",
    "sc.pl.violin(adata, \n",
    "             ['n_genes_by_counts', 'total_counts', 'pct_counts_mt'],\n",
    "             jitter=0.4, multi_panel=True)\n"
   ]
  },
  {
   "cell_type": "code",
   "execution_count": null,
   "metadata": {
    "ExecuteTime": {
     "start_time": "2023-04-26T23:41:58.318002Z",
     "end_time": "2023-04-26T23:41:58.662004Z"
    }
   },
   "outputs": [],
   "source": [
    "sc.pp.filter_genes(adata, min_cells=500)\n",
    "adata"
   ]
  },
  {
   "cell_type": "code",
   "execution_count": null,
   "metadata": {},
   "outputs": [],
   "source": [
    "result = convolve(get_3d_matrix(adata), kernel=get_gaussian_kernel(size=5))\n",
    "update_anndata(result, adata)"
   ]
  },
  {
   "cell_type": "code",
   "execution_count": null,
   "metadata": {
    "ExecuteTime": {
     "start_time": "2023-04-26T23:42:04.805865Z",
     "end_time": "2023-04-26T23:42:07.180446Z"
    }
   },
   "outputs": [],
   "source": [
    "sc.pp.normalize_total(adata, inplace=True)\n",
    "sc.pp.log1p(adata)\n",
    "sc.pp.highly_variable_genes(adata, min_mean=0.0125, max_mean=3, min_disp=0.5)\n",
    "sc.pl.highly_variable_genes(adata)"
   ]
  },
  {
   "cell_type": "code",
   "execution_count": null,
   "metadata": {
    "ExecuteTime": {
     "start_time": "2023-04-26T23:42:08.011495Z",
     "end_time": "2023-04-26T23:42:08.046494Z"
    }
   },
   "outputs": [],
   "source": [
    "gene_list = adata.var[adata.var['highly_variable']==True].index"
   ]
  },
  {
   "cell_type": "code",
   "execution_count": null,
   "outputs": [],
   "source": [
    "len(gene_list)"
   ],
   "metadata": {
    "collapsed": false,
    "ExecuteTime": {
     "start_time": "2023-04-26T23:42:10.069406Z",
     "end_time": "2023-04-26T23:42:10.118403Z"
    }
   }
  },
  {
   "cell_type": "code",
   "execution_count": null,
   "outputs": [],
   "source": [
    "from Algorithm.graph import *\n",
    "gmm_dict = fit_gmms(adata, gene_list, n_comp=20)"
   ],
   "metadata": {
    "collapsed": false,
    "ExecuteTime": {
     "start_time": "2023-04-26T23:42:15.707600Z",
     "end_time": "2023-04-27T01:00:10.827927Z"
    }
   }
  },
  {
   "cell_type": "code",
   "execution_count": null,
   "outputs": [],
   "source": [
    "def build_graph(gmm_dict: dict, distance_threshold: int = 1):\n",
    "    # build graph\n",
    "    graph = nx.Graph()\n",
    "    gene_list = list(gmm_dict.keys())\n",
    "    gene_counts = len(gene_list)\n",
    "    # add nodes\n",
    "    for gene_id in gene_list:\n",
    "        graph.add_node(gene_id)\n",
    "    # calculate the weight and add edges\n",
    "    for i in range(gene_counts):\n",
    "        for j in range(gene_counts):\n",
    "            if i != j and not graph.has_edge(gene_list[i], gene_list[j]):\n",
    "                distance = distribution_distance(gmm_dict[gene_list[i]], gmm_dict[gene_list[j]])\n",
    "                if distance < 0:\n",
    "                    print(distance)\n",
    "                    print(gene_list[i]+'...'+gene_list[j])\n",
    "                if distance < distance_threshold:\n",
    "                    weight = 1 / distance\n",
    "                    graph.add_edge(gene_list[i], gene_list[j], weight=weight)\n",
    "    return graph\n",
    "\n",
    "\n",
    "g = build_graph(gmm_dict, distance_threshold=5)\n",
    "g = modify_graph(g)"
   ],
   "metadata": {
    "collapsed": false,
    "ExecuteTime": {
     "start_time": "2023-04-27T09:09:23.886942Z",
     "end_time": "2023-04-27T09:39:18.797798Z"
    }
   }
  },
  {
   "cell_type": "code",
   "execution_count": null,
   "outputs": [],
   "source": [
    "sc.pl.spatial(adata,\n",
    "              size=2,\n",
    "              spot_size=300,\n",
    "              color=list(['actn3b','pdlim5a','ppp1r3ab','si:ch211-266g18.10']))"
   ],
   "metadata": {
    "collapsed": false,
    "ExecuteTime": {
     "start_time": "2023-04-27T10:27:19.021801Z",
     "end_time": "2023-04-27T10:27:21.902913Z"
    }
   }
  },
  {
   "cell_type": "code",
   "execution_count": 48,
   "outputs": [
    {
     "data": {
      "text/plain": "3.28686177892122"
     },
     "execution_count": 48,
     "metadata": {},
     "output_type": "execute_result"
    }
   ],
   "source": [
    "def get_hellinger_distance(gmm1_covs, gmm1_means, gmm2_covs, gmm2_means):\n",
    "    mean_cov = (gmm1_covs + gmm2_covs) / 2\n",
    "    mean_cov_det = np.linalg.det(mean_cov)\n",
    "    mean_cov_inv = np.linalg.inv(mean_cov)\n",
    "    gmm1_cov_det = np.linalg.det(gmm1_covs)\n",
    "    gmm2_cov_det = np.linalg.det(gmm2_covs)\n",
    "    means_diff = gmm1_means - gmm2_means\n",
    "    first_term = np.exp(-(means_diff.T @ mean_cov_inv @ means_diff) / 8)\n",
    "    second_term = ((np.power(gmm1_cov_det, 1 / 4)) * np.power(gmm2_cov_det, (1 / 4))) / np.sqrt(mean_cov_det)\n",
    "    hellinger_distance = np.sqrt(np.abs(1 - first_term * second_term))\n",
    "    return hellinger_distance\n",
    "\n",
    "def distribution_distance(gmm1, gmm2):\n",
    "    gmm1_weights = gmm1.weights_\n",
    "    gmm1_means = gmm1.means_\n",
    "    gmm1_covs = gmm1.covariances_\n",
    "    gmm2_weights = gmm2.weights_\n",
    "    gmm2_means = gmm2.means_\n",
    "    gmm2_covs = gmm2.covariances_\n",
    "    n_components = gmm1_weights.size\n",
    "    # calculate the distance\n",
    "    distance_array = np.zeros((n_components, n_components))\n",
    "    for i in range(n_components):\n",
    "        for j in range(n_components):\n",
    "            distance_array[i, j] = get_hellinger_distance(gmm1_covs[i], gmm1_means[i], gmm2_covs[j], gmm2_means[j])\n",
    "    # TODO: consider the weight of each component\n",
    "    min_cost = linear_sum(distance_array)\n",
    "    return min_cost\n",
    "\n",
    "\n",
    "distribution_distance(gmm_dict['actn3b'], gmm_dict['si:ch211-266g18.10'])"
   ],
   "metadata": {
    "collapsed": false,
    "ExecuteTime": {
     "start_time": "2023-04-27T11:15:10.282758Z",
     "end_time": "2023-04-27T11:15:35.136604Z"
    }
   }
  },
  {
   "cell_type": "code",
   "execution_count": null,
   "outputs": [],
   "source": [
    "gmm_dict['actn3b']\n"
   ],
   "metadata": {
    "collapsed": false,
    "ExecuteTime": {
     "start_time": "2023-04-27T10:40:04.679502Z",
     "end_time": "2023-04-27T10:40:04.741498Z"
    }
   }
  },
  {
   "cell_type": "code",
   "execution_count": null,
   "outputs": [],
   "source": [],
   "metadata": {
    "collapsed": false
   }
  },
  {
   "cell_type": "code",
   "execution_count": null,
   "outputs": [],
   "source": [
    "plt.figure(figsize=(8, 8))\n",
    "pos = nx.spring_layout(g)\n",
    "\n",
    "nx.draw_networkx(g, pos=pos, with_labels=True, node_size=600, width=2, node_color='yellow')\n",
    "plt.show()"
   ],
   "metadata": {
    "collapsed": false,
    "ExecuteTime": {
     "start_time": "2023-04-27T09:55:04.926595Z",
     "end_time": "2023-04-27T09:55:10.478553Z"
    }
   }
  },
  {
   "cell_type": "code",
   "execution_count": null,
   "outputs": [],
   "source": [
    "from sklearn.cluster import SpectralClustering\n",
    "\n",
    "similarity_matrix  = nx.to_numpy_array(g)\n",
    "k = 2  # 聚类数\n",
    "\n",
    "clustering_model = SpectralClustering(n_clusters=k, affinity='precomputed', n_init=100)\n",
    "clustering_model.fit(similarity_matrix)\n",
    "\n",
    "# 打印聚类结果\n",
    "print(\"Cluster labels:\", clustering_model.labels_)"
   ],
   "metadata": {
    "collapsed": false,
    "ExecuteTime": {
     "start_time": "2023-04-26T23:11:20.556009Z",
     "end_time": "2023-04-26T23:11:20.779010Z"
    }
   }
  },
  {
   "cell_type": "code",
   "execution_count": null,
   "outputs": [],
   "source": [
    "similarity_matrix"
   ],
   "metadata": {
    "collapsed": false,
    "ExecuteTime": {
     "start_time": "2023-04-27T10:02:25.257924Z",
     "end_time": "2023-04-27T10:02:25.285924Z"
    }
   }
  },
  {
   "cell_type": "code",
   "execution_count": null,
   "outputs": [],
   "source": [
    "clustering_model.labels_"
   ],
   "metadata": {
    "collapsed": false,
    "ExecuteTime": {
     "start_time": "2023-04-26T23:13:38.208829Z",
     "end_time": "2023-04-26T23:13:38.223437Z"
    }
   }
  },
  {
   "cell_type": "code",
   "execution_count": null,
   "outputs": [],
   "source": [
    "similarity_matrix"
   ],
   "metadata": {
    "collapsed": false,
    "ExecuteTime": {
     "start_time": "2023-04-27T10:12:19.980416Z",
     "end_time": "2023-04-27T10:12:20.083054Z"
    }
   }
  },
  {
   "cell_type": "code",
   "execution_count": null,
   "outputs": [],
   "source": [
    "list(nx.spring_layout(g).keys())"
   ],
   "metadata": {
    "collapsed": false,
    "ExecuteTime": {
     "start_time": "2023-04-26T23:13:57.677963Z",
     "end_time": "2023-04-26T23:13:57.693707Z"
    }
   }
  },
  {
   "cell_type": "code",
   "execution_count": null,
   "outputs": [],
   "source": [
    "similarity_matrix"
   ],
   "metadata": {
    "collapsed": false,
    "ExecuteTime": {
     "start_time": "2023-04-26T23:15:03.155565Z",
     "end_time": "2023-04-26T23:15:03.184580Z"
    }
   }
  },
  {
   "cell_type": "code",
   "execution_count": null,
   "outputs": [],
   "source": [],
   "metadata": {
    "collapsed": false,
    "ExecuteTime": {
     "start_time": "2023-04-27T10:26:22.301017Z",
     "end_time": "2023-04-27T10:26:24.041165Z"
    }
   }
  },
  {
   "cell_type": "code",
   "execution_count": null,
   "outputs": [],
   "source": [
    "import networkx as nx\n",
    "\n",
    "# 使用Louvain算法进行聚类\n",
    "comp = nx.algorithms.community.girvan_newman(g)\n",
    "\n",
    "# 打印结果\n",
    "for i, c in enumerate(comp):\n",
    "    print(f\"Community {i+1}: {c}\")"
   ],
   "metadata": {
    "collapsed": false,
    "ExecuteTime": {
     "start_time": "2023-04-24T11:06:21.934002Z",
     "end_time": "2023-04-24T11:06:22.158853Z"
    }
   }
  },
  {
   "cell_type": "code",
   "execution_count": null,
   "outputs": [],
   "source": [],
   "metadata": {
    "collapsed": false,
    "ExecuteTime": {
     "start_time": "2023-04-24T11:08:18.990294Z",
     "end_time": "2023-04-24T11:08:19.040293Z"
    }
   }
  },
  {
   "cell_type": "code",
   "execution_count": null,
   "metadata": {
    "ExecuteTime": {
     "start_time": "2023-04-24T10:48:38.415482Z",
     "end_time": "2023-04-24T10:48:38.446485Z"
    }
   },
   "outputs": [],
   "source": [
    "import networkx as nx\n",
    "adj_matrix = nx.to_numpy_matrix(g)"
   ]
  },
  {
   "cell_type": "code",
   "execution_count": null,
   "outputs": [],
   "source": [
    "degree_matrix = np.diag(np.sum(adj_matrix, axis=1))\n",
    "laplacian_matrix = degree_matrix - adj_matrix\n",
    "\n",
    "eigenvalues, eigenvectors = np.linalg.eig(np.asarray(laplacian_matrix))\n",
    "\n",
    "k = 10\n",
    "U = eigenvectors[:, 0:k]\n",
    "\n",
    "normalized_U = U / np.linalg.norm(U, axis=1).reshape(-1, 1)\n",
    "\n",
    "from sklearn.cluster import KMeans\n",
    "\n",
    "kmeans = KMeans()\n",
    "kmeans.fit(normalized_U)\n",
    "\n",
    "\n",
    "plt.scatter(np.array(U[:,0]), np.array(U[:,1]), c=kmeans.labels_)\n",
    "plt.show()"
   ],
   "metadata": {
    "collapsed": false,
    "ExecuteTime": {
     "start_time": "2023-04-24T11:00:54.011746Z",
     "end_time": "2023-04-24T11:00:54.229744Z"
    }
   }
  },
  {
   "cell_type": "code",
   "execution_count": null,
   "outputs": [],
   "source": [
    "import matplotlib.pyplot as plt\n",
    "import networkx as nx\n",
    "from networkx.algorithms.community import greedy_modularity_communities\n",
    "\n",
    "# 使用贪心算法计算模块化谱图\n",
    "communities = list(greedy_modularity_communities(g))\n",
    "\n",
    "# 可视化模块化谱图\n",
    "pos = nx.spring_layout(g)\n",
    "for i, community in enumerate(communities):\n",
    "    nx.draw_networkx_nodes(g, pos, nodelist=list(community), node_color=f'C{i}', node_size=100, alpha=0.8)\n",
    "nx.draw_networkx_edges(g, pos, width=1, alpha=0.5)\n",
    "plt.show()"
   ],
   "metadata": {
    "collapsed": false,
    "ExecuteTime": {
     "start_time": "2023-04-24T11:04:05.596852Z",
     "end_time": "2023-04-24T11:04:06.112648Z"
    }
   }
  },
  {
   "cell_type": "code",
   "execution_count": null,
   "metadata": {},
   "outputs": [],
   "source": [
    "# TODO: know why\n",
    "sc.pp.regress_out(adata, ['total_counts', 'pct_counts_mt'])\n",
    "sc.pp.scale(adata, max_value=10)"
   ]
  },
  {
   "cell_type": "code",
   "execution_count": null,
   "metadata": {},
   "outputs": [],
   "source": [
    "sc.tl.pca(adata, svd_solver='arpack')\n",
    "sc.pp.neighbors(adata, n_neighbors=30, n_pcs=50)\n",
    "sc.tl.umap(adata)\n",
    "sc.tl.leiden(adata)\n",
    "sc.pl.umap(adata, color='leiden')"
   ]
  },
  {
   "cell_type": "code",
   "execution_count": null,
   "metadata": {},
   "outputs": [],
   "source": [
    "sq.pl.spatial_scatter(adata, color='leiden', shape=None, dpi=200, size=24)"
   ]
  },
  {
   "cell_type": "code",
   "execution_count": null,
   "metadata": {},
   "outputs": [],
   "source": [
    "tmp = adata[(adata.obs['leiden']=='3') |\n",
    "            (adata.obs['leiden']=='0')]"
   ]
  },
  {
   "cell_type": "code",
   "execution_count": null,
   "metadata": {},
   "outputs": [],
   "source": [
    "\n",
    "sc.tl.pca(tmp, svd_solver='arpack')\n",
    "sc.pp.neighbors(tmp, n_neighbors=20, n_pcs=50)\n",
    "sc.tl.umap(tmp)\n",
    "sc.tl.leiden(tmp)\n",
    "sc.pl.umap(tmp, color='leiden')"
   ]
  },
  {
   "cell_type": "code",
   "execution_count": null,
   "metadata": {},
   "outputs": [],
   "source": [
    "sq.pl.spatial_scatter(tmp, color='leiden', shape=None, dpi=200, size=24)"
   ]
  },
  {
   "cell_type": "code",
   "execution_count": null,
   "metadata": {},
   "outputs": [],
   "source": [
    "sc.pl.spatial(adata, \n",
    "              size=2,\n",
    "              spot_size=300,\n",
    "              color=['tbk1','ptpro','tcap', 'mt2'])"
   ]
  },
  {
   "cell_type": "code",
   "execution_count": null,
   "metadata": {},
   "outputs": [],
   "source": [
    "gmm1 = fit_gmm(adata, 'mt2')\n",
    "gmm2 = fit_gmm(adata, 'ptpro')"
   ]
  },
  {
   "cell_type": "code",
   "execution_count": null,
   "metadata": {},
   "outputs": [],
   "source": [
    "distribution_distance(gmm1, gmm2)"
   ]
  },
  {
   "cell_type": "code",
   "execution_count": null,
   "metadata": {},
   "outputs": [],
   "source": [
    "view_gmm(gmm1)"
   ]
  },
  {
   "cell_type": "code",
   "execution_count": null,
   "metadata": {},
   "outputs": [],
   "source": [
    "view_gmm(gmm2, '2d')"
   ]
  }
 ],
 "metadata": {
  "kernelspec": {
   "display_name": "Python 3 (Spyder)",
   "language": "python3",
   "name": "python3"
  },
  "language_info": {
   "codemirror_mode": {
    "name": "ipython",
    "version": 3
   },
   "file_extension": ".py",
   "mimetype": "text/x-python",
   "name": "python",
   "nbconvert_exporter": "python",
   "pygments_lexer": "ipython3",
   "version": "3.9.12"
  },
  "vscode": {
   "interpreter": {
    "hash": "3ea450d80640d0216cdbd2aa66e3621431783f9ab54db8d39d4961442a9c6840"
   }
  }
 },
 "nbformat": 4,
 "nbformat_minor": 4
}
