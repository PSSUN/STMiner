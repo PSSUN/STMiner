{
 "cells": [
  {
   "cell_type": "code",
   "execution_count": null,
   "metadata": {},
   "outputs": [],
   "source": [
    "ctrl_A = anndata.read_h5ad('E://human/10X_Visium_hunter2021spatially_sample_A_data.h5ad')\n",
    "adata_A = anndata.read_h5ad('E://human/10X_Visium_hunter2021spatially_sample_A_data.h5ad')\n",
    "adata_B = anndata.read_h5ad('E://human/10X_Visium_hunter2021spatially_sample_B_data.h5ad')\n",
    "adata_C = anndata.read_h5ad('E://human/10X_Visium_hunter2021spatially_sample_C_data.h5ad')"
   ]
  },
  {
   "cell_type": "code",
   "execution_count": null,
   "metadata": {},
   "outputs": [],
   "source": [
    "from util import *\n",
    "\n",
    "h5_path = 'E://human/GSM4838132_Visium_Sample_B_filtered_feature_bc_matrix.h5'\n",
    "csv_path = 'E://human/GSM4838132_Visium_Sample_B_tissue_positions_list.csv'\n",
    "\n",
    "h5_path = 'E://human/GSM4838131_Visium_Sample_A_filtered_feature_bc_matrix.h5'\n",
    "csv_path = 'E://human/GSM4838131_Visium_Sample_A_tissue_positions_list.csv'\n",
    "\n",
    "h5_path = 'E://human/GSM4838133_Visium_Sample_C_filtered_feature_bc_matrix.h5'\n",
    "csv_path = 'E://human/GSM4838133_Visium_Sample_C_tissue_positions_list.csv'\n",
    "\n",
    "h5_path = '/Users/sunpeisen/Downloads/data/GSM4838132_Visium_Sample_B_filtered_feature_bc_matrix.h5'\n",
    "csv_path = '/Users/sunpeisen/Downloads/data/GSM4838132_Visium_Sample_B_tissue_positions_list.csv'\n",
    "\n",
    "adata = sc.read_10x_h5(h5_path)\n",
    "add_spatial_position(adata, csv_path)\n",
    "adata.var_names_make_unique()\n",
    "sc.pp.calculate_qc_metrics(adata, inplace=True)\n",
    "\n",
    "#sc.pp.filter_genes(adata, min_cells=2)\n",
    "adata.var['mt'] = adata.var_names.str.startswith('mt-')  # annotate the group of mitochondrial genes as 'mt'\n",
    "sc.pp.calculate_qc_metrics(adata, qc_vars=['mt'], percent_top=None, log1p=False, inplace=True)\n",
    "adata.var_names_make_unique()\n",
    "\n",
    "#adata = adata[adata.obs[\"pct_counts_mt\"] < 8]\n",
    "\n",
    "sc.pl.violin(adata, \n",
    "             ['n_genes_by_counts', 'total_counts', 'pct_counts_mt'],\n",
    "             jitter=0.4, multi_panel=True)\n"
   ]
  },
  {
   "cell_type": "code",
   "execution_count": null,
   "metadata": {},
   "outputs": [],
   "source": [
    "sc.pp.filter_genes(adata, min_cells=20)\n",
    "adata"
   ]
  },
  {
   "cell_type": "code",
   "execution_count": null,
   "metadata": {},
   "outputs": [],
   "source": [
    "result = convolve(get_3D_matrix(adata), kernel=get_gaussian_kernel(size=5))\n",
    "update_anndata(result, adata)"
   ]
  },
  {
   "cell_type": "code",
   "execution_count": null,
   "metadata": {},
   "outputs": [],
   "source": [
    "sc.pp.log1p(adata)"
   ]
  },
  {
   "cell_type": "code",
   "execution_count": null,
   "metadata": {},
   "outputs": [],
   "source": [
    "sc.pp.normalize_total(adata, inplace=True)\n",
    "sc.pp.log1p(adata)\n",
    "sc.pp.highly_variable_genes(adata, min_mean=0.0125, max_mean=3, min_disp=0.5)\n",
    "sc.pl.highly_variable_genes(adata)"
   ]
  },
  {
   "cell_type": "code",
   "execution_count": null,
   "metadata": {},
   "outputs": [],
   "source": [
    "# TODO: know why\n",
    "sc.pp.regress_out(adata, ['total_counts', 'pct_counts_mt'])\n",
    "sc.pp.scale(adata, max_value=10)"
   ]
  },
  {
   "cell_type": "code",
   "execution_count": null,
   "metadata": {},
   "outputs": [],
   "source": [
    "sc.tl.pca(adata, svd_solver='arpack')\n",
    "sc.pp.neighbors(adata, n_neighbors=30, n_pcs=50)\n",
    "sc.tl.umap(adata)\n",
    "sc.tl.leiden(adata)\n",
    "sc.pl.umap(adata, color='leiden')"
   ]
  },
  {
   "cell_type": "code",
   "execution_count": null,
   "metadata": {},
   "outputs": [],
   "source": [
    "sq.pl.spatial_scatter(adata, color='leiden', shape=None, dpi=200, size=24)"
   ]
  },
  {
   "cell_type": "code",
   "execution_count": null,
   "metadata": {},
   "outputs": [],
   "source": [
    "tmp = adata[(adata.obs['leiden']=='3') |\n",
    "            (adata.obs['leiden']=='0')]"
   ]
  },
  {
   "cell_type": "code",
   "execution_count": null,
   "metadata": {},
   "outputs": [],
   "source": [
    "tmp.uns.pop('leiden_colors')\n",
    "sc.tl.pca(tmp, svd_solver='arpack')\n",
    "sc.pp.neighbors(tmp, n_neighbors=20, n_pcs=50)\n",
    "sc.tl.umap(tmp)\n",
    "sc.tl.leiden(tmp)\n",
    "sc.pl.umap(tmp, color='leiden')"
   ]
  },
  {
   "cell_type": "code",
   "execution_count": null,
   "metadata": {},
   "outputs": [],
   "source": [
    "sq.pl.spatial_scatter(tmp, color='leiden', shape=None, dpi=200, size=24)"
   ]
  },
  {
   "cell_type": "code",
   "execution_count": null,
   "metadata": {},
   "outputs": [],
   "source": [
    "sc.pl.spatial(adata, \n",
    "              size=2,\n",
    "              spot_size=300,\n",
    "              color=['tbk1','ptpro'])"
   ]
  },
  {
   "cell_type": "code",
   "execution_count": null,
   "metadata": {},
   "outputs": [],
   "source": [
    "sc.pl.spatial(adata, \n",
    "              size=2,\n",
    "              spot_size=250,\n",
    "              color=['tbk1','tcap', 'mt2'])"
   ]
  },
  {
   "cell_type": "code",
   "execution_count": null,
   "metadata": {},
   "outputs": [],
   "source": [
    "import numpy as np\n",
    "import matplotlib.pyplot as plt\n",
    "from mpl_toolkits.mplot3d import Axes3D\n",
    "from scipy.stats import multivariate_normal\n",
    "from sklearn import mixture\n",
    "\n",
    "sample = []\n",
    "t = adata[:, adata.var_names == 'tcap']\n",
    "for index, value in enumerate(t.X.todense()):\n",
    "    tmp = int(value*10)\n",
    "    if tmp > 0:\n",
    "        for i in range(tmp):\n",
    "            sample.append([int(t[index].obs.fig_x), int(t[index].obs.fig_y)])\n",
    "\n",
    "gmm1 = mixture.GaussianMixture(n_components=5, max_iter=1000, warm_start=False)\n",
    "gmm1.fit(sample)"
   ]
  },
  {
   "cell_type": "code",
   "execution_count": null,
   "metadata": {},
   "outputs": [],
   "source": [
    "sample = []\n",
    "t = adata[:, adata.var_names == 'mt2']\n",
    "for index, value in enumerate(t.X.todense()):\n",
    "    tmp = int(value*10)\n",
    "    if tmp > 0:\n",
    "        for i in range(tmp):\n",
    "            sample.append([int(t[index].obs.fig_x), int(t[index].obs.fig_y)])\n",
    "\n",
    "gmm = mixture.GaussianMixture(n_components=5, max_iter=1000, warm_start=False)\n",
    "gmm.fit(sample)"
   ]
  },
  {
   "cell_type": "code",
   "execution_count": null,
   "metadata": {},
   "outputs": [],
   "source": [
    "import numpy as np\n",
    "from scipy.stats import multivariate_normal\n",
    "\n",
    "# 定义两个GMM\n",
    "gmm1_weights = gmm1.weights_\n",
    "gmm1_means = gmm1.means_\n",
    "gmm1_covs = gmm1.covariances_\n",
    "\n",
    "gmm2_weights = gmm.weights_\n",
    "gmm2_means = gmm.means_\n",
    "gmm2_covs = gmm.covariances_\n",
    "n_components = gmm2_weights.size\n",
    "# 计算所有组件之间的Bhattacharyya距离\n",
    "bhat_dist = np.zeros((n_components, n_components))\n",
    "for i in range(n_components):\n",
    "    for j in range(n_components):\n",
    "        mean_cov = 0.5*(gmm1_covs[i]+gmm2_covs[j])\n",
    "        mean_cov_det = np.linalg.det(mean_cov)\n",
    "        mean_cov_inv = np.linalg.inv(mean_cov)\n",
    "        means_diff = gmm1_means[i] - gmm2_means[j]\n",
    "        first_term = ((means_diff).T @ mean_cov_inv @ (means_diff))/8\n",
    "        second_term = np.log(\n",
    "            mean_cov_det/(np.sqrt(np.linalg.det(gmm1_covs[i]) * np.linalg.det(gmm1_covs[j]))))/2\n",
    "        result = first_term+second_term\n",
    "        bhat_dist[i, j] = result\n",
    "\n",
    "min_bhat_dist = np.min(bhat_dist)\n",
    "min_bd = bhat_dist * gmm1_weights.reshape(n_components, 1)\n",
    "print(\"Bhattacharyya距离的最小值为:\", np.sum(np.amin(min_bd, axis=1)))\n"
   ]
  },
  {
   "cell_type": "code",
   "execution_count": null,
   "metadata": {},
   "outputs": [],
   "source": [
    "bhat_dist"
   ]
  },
  {
   "cell_type": "code",
   "execution_count": null,
   "metadata": {},
   "outputs": [],
   "source": [
    "bhat_dist1"
   ]
  },
  {
   "cell_type": "code",
   "execution_count": null,
   "metadata": {},
   "outputs": [],
   "source": [
    "# 网格化数据空间\n",
    "x = np.linspace(0, 30000, 100)\n",
    "y = np.linspace(0, 30000, 100)\n",
    "X, Y = np.meshgrid(x, y)\n",
    "XY = np.column_stack([X.flat, Y.flat])\n",
    "\n",
    "# 计算概率密度函数值\n",
    "Z = gmm1.score_samples(XY)\n",
    "Z = Z.reshape(X.shape)\n",
    "\n",
    "Z1 = gmm.score_samples(XY)\n",
    "Z1 = Z1.reshape(X.shape)\n",
    "# 绘制三维表面图\n",
    "fig = plt.figure()\n",
    "ax = fig.add_subplot(111, projection='3d')\n",
    "ax.plot_surface(X, Y, Z, cmap='viridis')\n",
    "ax.set_xlabel('x')\n",
    "ax.set_ylabel('y')\n",
    "ax.set_zlabel('pdf')\n",
    "ax.set_box_aspect([2, 2, 1])\n",
    "ax.set_title('Probability Density Function Surface')\n",
    "#ax.grid(False)\n",
    "#ax.axis('off')\n",
    "ax.view_init(elev=40, azim=235)\n",
    "plt.show()"
   ]
  },
  {
   "cell_type": "code",
   "execution_count": null,
   "metadata": {},
   "outputs": [],
   "source": [
    "-np.log(np.sqrt(np.exp(Z1) * np.exp(Z)).sum())"
   ]
  },
  {
   "cell_type": "code",
   "execution_count": null,
   "metadata": {},
   "outputs": [],
   "source": [
    "1-np.sqrt(np.exp(Z1) * np.exp(Z1)).sum()"
   ]
  },
  {
   "cell_type": "code",
   "execution_count": null,
   "metadata": {},
   "outputs": [],
   "source": [
    "sns.heatmap(np.exp(Z1))\n",
    "plt.show()"
   ]
  },
  {
   "cell_type": "code",
   "execution_count": null,
   "metadata": {},
   "outputs": [],
   "source": [
    "from sklearn.cluster import KMeans\n",
    "\n",
    "kmeans = KMeans(n_clusters=2)\n",
    "kmeans.fit(total_list)\n",
    "df['label'] = kmeans.labels_"
   ]
  },
  {
   "cell_type": "code",
   "execution_count": null,
   "metadata": {},
   "outputs": [],
   "source": [
    "sns.scatterplot(data=df, x='x',y='y',hue='label')"
   ]
  },
  {
   "cell_type": "code",
   "execution_count": null,
   "metadata": {},
   "outputs": [],
   "source": [
    "sc.tl.rank_genes_groups(tmp, groupby=\"leiden\")\n",
    "import matplotlib.pyplot as plt\n",
    "\n",
    "sc.pl.rank_genes_groups_dotplot(tmp, \n",
    "                                groupby=\"leiden\", \n",
    "                                figsize=(20,3)\n",
    "                                )"
   ]
  },
  {
   "cell_type": "code",
   "execution_count": null,
   "metadata": {},
   "outputs": [],
   "source": [
    "sc.pl.rank_genes_groups_heatmap(tmp, \n",
    "                                swap_axes=True,\n",
    "                                groupby=\"leiden\")"
   ]
  },
  {
   "cell_type": "code",
   "execution_count": null,
   "metadata": {},
   "outputs": [],
   "source": [
    "sc.pl.rank_genes_groups_tracksplot(tmp, figsize=(25,15))"
   ]
  }
 ],
 "metadata": {
  "kernelspec": {
   "display_name": "Python 3 (Spyder)",
   "language": "python3",
   "name": "python3"
  },
  "language_info": {
   "codemirror_mode": {
    "name": "ipython",
    "version": 3
   },
   "file_extension": ".py",
   "mimetype": "text/x-python",
   "name": "python",
   "nbconvert_exporter": "python",
   "pygments_lexer": "ipython3",
   "version": "3.9.13"
  },
  "vscode": {
   "interpreter": {
    "hash": "3ea450d80640d0216cdbd2aa66e3621431783f9ab54db8d39d4961442a9c6840"
   }
  }
 },
 "nbformat": 4,
 "nbformat_minor": 4
}
