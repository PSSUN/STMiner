{
 "cells": [
  {
   "cell_type": "code",
   "execution_count": 1,
   "metadata": {},
   "outputs": [
    {
     "data": {
      "application/vnd.jupyter.widget-view+json": {
       "model_id": "2050f2a8bdb3419aa7de52ebb14cd8d4",
       "version_major": 2,
       "version_minor": 0
      },
      "text/plain": [
       "  0%|          | 0.00/7.86M [00:00<?, ?B/s]"
      ]
     },
     "metadata": {},
     "output_type": "display_data"
    },
    {
     "data": {
      "application/vnd.jupyter.widget-view+json": {
       "model_id": "029cfdcff785448ab6b6d398ee3ab81e",
       "version_major": 2,
       "version_minor": 0
      },
      "text/plain": [
       "  0%|          | 0.00/29.3M [00:00<?, ?B/s]"
      ]
     },
     "metadata": {},
     "output_type": "display_data"
    },
    {
     "name": "stderr",
     "output_type": "stream",
     "text": [
      "f:\\conda\\lib\\site-packages\\anndata\\_core\\anndata.py:1830: UserWarning: Variable names are not unique. To make them unique, call `.var_names_make_unique`.\n",
      "  utils.warn_names_duplicates(\"var\")\n"
     ]
    }
   ],
   "source": [
    "import scanpy as sc\n",
    "import pandas as pd\n",
    "import matplotlib.pyplot as plt\n",
    "import seaborn as sns\n",
    "\n",
    "adata = sc.datasets.visium_sge(sample_id=\"V1_Human_Lymph_Node\")\n",
    "adata.var_names_make_unique()\n",
    "adata.var[\"mt\"] = adata.var_names.str.startswith(\"MT-\")\n",
    "sc.pp.calculate_qc_metrics(adata, qc_vars=[\"mt\"], inplace=True)"
   ]
  },
  {
   "cell_type": "code",
   "execution_count": 21,
   "metadata": {},
   "outputs": [
    {
     "data": {
      "text/plain": [
       "array([[8346, 6982],\n",
       "       [4270, 1363],\n",
       "       [2635, 8074],\n",
       "       ...,\n",
       "       [3181, 6396],\n",
       "       [4153, 9747],\n",
       "       [4822, 1840]], dtype=int64)"
      ]
     },
     "execution_count": 21,
     "metadata": {},
     "output_type": "execute_result"
    }
   ],
   "source": [
    "adata.obsm['spatial']"
   ]
  },
  {
   "cell_type": "code",
   "execution_count": 20,
   "metadata": {},
   "outputs": [
    {
     "data": {
      "text/plain": [
       "array([[[0.5882353 , 0.6       , 0.5764706 ],\n",
       "        [0.58431375, 0.6       , 0.5686275 ],\n",
       "        [0.5882353 , 0.6       , 0.5686275 ],\n",
       "        ...,\n",
       "        [0.5803922 , 0.5921569 , 0.57254905],\n",
       "        [0.5803922 , 0.59607846, 0.5764706 ],\n",
       "        [0.5882353 , 0.59607846, 0.5764706 ]],\n",
       "\n",
       "       [[0.5882353 , 0.6       , 0.57254905],\n",
       "        [0.5882353 , 0.6       , 0.5764706 ],\n",
       "        [0.58431375, 0.6       , 0.5764706 ],\n",
       "        ...,\n",
       "        [0.58431375, 0.59607846, 0.5803922 ],\n",
       "        [0.58431375, 0.59607846, 0.5803922 ],\n",
       "        [0.5882353 , 0.6       , 0.57254905]],\n",
       "\n",
       "       [[0.58431375, 0.6       , 0.5803922 ],\n",
       "        [0.58431375, 0.6       , 0.5764706 ],\n",
       "        [0.58431375, 0.59607846, 0.57254905],\n",
       "        ...,\n",
       "        [0.58431375, 0.59607846, 0.5764706 ],\n",
       "        [0.5803922 , 0.6       , 0.5764706 ],\n",
       "        [0.58431375, 0.59607846, 0.5764706 ]],\n",
       "\n",
       "       ...,\n",
       "\n",
       "       [[0.58431375, 0.59607846, 0.5764706 ],\n",
       "        [0.5882353 , 0.6       , 0.57254905],\n",
       "        [0.5882353 , 0.59607846, 0.5764706 ],\n",
       "        ...,\n",
       "        [0.5921569 , 0.6       , 0.5803922 ],\n",
       "        [0.59607846, 0.6       , 0.5764706 ],\n",
       "        [0.59607846, 0.6       , 0.5764706 ]],\n",
       "\n",
       "       [[0.5882353 , 0.59607846, 0.5764706 ],\n",
       "        [0.58431375, 0.59607846, 0.5764706 ],\n",
       "        [0.5882353 , 0.59607846, 0.5803922 ],\n",
       "        ...,\n",
       "        [0.5921569 , 0.6       , 0.5764706 ],\n",
       "        [0.5921569 , 0.6       , 0.5764706 ],\n",
       "        [0.59607846, 0.6       , 0.5764706 ]],\n",
       "\n",
       "       [[0.58431375, 0.59607846, 0.5764706 ],\n",
       "        [0.58431375, 0.6       , 0.5764706 ],\n",
       "        [0.58431375, 0.59607846, 0.5764706 ],\n",
       "        ...,\n",
       "        [0.5882353 , 0.6       , 0.5764706 ],\n",
       "        [0.5882353 , 0.6       , 0.5764706 ],\n",
       "        [0.5921569 , 0.6       , 0.5764706 ]]], dtype=float32)"
      ]
     },
     "execution_count": 20,
     "metadata": {},
     "output_type": "execute_result"
    }
   ],
   "source": [
    "adata.uns['spatial']['V1_Human_Lymph_Node']['images']['hires']"
   ]
  }
 ],
 "metadata": {
  "kernelspec": {
   "display_name": "base",
   "language": "python",
   "name": "python3"
  },
  "language_info": {
   "codemirror_mode": {
    "name": "ipython",
    "version": 3
   },
   "file_extension": ".py",
   "mimetype": "text/x-python",
   "name": "python",
   "nbconvert_exporter": "python",
   "pygments_lexer": "ipython3",
   "version": "3.9.12"
  },
  "orig_nbformat": 4,
  "vscode": {
   "interpreter": {
    "hash": "88663499456d480d46c7df34b11eb32c15cdba655664b171fe49b4693bc922f2"
   }
  }
 },
 "nbformat": 4,
 "nbformat_minor": 2
}
