{
 "cells": [
  {
   "cell_type": "code",
   "execution_count": null,
   "id": "initial_id",
   "metadata": {
    "collapsed": true
   },
   "outputs": [],
   "source": [
    "from STMiner.Simulate import Simulator \n",
    "from STMiner.SPFinder import SPFinder\n",
    "\n",
    "sp = SPFinder()\n",
    "sp.read_h5ad(file='I://GSM6505120_RatColon_FF_wCS_C_e4_processed.h5ad')"
   ]
  },
  {
   "cell_type": "code",
   "execution_count": null,
   "outputs": [],
   "source": [
    "sp.get_genes_csr_array(min_cells=200)\n",
    "sp.spatial_high_variable_genes()"
   ],
   "metadata": {
    "collapsed": false
   },
   "id": "9d72f37b66b80c8b"
  },
  {
   "cell_type": "code",
   "execution_count": 97,
   "outputs": [
    {
     "data": {
      "text/plain": "            Gene      Distance\n4871  RGD1305645  2.177009e+07\n2908      Guca2b  1.957556e+07\n7066         Sst  1.790647e+07\n6106         Ppy  1.773857e+07\n5886        Hic1  1.630852e+07\n...          ...           ...\n528      Stard10  1.610227e+05\n6237      Mrpl12  1.604160e+05\n3706       Degs2  1.553668e+05\n5839     Gabarap  1.527753e+05\n5737       Hint1  1.511687e+05\n\n[8154 rows x 2 columns]",
      "text/html": "<div>\n<style scoped>\n    .dataframe tbody tr th:only-of-type {\n        vertical-align: middle;\n    }\n\n    .dataframe tbody tr th {\n        vertical-align: top;\n    }\n\n    .dataframe thead th {\n        text-align: right;\n    }\n</style>\n<table border=\"1\" class=\"dataframe\">\n  <thead>\n    <tr style=\"text-align: right;\">\n      <th></th>\n      <th>Gene</th>\n      <th>Distance</th>\n    </tr>\n  </thead>\n  <tbody>\n    <tr>\n      <th>4871</th>\n      <td>RGD1305645</td>\n      <td>2.177009e+07</td>\n    </tr>\n    <tr>\n      <th>2908</th>\n      <td>Guca2b</td>\n      <td>1.957556e+07</td>\n    </tr>\n    <tr>\n      <th>7066</th>\n      <td>Sst</td>\n      <td>1.790647e+07</td>\n    </tr>\n    <tr>\n      <th>6106</th>\n      <td>Ppy</td>\n      <td>1.773857e+07</td>\n    </tr>\n    <tr>\n      <th>5886</th>\n      <td>Hic1</td>\n      <td>1.630852e+07</td>\n    </tr>\n    <tr>\n      <th>...</th>\n      <td>...</td>\n      <td>...</td>\n    </tr>\n    <tr>\n      <th>528</th>\n      <td>Stard10</td>\n      <td>1.610227e+05</td>\n    </tr>\n    <tr>\n      <th>6237</th>\n      <td>Mrpl12</td>\n      <td>1.604160e+05</td>\n    </tr>\n    <tr>\n      <th>3706</th>\n      <td>Degs2</td>\n      <td>1.553668e+05</td>\n    </tr>\n    <tr>\n      <th>5839</th>\n      <td>Gabarap</td>\n      <td>1.527753e+05</td>\n    </tr>\n    <tr>\n      <th>5737</th>\n      <td>Hint1</td>\n      <td>1.511687e+05</td>\n    </tr>\n  </tbody>\n</table>\n<p>8154 rows × 2 columns</p>\n</div>"
     },
     "execution_count": 97,
     "metadata": {},
     "output_type": "execute_result"
    }
   ],
   "source": [
    "sp.global_distance"
   ],
   "metadata": {
    "collapsed": false,
    "ExecuteTime": {
     "end_time": "2023-12-01T02:08:10.038200400Z",
     "start_time": "2023-12-01T02:08:10.022583100Z"
    }
   },
   "id": "664c89917ee762f4"
  },
  {
   "cell_type": "code",
   "execution_count": 94,
   "outputs": [
    {
     "name": "stdout",
     "output_type": "stream",
     "text": [
      "918\n"
     ]
    }
   ],
   "source": [
    "import pandas as pd\n",
    "\n",
    "# hk_genes = list(pd.read_csv(\"C://Users/dell/Downloads/Human_Mouse_Common.csv\", sep=\";\")['Mouse'].values)\n",
    "n= 0 \n",
    "for i in list(sp.adata.var.index):\n",
    "    if i.upper() in hk_genes:\n",
    "        n+=1\n",
    "print(n)"
   ],
   "metadata": {
    "collapsed": false,
    "ExecuteTime": {
     "end_time": "2023-11-30T16:27:07.168078Z",
     "start_time": "2023-11-30T16:27:07.122138100Z"
    }
   },
   "id": "e658f572e24c7b2d"
  },
  {
   "cell_type": "code",
   "execution_count": null,
   "outputs": [],
   "source": [
    "hk_genes = list(map(lambda x:x.upper(), hk_genes))"
   ],
   "metadata": {
    "collapsed": false
   },
   "id": "68917499e7e78ef4"
  },
  {
   "cell_type": "code",
   "execution_count": 83,
   "outputs": [
    {
     "name": "stdout",
     "output_type": "stream",
     "text": [
      "0.01\n",
      "0.015\n",
      "0.02266666666666667\n",
      "0.0275\n",
      "0.038\n",
      "0.042666666666666665\n",
      "0.044\n",
      "0.05325\n"
     ]
    }
   ],
   "source": [
    "for top in range(500, 4500, 500):\n",
    "    n = 0\n",
    "    for i in list(sp.global_distance[:top]['Gene']):\n",
    "        if i.upper() in hk_genes:\n",
    "            n += 1\n",
    "    print(n / top)"
   ],
   "metadata": {
    "collapsed": false,
    "ExecuteTime": {
     "end_time": "2023-11-30T16:20:06.819682300Z",
     "start_time": "2023-11-30T16:20:06.553762Z"
    }
   },
   "id": "29c5dc26eaed1907"
  },
  {
   "cell_type": "code",
   "execution_count": null,
   "outputs": [],
   "source": [
    "import scanpy as sc\n",
    "adata = sc.read_h5ad('I://V10F24_076_A1_processed.h5ad')\n",
    "sc.pp.filter_genes(adata, min_cells=200)\n",
    "sc.pp.normalize_total(adata, inplace=True)\n",
    "sc.pp.log1p(adata)\n",
    "sc.pp.calculate_qc_metrics(adata)\n",
    "sc.pp.highly_variable_genes(adata)"
   ],
   "metadata": {
    "collapsed": false
   },
   "id": "31bc830deb3b045e"
  },
  {
   "cell_type": "code",
   "execution_count": null,
   "outputs": [],
   "source": [
    "list(range(500, 3100, 500))"
   ],
   "metadata": {
    "collapsed": false
   },
   "id": "cafe65ec99628f30"
  },
  {
   "cell_type": "code",
   "execution_count": null,
   "outputs": [],
   "source": [
    "df = adata.var.query('highly_variable==True').sort_values(by='dispersions_norm', ascending=True)"
   ],
   "metadata": {
    "collapsed": false
   },
   "id": "94764f987073f9ad"
  },
  {
   "cell_type": "code",
   "execution_count": null,
   "outputs": [],
   "source": [
    "import hotspot\n",
    "import scanpy as sc\n",
    "\n",
    "\n",
    "adata = sc.read_h5ad('I://GSM6505120_RatColon_FF_wCS_C_e4_processed.h5ad')\n",
    "sc.pp.filter_genes(adata, min_cells=200)\n",
    "sc.pp.calculate_qc_metrics(adata, inplace=True)\n",
    "sc.tl.pca(adata, svd_solver='arpack')\n",
    "\n",
    "hs = hotspot.Hotspot(\n",
    "    adata,\n",
    "    model='danb',\n",
    "    latent_obsm_key=\"X_pca\",\n",
    "    umi_counts_obs_key=\"total_counts\"\n",
    ")\n",
    "\n",
    "hs.create_knn_graph(weighted_graph=False, n_neighbors=50)\n",
    "hs_results = hs.compute_autocorrelations()"
   ],
   "metadata": {
    "collapsed": false
   },
   "id": "4ccbb3a18407239b"
  },
  {
   "cell_type": "code",
   "execution_count": null,
   "outputs": [],
   "source": [
    "hs = hs_results.query('Pval<0.05')"
   ],
   "metadata": {
    "collapsed": false
   },
   "id": "fca583a0f2376af0"
  },
  {
   "cell_type": "code",
   "execution_count": 79,
   "outputs": [
    {
     "name": "stdout",
     "output_type": "stream",
     "text": [
      "0.012\n",
      "0.018\n",
      "0.024\n",
      "0.035\n",
      "0.0476\n",
      "0.056\n",
      "0.06542857142857143\n",
      "0.07475\n"
     ]
    }
   ],
   "source": [
    "for top in range(500, 4100, 500):\n",
    "    n = 0\n",
    "    for i in list(hs[:top].index):\n",
    "        if i.upper() in hk_genes:\n",
    "            n += 1\n",
    "    print(n / top)"
   ],
   "metadata": {
    "collapsed": false,
    "ExecuteTime": {
     "end_time": "2023-11-30T16:17:03.975678200Z",
     "start_time": "2023-11-30T16:17:03.723066400Z"
    }
   },
   "id": "45b2b3a9aa209b69"
  },
  {
   "cell_type": "code",
   "execution_count": null,
   "outputs": [],
   "source": [
    "adata = sc.read_h5ad('I:/GSM6505120_RatColon_FF_wCS_C_e4_processed.h5ad')\n",
    "adata"
   ],
   "metadata": {
    "collapsed": false
   },
   "id": "ada0bfea6ce87ecb"
  },
  {
   "cell_type": "code",
   "execution_count": null,
   "outputs": [],
   "source": [
    "import NaiveDE\n",
    "import SpatialDE\n",
    "import scanpy as sc\n",
    "import numpy as np\n",
    "import pandas as pd\n",
    "\n",
    "\n",
    "adata = sc.read_h5ad('I:/GSM6505120_RatColon_FF_wCS_C_e4_processed.h5ad')\n",
    "sc.pp.filter_genes(adata, min_cells=200)\n",
    "sc.pp.calculate_qc_metrics(adata)\n",
    "adata.obs['x'] = adata.obsm['spatial'][:, 0]\n",
    "adata.obs['y'] = adata.obsm['spatial'][:, 1]\n",
    "\n",
    "exp_df = pd.DataFrame(adata.X.todense(), index=adata.obs.index, columns=adata.var.index)\n",
    "norm_expr = NaiveDE.stabilize(exp_df.T).T\n",
    "resid_expr = NaiveDE.regress_out(adata.obs, norm_expr.T, 'np.log(total_counts)').T\n",
    "print(len(adata.var))\n",
    "sample_resid_expr = resid_expr.sample(n=len(adata.var), axis=1, random_state=1)\n",
    "X = adata.obs[['x', 'y']]\n",
    "\n",
    "results = SpatialDE.run(np.array(X), sample_resid_expr)\n",
    "sign_results = results.query('qval < 0.05')\n",
    "sign_results = sign_results.sort_values(by=['FSV'], ascending=False)\n"
   ],
   "metadata": {
    "collapsed": false
   },
   "id": "3f7bb12b1cd8bbd2"
  },
  {
   "cell_type": "code",
   "execution_count": 78,
   "outputs": [
    {
     "name": "stdout",
     "output_type": "stream",
     "text": [
      "0.092\n",
      "0.09\n",
      "0.07133333333333333\n",
      "0.0705\n",
      "0.0772\n",
      "0.08866666666666667\n"
     ]
    }
   ],
   "source": [
    "sig = sign_results.query('qval < 0.05')\n",
    "for top in range(500, 3200, 500):\n",
    "    n = 0\n",
    "    for i in list(sig[:top]['g']):\n",
    "        if i.upper() in hk_genes:\n",
    "            n += 1\n",
    "    print(n / top)"
   ],
   "metadata": {
    "collapsed": false,
    "ExecuteTime": {
     "end_time": "2023-11-30T16:15:59.146528100Z",
     "start_time": "2023-11-30T16:15:58.986511200Z"
    }
   },
   "id": "bba55bd48e2b8454"
  },
  {
   "cell_type": "code",
   "execution_count": 80,
   "outputs": [
    {
     "data": {
      "text/plain": "[500, 1000, 1500, 2000, 2500, 3000]"
     },
     "execution_count": 80,
     "metadata": {},
     "output_type": "execute_result"
    }
   ],
   "source": [
    "list(range(500, 3200, 500))"
   ],
   "metadata": {
    "collapsed": false,
    "ExecuteTime": {
     "end_time": "2023-11-30T16:17:26.360605Z",
     "start_time": "2023-11-30T16:17:26.327242Z"
    }
   },
   "id": "d7ca2606999b438f"
  },
  {
   "cell_type": "code",
   "execution_count": null,
   "outputs": [],
   "source": [
    "for i in list(sp.adata.var.index):\n",
    "    if i.upper() in list(hk['Gene.name']):\n",
    "        print(i)"
   ],
   "metadata": {
    "collapsed": false
   },
   "id": "c26d0d46c9157633"
  },
  {
   "cell_type": "code",
   "execution_count": null,
   "outputs": [],
   "source": [
    "from STMiner.Algorithm.distance import get_exp_array\n",
    "\n",
    "# 'sgk1' is normal\n",
    "arr_li = []\n",
    "for i in ['pax3a', 'mbpa', 'tnnt2a', 'ponzr4', 'pvalb2',\n",
    "          'rpl13', 'rpl22', 'nap1l1', 'ndufa5', 'gabarapl2']:\n",
    "    arr_li.append(get_exp_array(sp.adata, i))\n",
    "\n",
    "sim = Simulator(arr_li)"
   ],
   "metadata": {
    "collapsed": false
   },
   "id": "d6bbf16a99642f8"
  },
  {
   "cell_type": "code",
   "execution_count": null,
   "outputs": [],
   "source": [
    "sim.set_noise_type(noise_type='undersampling', noise_argument=0.1)\n",
    "a = sim.generate(offset_radius=3, count=100, add_noise=False, offset_probability=0.2)"
   ],
   "metadata": {
    "collapsed": false
   },
   "id": "8effd7b01c05ce81"
  },
  {
   "cell_type": "code",
   "execution_count": null,
   "outputs": [],
   "source": [
    "sp.set_adata(a)"
   ],
   "metadata": {
    "collapsed": false
   },
   "id": "24868d6f94a4d99d"
  },
  {
   "cell_type": "code",
   "execution_count": null,
   "outputs": [],
   "source": [
    "sp.get_genes_csr_array(min_cells=10)\n",
    "sp.spatial_high_variable_genes()"
   ],
   "metadata": {
    "collapsed": false
   },
   "id": "b28f65c520cf18b5"
  },
  {
   "cell_type": "code",
   "execution_count": null,
   "outputs": [],
   "source": [
    "import hotspot"
   ],
   "metadata": {
    "collapsed": false
   },
   "id": "fcd44f81357fe093"
  },
  {
   "cell_type": "code",
   "execution_count": null,
   "outputs": [],
   "source": [
    "import scanpy as sc\n",
    "a = sc.read_h5ad('I://GSM5621978_V10F24-110_B1_processed.h5ad')\n",
    "sc.pp.filter_genes(a, min_cells=200)\n",
    "sc.pp.calculate_qc_metrics(a, inplace=True)\n",
    "sc.tl.pca(a, svd_solver='arpack')"
   ],
   "metadata": {
    "collapsed": false
   },
   "id": "e7ca01b13e7a2020"
  },
  {
   "cell_type": "code",
   "execution_count": null,
   "outputs": [],
   "source": [
    "sc.pp.highly_variable_genes(a)"
   ],
   "metadata": {
    "collapsed": false
   },
   "id": "1b5a62af43e88d18"
  },
  {
   "cell_type": "code",
   "execution_count": null,
   "outputs": [],
   "source": [
    "seruat = a.var.query('highly_variable==True').sort_values(by='dispersions_norm',ascending=False)"
   ],
   "metadata": {
    "collapsed": false
   },
   "id": "be4ff8c21bcc257f"
  },
  {
   "cell_type": "code",
   "execution_count": null,
   "outputs": [],
   "source": [
    "# %%\n",
    "hs = hotspot.Hotspot(\n",
    "    a,\n",
    "    model='danb',\n",
    "    latent_obsm_key=\"X_pca\",\n",
    "    umi_counts_obs_key=\"total_counts\"\n",
    ")"
   ],
   "metadata": {
    "collapsed": false
   },
   "id": "457209c4af8a6d8d"
  },
  {
   "cell_type": "code",
   "execution_count": null,
   "outputs": [],
   "source": [
    "hs.create_knn_graph(weighted_graph=False, n_neighbors=50)\n",
    "hs_results = hs.compute_autocorrelations()"
   ],
   "metadata": {
    "collapsed": false
   },
   "id": "3799f2d87ee39f8f"
  },
  {
   "cell_type": "code",
   "execution_count": 98,
   "outputs": [
    {
     "data": {
      "text/plain": "                 C           Z      Pval       FDR\nGene                                              \nIgfbp2    0.822833  187.380775  0.000000  0.000000\nPcp4      0.784877  179.964485  0.000000  0.000000\nDes       0.825911  177.134289  0.000000  0.000000\nCnn1      0.813445  162.932662  0.000000  0.000000\nTagln     0.839526  155.138031  0.000000  0.000000\n...            ...         ...       ...       ...\nVps35l   -0.008751   -1.217018  0.888201  0.888637\nRufy1    -0.009469   -1.312034  0.905246  0.905579\nTmem185a -0.008713   -1.336021  0.909229  0.909452\nCtdspl2  -0.009624   -1.390403  0.917797  0.917909\nMtmr9    -0.011415   -1.567744  0.941530  0.941530\n\n[8154 rows x 4 columns]",
      "text/html": "<div>\n<style scoped>\n    .dataframe tbody tr th:only-of-type {\n        vertical-align: middle;\n    }\n\n    .dataframe tbody tr th {\n        vertical-align: top;\n    }\n\n    .dataframe thead th {\n        text-align: right;\n    }\n</style>\n<table border=\"1\" class=\"dataframe\">\n  <thead>\n    <tr style=\"text-align: right;\">\n      <th></th>\n      <th>C</th>\n      <th>Z</th>\n      <th>Pval</th>\n      <th>FDR</th>\n    </tr>\n    <tr>\n      <th>Gene</th>\n      <th></th>\n      <th></th>\n      <th></th>\n      <th></th>\n    </tr>\n  </thead>\n  <tbody>\n    <tr>\n      <th>Igfbp2</th>\n      <td>0.822833</td>\n      <td>187.380775</td>\n      <td>0.000000</td>\n      <td>0.000000</td>\n    </tr>\n    <tr>\n      <th>Pcp4</th>\n      <td>0.784877</td>\n      <td>179.964485</td>\n      <td>0.000000</td>\n      <td>0.000000</td>\n    </tr>\n    <tr>\n      <th>Des</th>\n      <td>0.825911</td>\n      <td>177.134289</td>\n      <td>0.000000</td>\n      <td>0.000000</td>\n    </tr>\n    <tr>\n      <th>Cnn1</th>\n      <td>0.813445</td>\n      <td>162.932662</td>\n      <td>0.000000</td>\n      <td>0.000000</td>\n    </tr>\n    <tr>\n      <th>Tagln</th>\n      <td>0.839526</td>\n      <td>155.138031</td>\n      <td>0.000000</td>\n      <td>0.000000</td>\n    </tr>\n    <tr>\n      <th>...</th>\n      <td>...</td>\n      <td>...</td>\n      <td>...</td>\n      <td>...</td>\n    </tr>\n    <tr>\n      <th>Vps35l</th>\n      <td>-0.008751</td>\n      <td>-1.217018</td>\n      <td>0.888201</td>\n      <td>0.888637</td>\n    </tr>\n    <tr>\n      <th>Rufy1</th>\n      <td>-0.009469</td>\n      <td>-1.312034</td>\n      <td>0.905246</td>\n      <td>0.905579</td>\n    </tr>\n    <tr>\n      <th>Tmem185a</th>\n      <td>-0.008713</td>\n      <td>-1.336021</td>\n      <td>0.909229</td>\n      <td>0.909452</td>\n    </tr>\n    <tr>\n      <th>Ctdspl2</th>\n      <td>-0.009624</td>\n      <td>-1.390403</td>\n      <td>0.917797</td>\n      <td>0.917909</td>\n    </tr>\n    <tr>\n      <th>Mtmr9</th>\n      <td>-0.011415</td>\n      <td>-1.567744</td>\n      <td>0.941530</td>\n      <td>0.941530</td>\n    </tr>\n  </tbody>\n</table>\n<p>8154 rows × 4 columns</p>\n</div>"
     },
     "execution_count": 98,
     "metadata": {},
     "output_type": "execute_result"
    }
   ],
   "source": [
    "hs_results"
   ],
   "metadata": {
    "collapsed": false,
    "ExecuteTime": {
     "end_time": "2023-12-01T02:09:33.682440200Z",
     "start_time": "2023-12-01T02:09:33.659751500Z"
    }
   },
   "id": "bca50ee52dfd62e9"
  },
  {
   "cell_type": "code",
   "execution_count": null,
   "outputs": [],
   "source": [
    "import pandas as pd\n",
    "\n",
    "hk_genes = list(pd.read_csv(\"I:\\MostStable_Mouse.csv\", sep=\";\")['Gene.name'])\n",
    "hk_genes"
   ],
   "metadata": {
    "collapsed": false
   },
   "id": "4b077ffc232061be"
  },
  {
   "cell_type": "code",
   "execution_count": 95,
   "outputs": [
    {
     "data": {
      "text/plain": "0.11258278145695365"
     },
     "execution_count": 95,
     "metadata": {},
     "output_type": "execute_result"
    }
   ],
   "source": [
    "\n",
    "918/8154\n"
   ],
   "metadata": {
    "collapsed": false,
    "ExecuteTime": {
     "end_time": "2023-11-30T16:27:21.199036100Z",
     "start_time": "2023-11-30T16:27:21.163681800Z"
    }
   },
   "id": "bb598fab776aa77d"
  },
  {
   "cell_type": "code",
   "execution_count": 88,
   "outputs": [
    {
     "data": {
      "text/plain": "                   gene_ids    feature_types                 genome   mito  \\\nPcp4l1   ENSRNOG00000003209  Gene Expression  Rnor6.0ERCC-ensembl98  False   \nSlc30a4  ENSRNOG00000000170  Gene Expression  Rnor6.0ERCC-ensembl98  False   \nMapk6    ENSRNOG00000009381  Gene Expression  Rnor6.0ERCC-ensembl98  False   \nSesn3    ENSRNOG00000008173  Gene Expression  Rnor6.0ERCC-ensembl98  False   \nTrim23   ENSRNOG00000012354  Gene Expression  Rnor6.0ERCC-ensembl98  False   \n...                     ...              ...                    ...    ...   \nCalb2    ENSRNOG00000016977  Gene Expression  Rnor6.0ERCC-ensembl98  False   \nVip      ENSRNOG00000018808  Gene Expression  Rnor6.0ERCC-ensembl98  False   \nHba-a2   ENSRNOG00000047321  Gene Expression  Rnor6.0ERCC-ensembl98  False   \nGhrl     ENSRNOG00000010349  Gene Expression  Rnor6.0ERCC-ensembl98  False   \nGal      ENSRNOG00000015156  Gene Expression  Rnor6.0ERCC-ensembl98  False   \n\n         n_cells_by_counts  mean_counts  log1p_mean_counts  \\\nPcp4l1                 281     0.160132           0.148534   \nSlc30a4                717     0.423073           0.352819   \nMapk6                 1006     0.821838           0.599846   \nSesn3                  241     0.107718           0.102302   \nTrim23                 290     0.135284           0.126883   \n...                    ...          ...                ...   \nCalb2                  333     0.249118           0.222438   \nVip                    313     0.204933           0.186424   \nHba-a2                 486     0.395049           0.332929   \nGhrl                   685     0.523460           0.420984   \nGal                    411     0.287571           0.252757   \n\n         pct_dropout_by_counts  total_counts  log1p_total_counts  \\\nPcp4l1               80.660702    232.672318            5.453920   \nSlc30a4              50.653820    614.725342            6.422801   \nMapk6                30.763937   1194.129883            7.086010   \nSesn3                83.413627    156.513519            5.059511   \nTrim23               80.041294    196.567642            5.286081   \n...                        ...           ...                 ...   \nCalb2                77.081900    361.968567            5.894316   \nVip                  78.458362    297.767273            5.699665   \nHba-a2               66.551961    574.005676            6.354380   \nGhrl                 52.856160    760.587097            6.635405   \nGal                  71.713696    417.839996            6.037489   \n\n         highly_variable     means  dispersions  dispersions_norm  n_cells  \nPcp4l1              True  0.249615     0.832329          0.982217      281  \nSlc30a4             True  0.579028     1.030521          0.982240      717  \nMapk6               True  1.069548     1.147774          0.982992     1006  \nSesn3               True  0.159724     0.833269          0.983954      241  \nTrim23              True  0.201044     0.833422          0.984236      290  \n...                  ...       ...          ...               ...      ...  \nCalb2               True  0.641288     3.393746          8.924235      333  \nVip                 True  0.587471     4.195759          9.780398      313  \nHba-a2              True  1.115862     4.501708         10.626289      486  \nGhrl                True  1.338602     5.952095         11.009466      685  \nGal                 True  0.948771     4.997384         12.051467      411  \n\n[1052 rows x 15 columns]",
      "text/html": "<div>\n<style scoped>\n    .dataframe tbody tr th:only-of-type {\n        vertical-align: middle;\n    }\n\n    .dataframe tbody tr th {\n        vertical-align: top;\n    }\n\n    .dataframe thead th {\n        text-align: right;\n    }\n</style>\n<table border=\"1\" class=\"dataframe\">\n  <thead>\n    <tr style=\"text-align: right;\">\n      <th></th>\n      <th>gene_ids</th>\n      <th>feature_types</th>\n      <th>genome</th>\n      <th>mito</th>\n      <th>n_cells_by_counts</th>\n      <th>mean_counts</th>\n      <th>log1p_mean_counts</th>\n      <th>pct_dropout_by_counts</th>\n      <th>total_counts</th>\n      <th>log1p_total_counts</th>\n      <th>highly_variable</th>\n      <th>means</th>\n      <th>dispersions</th>\n      <th>dispersions_norm</th>\n      <th>n_cells</th>\n    </tr>\n  </thead>\n  <tbody>\n    <tr>\n      <th>Pcp4l1</th>\n      <td>ENSRNOG00000003209</td>\n      <td>Gene Expression</td>\n      <td>Rnor6.0ERCC-ensembl98</td>\n      <td>False</td>\n      <td>281</td>\n      <td>0.160132</td>\n      <td>0.148534</td>\n      <td>80.660702</td>\n      <td>232.672318</td>\n      <td>5.453920</td>\n      <td>True</td>\n      <td>0.249615</td>\n      <td>0.832329</td>\n      <td>0.982217</td>\n      <td>281</td>\n    </tr>\n    <tr>\n      <th>Slc30a4</th>\n      <td>ENSRNOG00000000170</td>\n      <td>Gene Expression</td>\n      <td>Rnor6.0ERCC-ensembl98</td>\n      <td>False</td>\n      <td>717</td>\n      <td>0.423073</td>\n      <td>0.352819</td>\n      <td>50.653820</td>\n      <td>614.725342</td>\n      <td>6.422801</td>\n      <td>True</td>\n      <td>0.579028</td>\n      <td>1.030521</td>\n      <td>0.982240</td>\n      <td>717</td>\n    </tr>\n    <tr>\n      <th>Mapk6</th>\n      <td>ENSRNOG00000009381</td>\n      <td>Gene Expression</td>\n      <td>Rnor6.0ERCC-ensembl98</td>\n      <td>False</td>\n      <td>1006</td>\n      <td>0.821838</td>\n      <td>0.599846</td>\n      <td>30.763937</td>\n      <td>1194.129883</td>\n      <td>7.086010</td>\n      <td>True</td>\n      <td>1.069548</td>\n      <td>1.147774</td>\n      <td>0.982992</td>\n      <td>1006</td>\n    </tr>\n    <tr>\n      <th>Sesn3</th>\n      <td>ENSRNOG00000008173</td>\n      <td>Gene Expression</td>\n      <td>Rnor6.0ERCC-ensembl98</td>\n      <td>False</td>\n      <td>241</td>\n      <td>0.107718</td>\n      <td>0.102302</td>\n      <td>83.413627</td>\n      <td>156.513519</td>\n      <td>5.059511</td>\n      <td>True</td>\n      <td>0.159724</td>\n      <td>0.833269</td>\n      <td>0.983954</td>\n      <td>241</td>\n    </tr>\n    <tr>\n      <th>Trim23</th>\n      <td>ENSRNOG00000012354</td>\n      <td>Gene Expression</td>\n      <td>Rnor6.0ERCC-ensembl98</td>\n      <td>False</td>\n      <td>290</td>\n      <td>0.135284</td>\n      <td>0.126883</td>\n      <td>80.041294</td>\n      <td>196.567642</td>\n      <td>5.286081</td>\n      <td>True</td>\n      <td>0.201044</td>\n      <td>0.833422</td>\n      <td>0.984236</td>\n      <td>290</td>\n    </tr>\n    <tr>\n      <th>...</th>\n      <td>...</td>\n      <td>...</td>\n      <td>...</td>\n      <td>...</td>\n      <td>...</td>\n      <td>...</td>\n      <td>...</td>\n      <td>...</td>\n      <td>...</td>\n      <td>...</td>\n      <td>...</td>\n      <td>...</td>\n      <td>...</td>\n      <td>...</td>\n      <td>...</td>\n    </tr>\n    <tr>\n      <th>Calb2</th>\n      <td>ENSRNOG00000016977</td>\n      <td>Gene Expression</td>\n      <td>Rnor6.0ERCC-ensembl98</td>\n      <td>False</td>\n      <td>333</td>\n      <td>0.249118</td>\n      <td>0.222438</td>\n      <td>77.081900</td>\n      <td>361.968567</td>\n      <td>5.894316</td>\n      <td>True</td>\n      <td>0.641288</td>\n      <td>3.393746</td>\n      <td>8.924235</td>\n      <td>333</td>\n    </tr>\n    <tr>\n      <th>Vip</th>\n      <td>ENSRNOG00000018808</td>\n      <td>Gene Expression</td>\n      <td>Rnor6.0ERCC-ensembl98</td>\n      <td>False</td>\n      <td>313</td>\n      <td>0.204933</td>\n      <td>0.186424</td>\n      <td>78.458362</td>\n      <td>297.767273</td>\n      <td>5.699665</td>\n      <td>True</td>\n      <td>0.587471</td>\n      <td>4.195759</td>\n      <td>9.780398</td>\n      <td>313</td>\n    </tr>\n    <tr>\n      <th>Hba-a2</th>\n      <td>ENSRNOG00000047321</td>\n      <td>Gene Expression</td>\n      <td>Rnor6.0ERCC-ensembl98</td>\n      <td>False</td>\n      <td>486</td>\n      <td>0.395049</td>\n      <td>0.332929</td>\n      <td>66.551961</td>\n      <td>574.005676</td>\n      <td>6.354380</td>\n      <td>True</td>\n      <td>1.115862</td>\n      <td>4.501708</td>\n      <td>10.626289</td>\n      <td>486</td>\n    </tr>\n    <tr>\n      <th>Ghrl</th>\n      <td>ENSRNOG00000010349</td>\n      <td>Gene Expression</td>\n      <td>Rnor6.0ERCC-ensembl98</td>\n      <td>False</td>\n      <td>685</td>\n      <td>0.523460</td>\n      <td>0.420984</td>\n      <td>52.856160</td>\n      <td>760.587097</td>\n      <td>6.635405</td>\n      <td>True</td>\n      <td>1.338602</td>\n      <td>5.952095</td>\n      <td>11.009466</td>\n      <td>685</td>\n    </tr>\n    <tr>\n      <th>Gal</th>\n      <td>ENSRNOG00000015156</td>\n      <td>Gene Expression</td>\n      <td>Rnor6.0ERCC-ensembl98</td>\n      <td>False</td>\n      <td>411</td>\n      <td>0.287571</td>\n      <td>0.252757</td>\n      <td>71.713696</td>\n      <td>417.839996</td>\n      <td>6.037489</td>\n      <td>True</td>\n      <td>0.948771</td>\n      <td>4.997384</td>\n      <td>12.051467</td>\n      <td>411</td>\n    </tr>\n  </tbody>\n</table>\n<p>1052 rows × 15 columns</p>\n</div>"
     },
     "execution_count": 88,
     "metadata": {},
     "output_type": "execute_result"
    }
   ],
   "source": [
    "df = adata.var.query('highly_variable==True').sort_values(by='dispersions_norm')\n",
    "df"
   ],
   "metadata": {
    "collapsed": false,
    "ExecuteTime": {
     "end_time": "2023-11-30T16:22:54.393544500Z",
     "start_time": "2023-11-30T16:22:54.305202600Z"
    }
   },
   "id": "94d60aeacfb08065"
  },
  {
   "cell_type": "code",
   "execution_count": 89,
   "outputs": [
    {
     "name": "stdout",
     "output_type": "stream",
     "text": [
      "0.062\n",
      "0.06\n"
     ]
    }
   ],
   "source": [
    "for top in [500,1000]:\n",
    "    n = 0\n",
    "    for i in list(df[:top].index):\n",
    "        if i.upper() in hk_genes:\n",
    "            n += 1\n",
    "    print(n / top)"
   ],
   "metadata": {
    "collapsed": false,
    "ExecuteTime": {
     "end_time": "2023-11-30T16:23:48.968524800Z",
     "start_time": "2023-11-30T16:23:48.924258700Z"
    }
   },
   "id": "7bbad05171da8fa3"
  },
  {
   "cell_type": "code",
   "execution_count": null,
   "outputs": [],
   "source": [
    "hk_genes = list(pd.read_csv(\"C://Users/dell/Downloads/Human_Mouse_Common.csv\", sep=\";\")['Mouse'].values)"
   ],
   "metadata": {
    "collapsed": false
   },
   "id": "5b835b41e58d8fe1"
  },
  {
   "cell_type": "code",
   "execution_count": null,
   "outputs": [],
   "source": [
    "import NaiveDE\n",
    "import SpatialDE\n",
    "import scanpy as sc\n",
    "import numpy as np\n",
    "import pandas as pd\n",
    "\n",
    "\n",
    "adata = sc.read_h5ad('I://zebrafish/10X_Visium_hunter2021spatially_sample_C_data.h5ad')\n",
    "sc.pp.filter_genes(adata, min_cells=200)\n",
    "sc.pp.calculate_qc_metrics(adata, inplace=True)\n",
    "adata.obs['x'] = adata.obsm['spatial'][:, 0]\n",
    "adata.obs['y'] = adata.obsm['spatial'][:, 1]\n",
    "\n",
    "exp_df = pd.DataFrame(adata.X.todense(), index=adata.obs.index, columns=adata.var.index)\n",
    "norm_expr = NaiveDE.stabilize(exp_df.T).T\n",
    "resid_expr = NaiveDE.regress_out(adata.obs, norm_expr.T, 'np.log(total_counts)').T\n",
    "sample_resid_expr = resid_expr.sample(n=6262, axis=1, random_state=1)\n",
    "X = adata.obs[['x', 'y']]\n",
    "\n",
    "results = SpatialDE.run(np.array(X), sample_resid_expr)\n",
    "sign_results = results.query('qval < 0.05')\n",
    "sign_results = sign_results.sort_values(by=['FSV'], ascending=False)\n"
   ],
   "metadata": {
    "collapsed": false
   },
   "id": "77eea38f1a75bd62"
  },
  {
   "cell_type": "code",
   "execution_count": 96,
   "outputs": [
    {
     "name": "stderr",
     "output_type": "stream",
     "text": [
      "WARNING:matplotlib.backends.backend_ps:The PostScript backend does not support transparency; partially transparent artists will be rendered opaque.\n"
     ]
    },
    {
     "data": {
      "text/plain": "<Figure size 640x480 with 1 Axes>",
      "image/png": "[encoded data removed]"
     },
     "metadata": {},
     "output_type": "display_data"
    }
   ],
   "source": [
    "import seaborn as sns\n",
    "import pandas as pd\n",
    "import matplotlib.pyplot as plt\n",
    "\n",
    "d = {'method': ['STMiner', 'STMiner', 'STMiner', 'STMiner', 'STMiner', 'STMiner', 'STMiner', 'STMiner',\n",
    "                'Seurat', 'Seurat',\n",
    "                'Hotspot', 'Hotspot', 'Hotspot', 'Hotspot', 'Hotspot', 'Hotspot', 'Hotspot', 'Hotspot',\n",
    "                'SpatialDE', 'SpatialDE', 'SpatialDE', 'SpatialDE', 'SpatialDE', 'SpatialDE'\n",
    "                ],\n",
    "     'Percentage': [0.01, 0.015, 0.0227, 0.0275, 0.038, 0.0427, 0.044, 0.053,\n",
    "                    0.062, 0.06,\n",
    "                    0.012, 0.018, 0.024, 0.035, 0.0476, 0.056, 0.0654, 0.0748,\n",
    "                    0.092, 0.09, 0.0713, 0.0705, 0.0772, 0.0887],\n",
    "     'Top genes': [500, 1000, 1500, 2000, 2500, 3000, 3500, 4000,\n",
    "                   500, 1000,\n",
    "                   500, 1000, 1500, 2000, 2500, 3000, 3500, 4000,\n",
    "                   500, 1000, 1500, 2000, 2500, 3000]}\n",
    "df = pd.DataFrame(d)\n",
    "\n",
    "sns.pointplot(df, x='Top genes', y='Percentage', hue='method')\n",
    "plt.axhline(y=0.113, color='red', linestyle='--', linewidth=2, label='Horizontal Line')\n",
    "plt.ylim(0, 0.12)\n",
    "plt.title('Percentage of house-keeping genes', fontsize=20)\n",
    "plt.yticks(fontsize=15)\n",
    "plt.xticks(rotation=45, fontsize=15)\n",
    "plt.xlabel('Top genes', fontsize=15)\n",
    "plt.ylabel('Percentage', fontsize=15)\n",
    "sns.set_style(\"white\")\n",
    "\n",
    "plt.savefig('./percentage_of_hk.eps', format='eps', dpi=500)"
   ],
   "metadata": {
    "collapsed": false,
    "ExecuteTime": {
     "end_time": "2023-11-30T16:27:33.757620600Z",
     "start_time": "2023-11-30T16:27:33.335811900Z"
    }
   },
   "id": "5398dc74fa5413f5"
  },
  {
   "cell_type": "code",
   "execution_count": null,
   "outputs": [],
   "source": [
    "hs_genes = hs_results[:500].index\n",
    "n = 0\n",
    "hs_genes_uppercase_list = [element.upper() for element in hs_genes]\n",
    "for i in list(hs_genes_uppercase_list):\n",
    "    if i in hk_list:\n",
    "        n += 1\n",
    "        print(n)"
   ],
   "metadata": {
    "collapsed": false
   },
   "id": "b49645729e1e1ae1"
  },
  {
   "cell_type": "code",
   "execution_count": null,
   "outputs": [],
   "source": [
    "from STMiner import SPFinder\n",
    "\n",
    "sp = SPFinder()\n",
    "sp.read_h5ad(file='I://zebrafish/10X_Visium_hunter2021spatially_sample_C_data.h5ad', bin_size=1)\n",
    "sp.get_genes_csr_array(min_cells=200, log1p=False)\n",
    "sp.spatial_high_variable_genes()"
   ],
   "metadata": {
    "collapsed": false
   },
   "id": "351e909021af3a2b"
  },
  {
   "cell_type": "code",
   "execution_count": null,
   "outputs": [],
   "source": [
    "import scanpy as sc \n",
    "adata = sc.read_h5ad('I://zebrafish/10X_Visium_hunter2021spatially_sample_C_data.h5ad')\n",
    "sc.pp.normalize_total(adata)\n",
    "sc.pp.log1p(adata)\n",
    "sc.pp.highly_variable_genes(adata)"
   ],
   "metadata": {
    "collapsed": false
   },
   "id": "637dbe9181f39ec2"
  },
  {
   "cell_type": "code",
   "execution_count": null,
   "outputs": [],
   "source": [
    "import hotspot\n",
    "import scanpy as sc\n",
    "\n",
    "\n",
    "adata = sc.read_h5ad('I://zebrafish/10X_Visium_hunter2021spatially_sample_C_data.h5ad')\n",
    "sc.pp.filter_genes(adata, min_cells=200)\n",
    "sc.pp.calculate_qc_metrics(adata, inplace=True)\n",
    "sc.tl.pca(adata, svd_solver='arpack')\n",
    "\n",
    "hs = hotspot.Hotspot(\n",
    "    adata,\n",
    "    model='danb',\n",
    "    latent_obsm_key=\"X_pca\",\n",
    "    umi_counts_obs_key=\"total_counts\"\n",
    ")\n",
    "\n",
    "hs.create_knn_graph(weighted_graph=False, n_neighbors=50)\n",
    "hs_results = hs.compute_autocorrelations()"
   ],
   "metadata": {
    "collapsed": false
   },
   "id": "b4fa3a44a5f41668"
  },
  {
   "cell_type": "code",
   "execution_count": null,
   "outputs": [],
   "source": [
    "hs_results.query('Pval<0.05')"
   ],
   "metadata": {
    "collapsed": false
   },
   "id": "834329148057e15d"
  },
  {
   "cell_type": "code",
   "execution_count": null,
   "outputs": [],
   "source": [
    "adata.var.query('highly_variable==True')"
   ],
   "metadata": {
    "collapsed": false
   },
   "id": "45b781b7bbe28c23"
  },
  {
   "cell_type": "code",
   "execution_count": null,
   "outputs": [],
   "source": [
    "import seaborn as sns\n",
    "import pandas as pd\n",
    "import matplotlib.pyplot as plt\n",
    "\n",
    "d = {'method': ['STMiner', 'STMiner', 'STMiner', 'STMiner', 'STMiner', 'STMiner', 'STMiner', 'STMiner', 'STMiner',\n",
    "                'STMiner',\n",
    "                'Seurat', 'Seurat', 'Seurat', 'Seurat', 'Seurat', 'Seurat', \n",
    "                'Hotspot', 'Hotspot', 'Hotspot', 'Hotspot', 'Hotspot', 'Hotspot', 'Hotspot', 'Hotspot', 'Hotspot',\n",
    "                'Hotspot',\n",
    "                'SpatialDE', 'SpatialDE', 'SpatialDE', 'SpatialDE', 'SpatialDE', 'SpatialDE', 'SpatialDE', 'SpatialDE',\n",
    "                'SpatialDE', 'SpatialDE'],\n",
    "     'Percentage': [8 / 500, 33 / 1000, 84 / 1500, 164 / 2000, 248 / 2500, 353 / 3000, 449 / 3500, 560 / 4000,\n",
    "                    670 / 4500, 782 / 5000,\n",
    "                    14 / 500, 37 / 1000, 104 / 1500, 192 / 2000, 269 / 2500, 377 / 3000,\n",
    "                    51 / 500, 118 / 1000, 194 / 1500, 272 / 2000, 356 / 2500, 446 / 3000, 558 / 3500, 641 / 4000,\n",
    "                    732 / 4500, 840 / 5000,\n",
    "                    47 / 500, 118 / 1000, 200 / 1500, 267 / 2000, 354 / 2500, 463 / 3000, 561 / 3500, 656 / 4000,\n",
    "                    749 / 4500, 849 / 5000],\n",
    "     'Top genes': [500, 1000, 1500, 2000, 2500, 3000, 3500, 4000, 4500, 5000,\n",
    "                   500, 1000, 1500, 2000, 2500, 3000,\n",
    "                   500, 1000, 1500, 2000, 2500, 3000, 3500, 4000, 4500, 5000,\n",
    "                   500, 1000, 1500, 2000, 2500, 3000, 3500, 4000, 4500, 5000]}\n",
    "df = pd.DataFrame(d)\n",
    "\n",
    "sns.pointplot(df, x='Top genes', y='Percentage', hue='method')\n",
    "plt.axhline(y=0.179, color='red', linestyle='--', linewidth=2, label='Horizontal Line')\n",
    "plt.ylim(0, 0.2)\n",
    "plt.title('Percentage of house-keeping genes', fontsize=20)\n",
    "plt.yticks(fontsize=15)\n",
    "plt.legend(fontsize=15)\n",
    "plt.xticks(rotation=45, fontsize=15)\n",
    "plt.xlabel('Top genes', fontsize=15)\n",
    "plt.ylabel('Percentage', fontsize=15)\n",
    "sns.set_style(\"white\")\n",
    "\n",
    "plt.savefig('./percentage_of_hk.eps', format='eps', dpi=500)"
   ],
   "metadata": {
    "collapsed": false
   },
   "id": "2a2bccb28805e998"
  },
  {
   "cell_type": "code",
   "execution_count": null,
   "outputs": [],
   "source": [
    "import matplotlib.pyplot as plt\n",
    "\n",
    "df['pattern'] = df[1].apply(lambda x: x.split('_')[1])\n",
    "sns.barplot(df, x='pattern', y=2, order=['P0', 'P1', 'P2', 'P3', 'P4', 'P5', 'P6', 'P7', 'P8', 'P9'])\n",
    "plt.yticks(fontsize=15)\n",
    "plt.xticks(fontsize=15)\n",
    "\n",
    "plt.ylabel('Spatial Variance level')\n",
    "plt.savefig('SpatialVariancelevel.eps', format='eps', dpi=500)"
   ],
   "metadata": {
    "collapsed": false
   },
   "id": "16d02776bc8c498f"
  }
 ],
 "metadata": {
  "kernelspec": {
   "display_name": "Python 3",
   "language": "python",
   "name": "python3"
  },
  "language_info": {
   "codemirror_mode": {
    "name": "ipython",
    "version": 2
   },
   "file_extension": ".py",
   "mimetype": "text/x-python",
   "name": "python",
   "nbconvert_exporter": "python",
   "pygments_lexer": "ipython2",
   "version": "2.7.6"
  }
 },
 "nbformat": 4,
 "nbformat_minor": 5
}
