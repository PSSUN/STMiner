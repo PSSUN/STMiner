{
 "cells": [
  {
   "cell_type": "code",
   "execution_count": 1,
   "id": "initial_id",
   "metadata": {
    "collapsed": true,
    "ExecuteTime": {
     "end_time": "2023-11-22T12:46:06.911244400Z",
     "start_time": "2023-11-22T12:46:06.760488Z"
    }
   },
   "outputs": [],
   "source": [
    "import pandas as pd\n",
    "\n",
    "hk = pd.read_csv(\"C://Users/dell/Downloads/Housekeeping_GenesHuman.csv\", sep=\";\")\n"
   ]
  },
  {
   "cell_type": "code",
   "execution_count": 2,
   "outputs": [
    {
     "data": {
      "text/plain": "              Ensembl Gene.name                                    Refseq  \\\n0     ENST00000000233      ARF5                                 NM_001662   \n1     ENST00000000412      M6PR                                 NM_002355   \n2     ENST00000005257      RALA                                 NM_005402   \n3     ENST00000005340      DVL2                                 NM_004422   \n4     ENST00000006777    RHBDD2  NM_001346188; NM_001346189; NM_001040456   \n...               ...       ...                                       ...   \n2828  ENST00000607266      CUTA                                       NaN   \n2829  ENST00000608424      WDR6                                 NM_018031   \n2830  ENST00000608443     FKBP8                                 NM_012181   \n2831  ENST00000608872     FBXW2                                 NM_012164   \n2832  ENST00000609024    CHMP4A                                 NM_014169   \n\n        CCDS.ID  \n0     CCDS34745  \n1      CCDS8598  \n2      CCDS5460  \n3     CCDS11091  \n4     CCDS43602  \n...         ...  \n2828   CCDS4779  \n2829        NaN  \n2830  CCDS32961  \n2831  CCDS43872  \n2832   CCDS9619  \n\n[2833 rows x 4 columns]",
      "text/html": "<div>\n<style scoped>\n    .dataframe tbody tr th:only-of-type {\n        vertical-align: middle;\n    }\n\n    .dataframe tbody tr th {\n        vertical-align: top;\n    }\n\n    .dataframe thead th {\n        text-align: right;\n    }\n</style>\n<table border=\"1\" class=\"dataframe\">\n  <thead>\n    <tr style=\"text-align: right;\">\n      <th></th>\n      <th>Ensembl</th>\n      <th>Gene.name</th>\n      <th>Refseq</th>\n      <th>CCDS.ID</th>\n    </tr>\n  </thead>\n  <tbody>\n    <tr>\n      <th>0</th>\n      <td>ENST00000000233</td>\n      <td>ARF5</td>\n      <td>NM_001662</td>\n      <td>CCDS34745</td>\n    </tr>\n    <tr>\n      <th>1</th>\n      <td>ENST00000000412</td>\n      <td>M6PR</td>\n      <td>NM_002355</td>\n      <td>CCDS8598</td>\n    </tr>\n    <tr>\n      <th>2</th>\n      <td>ENST00000005257</td>\n      <td>RALA</td>\n      <td>NM_005402</td>\n      <td>CCDS5460</td>\n    </tr>\n    <tr>\n      <th>3</th>\n      <td>ENST00000005340</td>\n      <td>DVL2</td>\n      <td>NM_004422</td>\n      <td>CCDS11091</td>\n    </tr>\n    <tr>\n      <th>4</th>\n      <td>ENST00000006777</td>\n      <td>RHBDD2</td>\n      <td>NM_001346188; NM_001346189; NM_001040456</td>\n      <td>CCDS43602</td>\n    </tr>\n    <tr>\n      <th>...</th>\n      <td>...</td>\n      <td>...</td>\n      <td>...</td>\n      <td>...</td>\n    </tr>\n    <tr>\n      <th>2828</th>\n      <td>ENST00000607266</td>\n      <td>CUTA</td>\n      <td>NaN</td>\n      <td>CCDS4779</td>\n    </tr>\n    <tr>\n      <th>2829</th>\n      <td>ENST00000608424</td>\n      <td>WDR6</td>\n      <td>NM_018031</td>\n      <td>NaN</td>\n    </tr>\n    <tr>\n      <th>2830</th>\n      <td>ENST00000608443</td>\n      <td>FKBP8</td>\n      <td>NM_012181</td>\n      <td>CCDS32961</td>\n    </tr>\n    <tr>\n      <th>2831</th>\n      <td>ENST00000608872</td>\n      <td>FBXW2</td>\n      <td>NM_012164</td>\n      <td>CCDS43872</td>\n    </tr>\n    <tr>\n      <th>2832</th>\n      <td>ENST00000609024</td>\n      <td>CHMP4A</td>\n      <td>NM_014169</td>\n      <td>CCDS9619</td>\n    </tr>\n  </tbody>\n</table>\n<p>2833 rows × 4 columns</p>\n</div>"
     },
     "execution_count": 2,
     "metadata": {},
     "output_type": "execute_result"
    }
   ],
   "source": [
    "hk"
   ],
   "metadata": {
    "collapsed": false,
    "ExecuteTime": {
     "end_time": "2023-11-22T12:46:08.449970600Z",
     "start_time": "2023-11-22T12:46:08.397794100Z"
    }
   },
   "id": "12c7687ba894b351"
  }
 ],
 "metadata": {
  "kernelspec": {
   "display_name": "Python 3",
   "language": "python",
   "name": "python3"
  },
  "language_info": {
   "codemirror_mode": {
    "name": "ipython",
    "version": 2
   },
   "file_extension": ".py",
   "mimetype": "text/x-python",
   "name": "python",
   "nbconvert_exporter": "python",
   "pygments_lexer": "ipython2",
   "version": "2.7.6"
  }
 },
 "nbformat": 4,
 "nbformat_minor": 5
}
