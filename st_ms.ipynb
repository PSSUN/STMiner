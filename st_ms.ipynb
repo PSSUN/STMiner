{
 "cells": [
  {
   "cell_type": "code",
   "execution_count": 13,
   "metadata": {},
   "outputs": [],
   "source": [
    "import scanpy as sc\n",
    "import pandas as pd\n",
    "import numpy as np\n",
    "import seaborn as sns\n",
    "\n",
    "from anndata import AnnData"
   ]
  },
  {
   "cell_type": "code",
   "execution_count": 19,
   "metadata": {},
   "outputs": [],
   "source": [
    "# index_col = 0 -> Set the first column as row name\n",
    "raw_df = pd.read_csv('./brainCscaleddata.csv',\n",
    "                     sep=',',\n",
    "                     index_col=0).T\n"
   ]
  },
  {
   "cell_type": "code",
   "execution_count": 55,
   "metadata": {},
   "outputs": [
    {
     "data": {
      "text/plain": [
       "AnnData object with n_obs × n_vars = 1803 × 32285\n",
       "    obs: 'cell_id'\n",
       "    var: 'gene_id'"
      ]
     },
     "execution_count": 55,
     "metadata": {},
     "output_type": "execute_result"
    }
   ],
   "source": [
    "adata = AnnData(X=raw_df.to_numpy(), dtype=np.float32)\n",
    "adata.obs['cell_id'] = raw_df.index\n",
    "adata.var['gene_id'] = raw_df.columns\n",
    "adata"
   ]
  },
  {
   "attachments": {},
   "cell_type": "markdown",
   "metadata": {},
   "source": [
    "### tissue_positions.csv\n",
    "This text file contains a table with rows that correspond to spots. From Space Ranger v2.0 onwards this file, which was previously named tissue_positions_list.csv, is renamed and includes a header column. Excluding the header column, the file has 4,992 rows for Visium slides with a 6.5 mm Capture Area and 14,336 rows for Visium slides with 11 mm Capture Area which is the number of spots in the spatial array. Columns correspond to the following fields:\n",
    " - barcode: The sequence of the barcode associated to the spot.\n",
    "in_tissue: Binary, indicating if the spot falls inside (1) or outside (0) of tissue.\n",
    " - array_row: For Visium slide (6.5 mm Capture Area), the row coordinate of the spot in the array from 0 to 77. The array has 78 rows. For Visium slides (11 mm Capture Area), the row coordinate of the spot range from 0 to 127 as the array has 128 rows.\n",
    " - array_col: The column coordinate of the spot in the array. In order to express the \"orange crate\" arrangement of the spots, for Visium slides (6.5 mm Capture Area) this column index uses even numbers from 0 to 126 for even rows, and odd numbers from 1 to 127 for odd rows with each row (even or odd) resulting in 64 spots. For Visium slides (11 mm Capture Area) this column index uses even numbers from 0 to 222 for even rows, and odd numbers from 1 to 223 for odd rows with each row (even or odd) resulting in 111 spots.\n",
    " - pxl_row_in_fullres: The row pixel coordinate of the center of the spot in the full resolution image.\n",
    " - pxl_col_in_fullres: The column pixel coordinate of the center of the spot in the full resolution image."
   ]
  },
  {
   "cell_type": "code",
   "execution_count": 139,
   "metadata": {},
   "outputs": [],
   "source": [
    "position_df = pd.read_csv('./tissue_positions_list.csv',\n",
    "                          sep=',',\n",
    "                          header=None,\n",
    "                          index_col=0)\n",
    "# set the column names\n",
    "position_df.columns = ['in_tissue','array_row','array_col','pxl_row_in_fullres','pxl_col_in_fullres']\n",
    "# relpace '-' to '.', example: AAACAAGTATCTCCCA-1 to AAACAAGTATCTCCCA.1\n",
    "position_df.index = position_df.index.str.replace('-', '.')\n",
    "# get the cell positions\n",
    "cell_info_df = position_df.loc[list(adata.obs['cell_id'])]\n",
    "# set the matrix position\n",
    "adata.obs['x'] = cell_info_df['array_row'].to_numpy()\n",
    "adata.obs['y'] = cell_info_df['array_col'].to_numpy()\n",
    "# set the figure position\n",
    "adata.obs['fig_x'] = cell_info_df['pxl_row_in_fullres'].to_numpy()\n",
    "adata.obs['fig_y'] = cell_info_df['pxl_col_in_fullres'].to_numpy()"
   ]
  },
  {
   "cell_type": "code",
   "execution_count": 140,
   "metadata": {},
   "outputs": [
    {
     "data": {
      "text/html": [
       "<div>\n",
       "<style scoped>\n",
       "    .dataframe tbody tr th:only-of-type {\n",
       "        vertical-align: middle;\n",
       "    }\n",
       "\n",
       "    .dataframe tbody tr th {\n",
       "        vertical-align: top;\n",
       "    }\n",
       "\n",
       "    .dataframe thead th {\n",
       "        text-align: right;\n",
       "    }\n",
       "</style>\n",
       "<table border=\"1\" class=\"dataframe\">\n",
       "  <thead>\n",
       "    <tr style=\"text-align: right;\">\n",
       "      <th></th>\n",
       "      <th>cell_id</th>\n",
       "      <th>x</th>\n",
       "      <th>y</th>\n",
       "      <th>fig_x</th>\n",
       "      <th>fig_y</th>\n",
       "    </tr>\n",
       "  </thead>\n",
       "  <tbody>\n",
       "    <tr>\n",
       "      <th>0</th>\n",
       "      <td>AAACAAGTATCTCCCA.1</td>\n",
       "      <td>50</td>\n",
       "      <td>102</td>\n",
       "      <td>3091</td>\n",
       "      <td>8043</td>\n",
       "    </tr>\n",
       "    <tr>\n",
       "      <th>1</th>\n",
       "      <td>AAACATTTCCCGGATT.1</td>\n",
       "      <td>61</td>\n",
       "      <td>97</td>\n",
       "      <td>3493</td>\n",
       "      <td>9501</td>\n",
       "    </tr>\n",
       "    <tr>\n",
       "      <th>2</th>\n",
       "      <td>AAACCCGAACGAAATC.1</td>\n",
       "      <td>45</td>\n",
       "      <td>115</td>\n",
       "      <td>2088</td>\n",
       "      <td>7392</td>\n",
       "    </tr>\n",
       "    <tr>\n",
       "      <th>3</th>\n",
       "      <td>AAACCTAAGCAGCCGG.1</td>\n",
       "      <td>65</td>\n",
       "      <td>83</td>\n",
       "      <td>4571</td>\n",
       "      <td>10019</td>\n",
       "    </tr>\n",
       "    <tr>\n",
       "      <th>4</th>\n",
       "      <td>AAACGAGACGGTTGAT.1</td>\n",
       "      <td>35</td>\n",
       "      <td>79</td>\n",
       "      <td>4822</td>\n",
       "      <td>6024</td>\n",
       "    </tr>\n",
       "    <tr>\n",
       "      <th>...</th>\n",
       "      <td>...</td>\n",
       "      <td>...</td>\n",
       "      <td>...</td>\n",
       "      <td>...</td>\n",
       "      <td>...</td>\n",
       "    </tr>\n",
       "    <tr>\n",
       "      <th>1798</th>\n",
       "      <td>TTGTGTATGCCACCAA.1</td>\n",
       "      <td>56</td>\n",
       "      <td>60</td>\n",
       "      <td>6313</td>\n",
       "      <td>8797</td>\n",
       "    </tr>\n",
       "    <tr>\n",
       "      <th>1799</th>\n",
       "      <td>TTGTGTTTCCCGAAAG.1</td>\n",
       "      <td>51</td>\n",
       "      <td>59</td>\n",
       "      <td>6380</td>\n",
       "      <td>8131</td>\n",
       "    </tr>\n",
       "    <tr>\n",
       "      <th>1800</th>\n",
       "      <td>TTGTTAGCAAATTCGA.1</td>\n",
       "      <td>22</td>\n",
       "      <td>42</td>\n",
       "      <td>7627</td>\n",
       "      <td>4256</td>\n",
       "    </tr>\n",
       "    <tr>\n",
       "      <th>1801</th>\n",
       "      <td>TTGTTCAGTGTGCTAC.1</td>\n",
       "      <td>24</td>\n",
       "      <td>64</td>\n",
       "      <td>5948</td>\n",
       "      <td>4545</td>\n",
       "    </tr>\n",
       "    <tr>\n",
       "      <th>1802</th>\n",
       "      <td>TTGTTGTGTGTCAAGA.1</td>\n",
       "      <td>31</td>\n",
       "      <td>77</td>\n",
       "      <td>4967</td>\n",
       "      <td>5490</td>\n",
       "    </tr>\n",
       "  </tbody>\n",
       "</table>\n",
       "<p>1803 rows × 5 columns</p>\n",
       "</div>"
      ],
      "text/plain": [
       "                 cell_id   x    y  fig_x  fig_y\n",
       "0     AAACAAGTATCTCCCA.1  50  102   3091   8043\n",
       "1     AAACATTTCCCGGATT.1  61   97   3493   9501\n",
       "2     AAACCCGAACGAAATC.1  45  115   2088   7392\n",
       "3     AAACCTAAGCAGCCGG.1  65   83   4571  10019\n",
       "4     AAACGAGACGGTTGAT.1  35   79   4822   6024\n",
       "...                  ...  ..  ...    ...    ...\n",
       "1798  TTGTGTATGCCACCAA.1  56   60   6313   8797\n",
       "1799  TTGTGTTTCCCGAAAG.1  51   59   6380   8131\n",
       "1800  TTGTTAGCAAATTCGA.1  22   42   7627   4256\n",
       "1801  TTGTTCAGTGTGCTAC.1  24   64   5948   4545\n",
       "1802  TTGTTGTGTGTCAAGA.1  31   77   4967   5490\n",
       "\n",
       "[1803 rows x 5 columns]"
      ]
     },
     "execution_count": 140,
     "metadata": {},
     "output_type": "execute_result"
    }
   ],
   "source": [
    "adata.obs"
   ]
  }
 ],
 "metadata": {
  "kernelspec": {
   "display_name": "base",
   "language": "python",
   "name": "python3"
  },
  "language_info": {
   "codemirror_mode": {
    "name": "ipython",
    "version": 3
   },
   "file_extension": ".py",
   "mimetype": "text/x-python",
   "name": "python",
   "nbconvert_exporter": "python",
   "pygments_lexer": "ipython3",
   "version": "3.9.12"
  },
  "orig_nbformat": 4,
  "vscode": {
   "interpreter": {
    "hash": "88663499456d480d46c7df34b11eb32c15cdba655664b171fe49b4693bc922f2"
   }
  }
 },
 "nbformat": 4,
 "nbformat_minor": 2
}
