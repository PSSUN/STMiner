{
 "cells": [
  {
   "cell_type": "code",
   "execution_count": 13,
   "metadata": {},
   "outputs": [],
   "source": [
    "import scanpy as sc\n",
    "import pandas as pd\n",
    "import numpy as np\n",
    "import seaborn as sns\n",
    "\n",
    "from anndata import AnnData"
   ]
  },
  {
   "cell_type": "code",
   "execution_count": 19,
   "metadata": {},
   "outputs": [],
   "source": [
    "# index_col = 0 -> Set the first column as row name\n",
    "raw_df = pd.read_csv('./brainCscaleddata.csv',\n",
    "                     sep=',',\n",
    "                     index_col=0).T\n"
   ]
  },
  {
   "cell_type": "code",
   "execution_count": 20,
   "metadata": {},
   "outputs": [],
   "source": [
    "adata = AnnData(X=raw_df, dtype=np.float32)\n"
   ]
  },
  {
   "cell_type": "code",
   "execution_count": 24,
   "metadata": {},
   "outputs": [
    {
     "data": {
      "text/plain": [
       "array([[ 0.,  0.,  0., ...,  0.,  0., 20.],\n",
       "       [ 0.,  0.,  0., ...,  0.,  0., 15.],\n",
       "       [ 0.,  0.,  0., ...,  0.,  0.,  8.],\n",
       "       ...,\n",
       "       [ 0.,  0.,  1., ...,  0.,  0., 15.],\n",
       "       [ 0.,  0.,  0., ...,  0.,  0.,  5.],\n",
       "       [ 0.,  0.,  0., ...,  0.,  0.,  4.]], dtype=float32)"
      ]
     },
     "execution_count": 24,
     "metadata": {},
     "output_type": "execute_result"
    }
   ],
   "source": [
    "adata.X"
   ]
  }
 ],
 "metadata": {
  "kernelspec": {
   "display_name": "base",
   "language": "python",
   "name": "python3"
  },
  "language_info": {
   "codemirror_mode": {
    "name": "ipython",
    "version": 3
   },
   "file_extension": ".py",
   "mimetype": "text/x-python",
   "name": "python",
   "nbconvert_exporter": "python",
   "pygments_lexer": "ipython3",
   "version": "3.9.12"
  },
  "orig_nbformat": 4,
  "vscode": {
   "interpreter": {
    "hash": "88663499456d480d46c7df34b11eb32c15cdba655664b171fe49b4693bc922f2"
   }
  }
 },
 "nbformat": 4,
 "nbformat_minor": 2
}
